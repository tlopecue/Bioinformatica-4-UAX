{
 "cells": [
  {
   "cell_type": "markdown",
   "id": "eaebb484",
   "metadata": {},
   "source": [
    "# TRABAJO DE PYTHON\n",
    "\n",
    "### Este trabajo cuenta el 30% de la nota. \n",
    "\n",
    "### Resuelve los siguientes ejercicios en Python\n",
    "\n",
    "#### Utiliza tantas celdas de código como necesites"
   ]
  },
  {
   "cell_type": "markdown",
   "id": "98d4d480",
   "metadata": {},
   "source": [
    "#### 1.- Carga el archivo *\"archivo.txt\"* en este Jupyter Notebook y guarda su contenido en una lista. (1 pto)"
   ]
  },
  {
   "cell_type": "code",
   "execution_count": 7,
   "id": "f6b21b23",
   "metadata": {},
   "outputs": [
    {
     "data": {
      "text/plain": [
       "['>CP043953.1 Acinetobacter baumannii strain K09-14 chromosome, complete genome\\n',\n",
       " 'ATGCTTTGGACAGACTGCTTAACTCGCTTGCGACAAGAGCTCTCTGATAACGTCTTTGCGATGTGGATTCGCCCTTTAGTAGCTGAAGAAGTAGAGGGGATACTACGTCTCTATGCTCCTAATCCTTATTGGACGCGTTATATTCAAGAGAATCATTTAGAGTTAATTTCTATATTGGCTGAACAATTGTCAGAAGGGCGGGTGCGTCAGGTTGAAATCTTGGTAGATTCTCGTCCTGGTAGTATTTTGTCTTCTAGTGAACAGCCTGCAACAACTACAGCAGCTTTACAAACTGCCCCTATACCTCAACCTGCTAAGGTTAAAAGAGAACCGGAACCTGTTGCTAATACTGCAGTTAGTTCTAAGAGTTCAAAAAAGAAACTATTAAATCCACAATTTACTTTTTCACTATTTGTTGAAGGCCGTTCTAACCAAATGGCAGCAGAAACCTGTAGAAAAGTATTAACACAGTTAGGTGCTTCTCAACATAACCCTTTGTTTTTATATGGTCCGACAGGTCTAGGTAAGACTCACTTAATGCAAGCAGTTGGTAATGCCCTACTGCAAGCGAAGCCGAATGCAAGAGTCATGTATATGACTTCAGAAAGTTTTGTACAAGATTTTGTGAGCTCATTACAAAAAGGAAAGGTAGAAGAGTTTAAGAAAAATTGCCGTTCTTTAGACTTGTTATTAGTAGATGATATTCATCTTTTGGCAGGAAAAGAAGCAAGTCTCGTTGAATTCTTCTATACATTTAATGCCTTACTTGATGAATCTAAACAAATTATTTTAACGTCTGATCGATATCCTAAAGAATTAACAGAACTTGATCCTCGATTGGTTTCTCGTTTTTCCTGGGGGCTATCAGTAGGTGTTGAACCACCTGATATTGAAACTCGAATCGAAATTCTGCTTAAAAAAGCTGAAAATAGTGGCGTTGATTTACCTAGAAACTGTGCGTTGTTTATTGCCCAACAAGTCGTAGCGAACGTACGTGAACTTGAGGGCGCACTGAATAAAGTTGTCGCAATTTCACGTTTTAAAGGTGCTCCAATTGACCTGGATGTCGTACGGGAATCTTTAAAAGATGTTTTAGCGATCCGTGCTCGTACAATTAGTGTAGAAAATATCCAGCGTGTAGTGAGTGAATATTTCCGAATTCCATTAAAAGAGCTGGTAGGTCCAAAGCGTACCCGAATTTATGCTCGACCACGTCAGTTGGCGATGGGGCTTGCCCGTGAATTAACGGGGGATAGTTTTCCTGAAATTGGAATGGCTTTTGGTGGGCGTGATCACAGTACAGTGATGCATGCTTGTGAAAAAGTCGTC']"
      ]
     },
     "execution_count": 7,
     "metadata": {},
     "output_type": "execute_result"
    }
   ],
   "source": [
    "mi_archivo=open('archivo.txt')\n",
    "mi_lista=mi_archivo.readlines()\n",
    "mi_lista"
   ]
  },
  {
   "cell_type": "markdown",
   "id": "400fa3f1",
   "metadata": {},
   "source": [
    "#### 2.- Muestre el encabezado y la secuencia y guarde cada uno en variables separadas. Elimine el elemento \"\\n\" del encabezado con replace(). ¿Cual es la longitud de la secuencia?. (1 pto)"
   ]
  },
  {
   "cell_type": "code",
   "execution_count": 9,
   "id": "154b42b2",
   "metadata": {},
   "outputs": [
    {
     "name": "stdout",
     "output_type": "stream",
     "text": [
      ">CP043953.1 Acinetobacter baumannii strain K09-14 chromosome, complete genome\n",
      "ATGCTTTGGACAGACTGCTTAACTCGCTTGCGACAAGAGCTCTCTGATAACGTCTTTGCGATGTGGATTCGCCCTTTAGTAGCTGAAGAAGTAGAGGGGATACTACGTCTCTATGCTCCTAATCCTTATTGGACGCGTTATATTCAAGAGAATCATTTAGAGTTAATTTCTATATTGGCTGAACAATTGTCAGAAGGGCGGGTGCGTCAGGTTGAAATCTTGGTAGATTCTCGTCCTGGTAGTATTTTGTCTTCTAGTGAACAGCCTGCAACAACTACAGCAGCTTTACAAACTGCCCCTATACCTCAACCTGCTAAGGTTAAAAGAGAACCGGAACCTGTTGCTAATACTGCAGTTAGTTCTAAGAGTTCAAAAAAGAAACTATTAAATCCACAATTTACTTTTTCACTATTTGTTGAAGGCCGTTCTAACCAAATGGCAGCAGAAACCTGTAGAAAAGTATTAACACAGTTAGGTGCTTCTCAACATAACCCTTTGTTTTTATATGGTCCGACAGGTCTAGGTAAGACTCACTTAATGCAAGCAGTTGGTAATGCCCTACTGCAAGCGAAGCCGAATGCAAGAGTCATGTATATGACTTCAGAAAGTTTTGTACAAGATTTTGTGAGCTCATTACAAAAAGGAAAGGTAGAAGAGTTTAAGAAAAATTGCCGTTCTTTAGACTTGTTATTAGTAGATGATATTCATCTTTTGGCAGGAAAAGAAGCAAGTCTCGTTGAATTCTTCTATACATTTAATGCCTTACTTGATGAATCTAAACAAATTATTTTAACGTCTGATCGATATCCTAAAGAATTAACAGAACTTGATCCTCGATTGGTTTCTCGTTTTTCCTGGGGGCTATCAGTAGGTGTTGAACCACCTGATATTGAAACTCGAATCGAAATTCTGCTTAAAAAAGCTGAAAATAGTGGCGTTGATTTACCTAGAAACTGTGCGTTGTTTATTGCCCAACAAGTCGTAGCGAACGTACGTGAACTTGAGGGCGCACTGAATAAAGTTGTCGCAATTTCACGTTTTAAAGGTGCTCCAATTGACCTGGATGTCGTACGGGAATCTTTAAAAGATGTTTTAGCGATCCGTGCTCGTACAATTAGTGTAGAAAATATCCAGCGTGTAGTGAGTGAATATTTCCGAATTCCATTAAAAGAGCTGGTAGGTCCAAAGCGTACCCGAATTTATGCTCGACCACGTCAGTTGGCGATGGGGCTTGCCCGTGAATTAACGGGGGATAGTTTTCCTGAAATTGGAATGGCTTTTGGTGGGCGTGATCACAGTACAGTGATGCATGCTTGTGAAAAAGTCGTC\n",
      "1329\n"
     ]
    }
   ],
   "source": [
    "secuencia= mi_lista[1]\n",
    "encabezado= mi_lista[0].replace('\\n', '')\n",
    "# encabezado + secuencia \n",
    "longitud= len(secuencia)\n",
    "print (encabezado)\n",
    "print (secuencia)\n",
    "print (longitud)\n"
   ]
  },
  {
   "cell_type": "markdown",
   "id": "36b8c00d",
   "metadata": {},
   "source": [
    "#### 3.- Para el encabezado, extrae empleando expresiones regulares el identificador. (1pto)"
   ]
  },
  {
   "cell_type": "code",
   "execution_count": 7,
   "id": "d845bb81",
   "metadata": {},
   "outputs": [
    {
     "name": "stdout",
     "output_type": "stream",
     "text": [
      "CP043953.1\n"
     ]
    }
   ],
   "source": [
    "import re \n",
    "p= re.search(r\"\\w{2}\\d{6}\\.{1}\\d{1}\", encabezado)\n",
    "p_pattern=p.group()\n",
    "print(p_pattern)"
   ]
  },
  {
   "cell_type": "markdown",
   "id": "f38fdda0",
   "metadata": {},
   "source": [
    "#### 4.- Para la secuencia, haz un algoritmo que vaya sumando el numero de adeninas (A) y timinas (T) segun vaya iterando por la secuencia. El numero total de adeninas y timinas deberia guardarse en una misma variable. (1 pto)"
   ]
  },
  {
   "cell_type": "code",
   "execution_count": 9,
   "id": "2914b1f2",
   "metadata": {},
   "outputs": [
    {
     "data": {
      "text/plain": [
       "793"
      ]
     },
     "execution_count": 9,
     "metadata": {},
     "output_type": "execute_result"
    }
   ],
   "source": [
    "total_AT=0\n",
    "for base in secuencia:\n",
    "    if base=='A' or base=='T':\n",
    "        total_AT += 1\n",
    "\n",
    "total_AT"
   ]
  },
  {
   "cell_type": "markdown",
   "id": "98096e73",
   "metadata": {},
   "source": [
    "#### 5.- Escribe una funcion que calcule el porcentaje de un nucleotido de una secuencia y que examine la entrada para comprobar que se ha introducido un nucleotido de los cuatro tipos que hay (A, T, G o C). Devuelve el resultado con un decimal. Por ultimo comprueba que tu codigo funciona con las siguientes *assertions*. (1 pto)"
   ]
  },
  {
   "cell_type": "code",
   "execution_count": 11,
   "id": "c334d379-5313-4795-9a71-f8a42ab72b19",
   "metadata": {},
   "outputs": [],
   "source": [
    "def calculo_porcentaje (nucleotido, secuencia):\n",
    "    nucleotido_total=secuencia.count(nucleotido)\n",
    "    porcentaje=nucleotido_total/ len(secuencia)*100\n",
    "    return round(porcentaje,1)\n"
   ]
  },
  {
   "cell_type": "code",
   "execution_count": 13,
   "id": "7fcccd88-1ce2-44fa-8db3-c0bee46ea63b",
   "metadata": {},
   "outputs": [
    {
     "data": {
      "text/plain": [
       "18.3"
      ]
     },
     "execution_count": 13,
     "metadata": {},
     "output_type": "execute_result"
    }
   ],
   "source": [
    "nucleotido=\"C\"\n",
    "calculo_porcentaje(nucleotido,secuencia)"
   ]
  },
  {
   "cell_type": "code",
   "execution_count": 15,
   "id": "aff322a6-ab68-43a6-aa5a-820ef212de03",
   "metadata": {},
   "outputs": [
    {
     "data": {
      "text/plain": [
       "29.2"
      ]
     },
     "execution_count": 15,
     "metadata": {},
     "output_type": "execute_result"
    }
   ],
   "source": [
    "nucleotido='A'\n",
    "calculo_porcentaje(nucleotido,secuencia)"
   ]
  },
  {
   "cell_type": "code",
   "execution_count": 17,
   "id": "845ff477-3a2d-41f2-9fb6-98bbd0070428",
   "metadata": {},
   "outputs": [
    {
     "data": {
      "text/plain": [
       "30.5"
      ]
     },
     "execution_count": 17,
     "metadata": {},
     "output_type": "execute_result"
    }
   ],
   "source": [
    "nucleotido='T'\n",
    "calculo_porcentaje(nucleotido,secuencia)"
   ]
  },
  {
   "cell_type": "code",
   "execution_count": 19,
   "id": "70d4c569-af05-4c0b-8046-33700cd45ee1",
   "metadata": {},
   "outputs": [
    {
     "data": {
      "text/plain": [
       "22.0"
      ]
     },
     "execution_count": 19,
     "metadata": {},
     "output_type": "execute_result"
    }
   ],
   "source": [
    "nucleotido='G'\n",
    "calculo_porcentaje(nucleotido,secuencia)"
   ]
  },
  {
   "cell_type": "code",
   "execution_count": 21,
   "id": "df4b86c4",
   "metadata": {},
   "outputs": [],
   "source": [
    "assert calculo_porcentaje(\"A\",secuencia) == 29.2\n",
    "assert calculo_porcentaje(\"T\",secuencia) == 30.5\n",
    "assert calculo_porcentaje(\"G\",secuencia) == 22.0\n",
    "assert calculo_porcentaje(\"C\",secuencia) == 18.3"
   ]
  },
  {
   "cell_type": "markdown",
   "id": "a28888dd",
   "metadata": {},
   "source": [
    "#### 6.- Devuelve la secuencia de ARN que surgiría a partir de la siguiente secuencia. Recuerda que la secuencia de ARN resultante tiene que ser complementaria a la de ADN y además, hay que cambiar un nucleótido. (1 pto)"
   ]
  },
  {
   "cell_type": "code",
   "execution_count": 62,
   "id": "595c559e-df1b-4912-957f-2afa2a8ec42e",
   "metadata": {},
   "outputs": [
    {
     "data": {
      "text/plain": [
       "'ATGCTTTGGACAGACTGCTTAACTCGCTTGCGACAAGAGCTCTCTGATAACGTCTTTGCGATGTGGATTCGCCCTTTAGTAGCTGAAGAAGTAGAGGGGATACTACGTCTCTATGCTCCTAATCCTTATTGGACGCGTTATATTCAAGAGAATCATTTAGAGTTAATTTCTATATTGGCTGAACAATTGTCAGAAGGGCGGGTGCGTCAGGTTGAAATCTTGGTAGATTCTCGTCCTGGTAGTATTTTGTCTTCTAGTGAACAGCCTGCAACAACTACAGCAGCTTTACAAACTGCCCCTATACCTCAACCTGCTAAGGTTAAAAGAGAACCGGAACCTGTTGCTAATACTGCAGTTAGTTCTAAGAGTTCAAAAAAGAAACTATTAAATCCACAATTTACTTTTTCACTATTTGTTGAAGGCCGTTCTAACCAAATGGCAGCAGAAACCTGTAGAAAAGTATTAACACAGTTAGGTGCTTCTCAACATAACCCTTTGTTTTTATATGGTCCGACAGGTCTAGGTAAGACTCACTTAATGCAAGCAGTTGGTAATGCCCTACTGCAAGCGAAGCCGAATGCAAGAGTCATGTATATGACTTCAGAAAGTTTTGTACAAGATTTTGTGAGCTCATTACAAAAAGGAAAGGTAGAAGAGTTTAAGAAAAATTGCCGTTCTTTAGACTTGTTATTAGTAGATGATATTCATCTTTTGGCAGGAAAAGAAGCAAGTCTCGTTGAATTCTTCTATACATTTAATGCCTTACTTGATGAATCTAAACAAATTATTTTAACGTCTGATCGATATCCTAAAGAATTAACAGAACTTGATCCTCGATTGGTTTCTCGTTTTTCCTGGGGGCTATCAGTAGGTGTTGAACCACCTGATATTGAAACTCGAATCGAAATTCTGCTTAAAAAAGCTGAAAATAGTGGCGTTGATTTACCTAGAAACTGTGCGTTGTTTATTGCCCAACAAGTCGTAGCGAACGTACGTGAACTTGAGGGCGCACTGAATAAAGTTGTCGCAATTTCACGTTTTAAAGGTGCTCCAATTGACCTGGATGTCGTACGGGAATCTTTAAAAGATGTTTTAGCGATCCGTGCTCGTACAATTAGTGTAGAAAATATCCAGCGTGTAGTGAGTGAATATTTCCGAATTCCATTAAAAGAGCTGGTAGGTCCAAAGCGTACCCGAATTTATGCTCGACCACGTCAGTTGGCGATGGGGCTTGCCCGTGAATTAACGGGGGATAGTTTTCCTGAAATTGGAATGGCTTTTGGTGGGCGTGATCACAGTACAGTGATGCATGCTTGTGAAAAAGTCGTC'"
      ]
     },
     "execution_count": 62,
     "metadata": {},
     "output_type": "execute_result"
    }
   ],
   "source": [
    "secuencia"
   ]
  },
  {
   "cell_type": "code",
   "execution_count": 71,
   "id": "b27feabb",
   "metadata": {},
   "outputs": [
    {
     "data": {
      "text/plain": [
       "'TACGAAACCTGTCTGACGAATTGAGCGAACGCTGTTCTCGAGAGACTATTGCAGAAACGCTACACCTAAGCGGGAAATCATCGACTTCTTCATCTCCCCTATGATGCAGAGATACGAGGATTAGGAATAACCTGCGCAATATAAGTTCTCTTAGTAAATCTCAATTAAAGATATAACCGACTTGTTAACAGTCTTCCCGCCCACGCAGTCCAACTTTAGAACCATCTAAGAGCAGGACCATCATAAAACAGAAGATCACTTGTCGGACGTTGTTGATGTCGTCGAAATGTTTGACGGGGATATGGAGTTGGACGATTCCAATTTTCTCTTGGCCTTGGACAACGATTATGACGTCAATCAAGATTCTCAAGTTTTTTCTTTGATAATTTAGGTGTTAAATGAAAAAGTGATAAACAACTTCCGGCAAGATTGGTTTACCGTCGTCTTTGGACATCTTTTCATAATTGTGTCAATCCACGAAGAGTTGTATTGGGAAACAAAAATATACCAGGCTGTCCAGATCCATTCTGAGTGAATTACGTTCGTCAACCATTACGGGATGACGTTCGCTTCGGCTTACGTTCTCAGTACATATACTGAAGTCTTTCAAAACATGTTCTAAAACACTCGAGTAATGTTTTTCCTTTCCATCTTCTCAAATTCTTTTTAACGGCAAGAAATCTGAACAATAATCATCTACTATAAGTAGAAAACCGTCCTTTTCTTCGTTCAGAGCAACTTAAGAAGATATGTAAATTACGGAATGAACTACTTAGATTTGTTTAATAAAATTGCAGACTAGCTATAGGATTTCTTAATTGTCTTGAACTAGGAGCTAACCAAAGAGCAAAAAGGACCCCCGATAGTCATCCACAACTTGGTGGACTATAACTTTGAGCTTAGCTTTAAGACGAATTTTTTCGACTTTTATCACCGCAACTAAATGGATCTTTGACACGCAACAAATAACGGGTTGTTCAGCATCGCTTGCATGCACTTGAACTCCCGCGTGACTTATTTCAACAGCGTTAAAGTGCAAAATTTCCACGAGGTTAACTGGACCTACAGCATGCCCTTAGAAATTTTCTACAAAATCGCTAGGCACGAGCATGTTAATCACATCTTTTATAGGTCGCACATCACTCACTTATAAAGGCTTAAGGTAATTTTCTCGACCATCCAGGTTTCGCATGGGCTTAAATACGAGCTGGTGCAGTCAACCGCTACCCCGAACGGGCACTTAATTGCCCCCTATCAAAAGGACTTTAACCTTACCGAAAACCACCCGCACTAGTGTCATGTCACTACGTACGAACACTTTTTCAGCAG'"
      ]
     },
     "execution_count": 71,
     "metadata": {},
     "output_type": "execute_result"
    }
   ],
   "source": [
    "secuencia\n",
    "\n",
    "lista_secuencia=[]\n",
    "for nt in secuencia:\n",
    "    if nt=='A':\n",
    "        lista_secuencia.append('T')\n",
    "    elif nt=='C':\n",
    "        lista_secuencia.append('G')\n",
    "    elif nt=='G':\n",
    "        lista_secuencia.append('C')\n",
    "    elif nt=='T':\n",
    "        lista_secuencia.append('A')\n",
    "    else:\n",
    "        print('ERROR')\n",
    "adn_complementario=''.join(lista_secuencia)\n",
    "adn_complementario"
   ]
  },
  {
   "cell_type": "code",
   "execution_count": 73,
   "id": "2b4271b3-6c1a-4d6b-84ed-a308c744d254",
   "metadata": {},
   "outputs": [
    {
     "data": {
      "text/plain": [
       "'UACGAAACCUGUCUGACGAAUUGAGCGAACGCUGUUCUCGAGAGACUAUUGCAGAAACGCUACACCUAAGCGGGAAAUCAUCGACUUCUUCAUCUCCCCUAUGAUGCAGAGAUACGAGGAUUAGGAAUAACCUGCGCAAUAUAAGUUCUCUUAGUAAAUCUCAAUUAAAGAUAUAACCGACUUGUUAACAGUCUUCCCGCCCACGCAGUCCAACUUUAGAACCAUCUAAGAGCAGGACCAUCAUAAAACAGAAGAUCACUUGUCGGACGUUGUUGAUGUCGUCGAAAUGUUUGACGGGGAUAUGGAGUUGGACGAUUCCAAUUUUCUCUUGGCCUUGGACAACGAUUAUGACGUCAAUCAAGAUUCUCAAGUUUUUUCUUUGAUAAUUUAGGUGUUAAAUGAAAAAGUGAUAAACAACUUCCGGCAAGAUUGGUUUACCGUCGUCUUUGGACAUCUUUUCAUAAUUGUGUCAAUCCACGAAGAGUUGUAUUGGGAAACAAAAAUAUACCAGGCUGUCCAGAUCCAUUCUGAGUGAAUUACGUUCGUCAACCAUUACGGGAUGACGUUCGCUUCGGCUUACGUUCUCAGUACAUAUACUGAAGUCUUUCAAAACAUGUUCUAAAACACUCGAGUAAUGUUUUUCCUUUCCAUCUUCUCAAAUUCUUUUUAACGGCAAGAAAUCUGAACAAUAAUCAUCUACUAUAAGUAGAAAACCGUCCUUUUCUUCGUUCAGAGCAACUUAAGAAGAUAUGUAAAUUACGGAAUGAACUACUUAGAUUUGUUUAAUAAAAUUGCAGACUAGCUAUAGGAUUUCUUAAUUGUCUUGAACUAGGAGCUAACCAAAGAGCAAAAAGGACCCCCGAUAGUCAUCCACAACUUGGUGGACUAUAACUUUGAGCUUAGCUUUAAGACGAAUUUUUUCGACUUUUAUCACCGCAACUAAAUGGAUCUUUGACACGCAACAAAUAACGGGUUGUUCAGCAUCGCUUGCAUGCACUUGAACUCCCGCGUGACUUAUUUCAACAGCGUUAAAGUGCAAAAUUUCCACGAGGUUAACUGGACCUACAGCAUGCCCUUAGAAAUUUUCUACAAAAUCGCUAGGCACGAGCAUGUUAAUCACAUCUUUUAUAGGUCGCACAUCACUCACUUAUAAAGGCUUAAGGUAAUUUUCUCGACCAUCCAGGUUUCGCAUGGGCUUAAAUACGAGCUGGUGCAGUCAACCGCUACCCCGAACGGGCACUUAAUUGCCCCCUAUCAAAAGGACUUUAACCUUACCGAAAACCACCCGCACUAGUGUCAUGUCACUACGUACGAACACUUUUUCAGCAG'"
      ]
     },
     "execution_count": 73,
     "metadata": {},
     "output_type": "execute_result"
    }
   ],
   "source": [
    "secuencia_ARN=adn_complementario.replace('T', 'U')\n",
    "secuencia_ARN"
   ]
  },
  {
   "cell_type": "markdown",
   "id": "9f94d5dd",
   "metadata": {},
   "source": [
    "#### 7.- Realiza una función que realice una digestión con las siguientes enzimas de restricción en nuestra secuencia. La función tiene que devolver la siguiente información: (2 pto)\n",
    "1. Enzimas que tienen sitios de corte en la secuencia y posición (o posiciones de corte)\n",
    "2. Enzimas que no tienen sitios de corte (si las hay)\n",
    "5. Resultado de la digestión: los fragmentos resultantes de nuestra secuencia\n",
    "6. Indicar número y tamaño de cada fragmento"
   ]
  },
  {
   "cell_type": "code",
   "execution_count": 198,
   "id": "1cab833c",
   "metadata": {},
   "outputs": [],
   "source": [
    "enzR = {\n",
    "    'HindIII' : 'A*AGCTT',\n",
    "    'BamHI' : 'G*GATCC',\n",
    "    'AluI' : 'AG*CT',\n",
    "    'Sau3AI' : '*GATC',\n",
    "    'EcoRI' : 'G*AATTC'\n",
    "}"
   ]
  },
  {
   "cell_type": "code",
   "execution_count": 10,
   "id": "115ed3b5-fd53-4a7d-b5d2-518c9e46e9cc",
   "metadata": {},
   "outputs": [
    {
     "data": {
      "text/plain": [
       "str"
      ]
     },
     "execution_count": 10,
     "metadata": {},
     "output_type": "execute_result"
    }
   ],
   "source": [
    "type('enzR')"
   ]
  },
  {
   "cell_type": "code",
   "execution_count": 200,
   "id": "1cf6a47f-1460-4935-a64f-66168024e107",
   "metadata": {},
   "outputs": [
    {
     "data": {
      "text/plain": [
       "'ATGCTTTGGACAGACTGCTTAACTCGCTTGCGACAAGAGCTCTCTGATAACGTCTTTGCGATGTGGATTCGCCCTTTAGTAGCTGAAGAAGTAGAGGGGATACTACGTCTCTATGCTCCTAATCCTTATTGGACGCGTTATATTCAAGAGAATCATTTAGAGTTAATTTCTATATTGGCTGAACAATTGTCAGAAGGGCGGGTGCGTCAGGTTGAAATCTTGGTAGATTCTCGTCCTGGTAGTATTTTGTCTTCTAGTGAACAGCCTGCAACAACTACAGCAGCTTTACAAACTGCCCCTATACCTCAACCTGCTAAGGTTAAAAGAGAACCGGAACCTGTTGCTAATACTGCAGTTAGTTCTAAGAGTTCAAAAAAGAAACTATTAAATCCACAATTTACTTTTTCACTATTTGTTGAAGGCCGTTCTAACCAAATGGCAGCAGAAACCTGTAGAAAAGTATTAACACAGTTAGGTGCTTCTCAACATAACCCTTTGTTTTTATATGGTCCGACAGGTCTAGGTAAGACTCACTTAATGCAAGCAGTTGGTAATGCCCTACTGCAAGCGAAGCCGAATGCAAGAGTCATGTATATGACTTCAGAAAGTTTTGTACAAGATTTTGTGAGCTCATTACAAAAAGGAAAGGTAGAAGAGTTTAAGAAAAATTGCCGTTCTTTAGACTTGTTATTAGTAGATGATATTCATCTTTTGGCAGGAAAAGAAGCAAGTCTCGTTGAATTCTTCTATACATTTAATGCCTTACTTGATGAATCTAAACAAATTATTTTAACGTCTGATCGATATCCTAAAGAATTAACAGAACTTGATCCTCGATTGGTTTCTCGTTTTTCCTGGGGGCTATCAGTAGGTGTTGAACCACCTGATATTGAAACTCGAATCGAAATTCTGCTTAAAAAAGCTGAAAATAGTGGCGTTGATTTACCTAGAAACTGTGCGTTGTTTATTGCCCAACAAGTCGTAGCGAACGTACGTGAACTTGAGGGCGCACTGAATAAAGTTGTCGCAATTTCACGTTTTAAAGGTGCTCCAATTGACCTGGATGTCGTACGGGAATCTTTAAAAGATGTTTTAGCGATCCGTGCTCGTACAATTAGTGTAGAAAATATCCAGCGTGTAGTGAGTGAATATTTCCGAATTCCATTAAAAGAGCTGGTAGGTCCAAAGCGTACCCGAATTTATGCTCGACCACGTCAGTTGGCGATGGGGCTTGCCCGTGAATTAACGGGGGATAGTTTTCCTGAAATTGGAATGGCTTTTGGTGGGCGTGATCACAGTACAGTGATGCATGCTTGTGAAAAAGTCGTC'"
      ]
     },
     "execution_count": 200,
     "metadata": {},
     "output_type": "execute_result"
    }
   ],
   "source": [
    "secuencia "
   ]
  },
  {
   "cell_type": "code",
   "execution_count": 231,
   "id": "560c1bbd-6f69-4b43-b2df-a210a6c21c3e",
   "metadata": {},
   "outputs": [],
   "source": [
    "import re\n",
    "\n",
    "def digestion_secuencia (enzR, secuencia):\n",
    "    enzimas_cortan = {} \n",
    "    enzimas_no_cortan = list(enzR.keys())\n",
    "\n",
    "    for enzima, patron in enzR.items():  #enzima:sitio de corte, en la biblioteca\n",
    "        posiciones_corte=[]\n",
    "        patron_sin_asterisco= patron.replace('*','')\n",
    "        posicion_asterisco= patron.index('*')\n",
    "        matches= re.finditer(patron_sin_asterisco, secuencia)\n",
    "\n",
    "        for match in matches:\n",
    "            posicion_corte= match.start()+posicion_asterisco\n",
    "            posiciones_corte.append(posicion_corte)\n",
    "\n",
    "            if posiciones_corte:\n",
    "                enzimas_cortan[enzima]=posiciones_corte\n",
    "                if enzima in enzimas_no_cortan:  \n",
    "                    enzimas_no_cortan.remove(enzima)\n",
    "                \n",
    "\n",
    "    puntos_corte_final=[]\n",
    "    for key, valor in enzimas_cortan.items():\n",
    "        for i in valor:\n",
    "            puntos_corte_final.append(i)\n",
    "        \n",
    "    puntos_corte_final.sort()\n",
    "    \n",
    "    lista_fragmentos=[]\n",
    "    for i in range(len(puntos_corte_final)):\n",
    "        if i == 0: \n",
    "            fragmento = secuencia[0:puntos_corte_final[0]+1]\n",
    "            lista_fragmentos.append(fragmento)\n",
    "            \n",
    "        elif i == len(puntos_corte_final)-1:\n",
    "            fragmento = secuencia[puntos_corte_final[-1]:]\n",
    "            lista_fragmentos.append(fragmento)\n",
    "            \n",
    "        else:\n",
    "            fragmento = secuencia[puntos_corte_final[i-1]+1:puntos_corte_final[i]+1]\n",
    "            lista_fragmentos.append(fragmento)\n",
    "\n",
    "    longitudes=[]\n",
    "    for fragmento in lista_fragmentos:\n",
    "        longitud_fragmento=len(fragmento)\n",
    "        longitudes.append(longitud_fragmento)\n",
    "            \n",
    "\n",
    "    print('Estas son las enzimas que cortan en nuestra secuencia:', enzimas_cortan)\n",
    "    print('Estas son las enzimas que no cortan en nuestra secuencia:', enzimas_no_cortan)\n",
    "    print('Estas son las longitudes de cada fragmento cortado:', longitudes)\n",
    "    print('Esta es la cantidad de fragmentos:', len(lista_fragmentos))\n",
    "    return lista_fragmentos"
   ]
  },
  {
   "cell_type": "code",
   "execution_count": 233,
   "id": "5fef71b1-a05c-4353-9200-0c4e71a38cb2",
   "metadata": {},
   "outputs": [
    {
     "name": "stdout",
     "output_type": "stream",
     "text": [
      "Estas son las enzimas que cortan en nuestra secuencia: {'AluI': [39, 82, 283, 629, 922, 1173], 'Sau3AI': [798, 828, 1097, 1290], 'EcoRI': [739, 1157]}\n",
      "Estas son las enzimas que no cortan en nuestra secuencia: ['HindIII', 'BamHI']\n",
      "Estas son las longitudes de cada fragmento cortado: [40, 43, 201, 346, 110, 59, 30, 94, 175, 60, 16, 39]\n",
      "Esta es la cantidad de fragmentos: 12\n"
     ]
    },
    {
     "data": {
      "text/plain": [
       "['ATGCTTTGGACAGACTGCTTAACTCGCTTGCGACAAGAGC',\n",
       " 'TCTCTGATAACGTCTTTGCGATGTGGATTCGCCCTTTAGTAGC',\n",
       " 'TGAAGAAGTAGAGGGGATACTACGTCTCTATGCTCCTAATCCTTATTGGACGCGTTATATTCAAGAGAATCATTTAGAGTTAATTTCTATATTGGCTGAACAATTGTCAGAAGGGCGGGTGCGTCAGGTTGAAATCTTGGTAGATTCTCGTCCTGGTAGTATTTTGTCTTCTAGTGAACAGCCTGCAACAACTACAGCAGC',\n",
       " 'TTTACAAACTGCCCCTATACCTCAACCTGCTAAGGTTAAAAGAGAACCGGAACCTGTTGCTAATACTGCAGTTAGTTCTAAGAGTTCAAAAAAGAAACTATTAAATCCACAATTTACTTTTTCACTATTTGTTGAAGGCCGTTCTAACCAAATGGCAGCAGAAACCTGTAGAAAAGTATTAACACAGTTAGGTGCTTCTCAACATAACCCTTTGTTTTTATATGGTCCGACAGGTCTAGGTAAGACTCACTTAATGCAAGCAGTTGGTAATGCCCTACTGCAAGCGAAGCCGAATGCAAGAGTCATGTATATGACTTCAGAAAGTTTTGTACAAGATTTTGTGAGC',\n",
       " 'TCATTACAAAAAGGAAAGGTAGAAGAGTTTAAGAAAAATTGCCGTTCTTTAGACTTGTTATTAGTAGATGATATTCATCTTTTGGCAGGAAAAGAAGCAAGTCTCGTTGA',\n",
       " 'ATTCTTCTATACATTTAATGCCTTACTTGATGAATCTAAACAAATTATTTTAACGTCTG',\n",
       " 'ATCGATATCCTAAAGAATTAACAGAACTTG',\n",
       " 'ATCCTCGATTGGTTTCTCGTTTTTCCTGGGGGCTATCAGTAGGTGTTGAACCACCTGATATTGAAACTCGAATCGAAATTCTGCTTAAAAAAGC',\n",
       " 'TGAAAATAGTGGCGTTGATTTACCTAGAAACTGTGCGTTGTTTATTGCCCAACAAGTCGTAGCGAACGTACGTGAACTTGAGGGCGCACTGAATAAAGTTGTCGCAATTTCACGTTTTAAAGGTGCTCCAATTGACCTGGATGTCGTACGGGAATCTTTAAAAGATGTTTTAGCG',\n",
       " 'ATCCGTGCTCGTACAATTAGTGTAGAAAATATCCAGCGTGTAGTGAGTGAATATTTCCGA',\n",
       " 'ATTCCATTAAAAGAGC',\n",
       " 'GATCACAGTACAGTGATGCATGCTTGTGAAAAAGTCGTC']"
      ]
     },
     "execution_count": 233,
     "metadata": {},
     "output_type": "execute_result"
    }
   ],
   "source": [
    "digestion_secuencia(enzR,secuencia)\n",
    "\n"
   ]
  },
  {
   "cell_type": "markdown",
   "id": "cae3c937",
   "metadata": {},
   "source": [
    "#### 8.- Realiza una función que mediante la introducción de una secuencia de ADN devuelva lo siguiente: (2pto)\n",
    "1. La secuencia traducida de proteína\n",
    "2. La longitud de la secuencia de ADN original y la longitud de la secuencia de proteínas final\n",
    "3. El porcentaje de aminoácidos aromáticos (en conjunto y por separado)\n"
   ]
  },
  {
   "cell_type": "code",
   "execution_count": 99,
   "id": "2c0fe96f-e75f-42a7-b375-5af4a6194b31",
   "metadata": {},
   "outputs": [],
   "source": [
    "codones_proteinas = {\n",
    "    'UUU': 'F', 'UUC': 'F', 'UUA': 'L', 'UUG': 'L',\n",
    "    'UCU': 'S', 'UCC': 'S', 'UCA': 'S', 'UCG': 'S',\n",
    "    'UAU': 'Y', 'UAC': 'Y', 'UAA': '-', 'UAG': '-',\n",
    "    'UGU': 'C', 'UGC': 'C', 'UGA': '-', 'UGG': 'W',\n",
    "    'CUU': 'L', 'CUC': 'L', 'CUA': 'L', 'CUG': 'L',\n",
    "    'CCU': 'P', 'CCC': 'P', 'CCA': 'P', 'CCG': 'P',\n",
    "    'CAU': 'H', 'CAC': 'H', 'CAA': 'Q', 'CAG': 'Q',\n",
    "    'CGU': 'R', 'CGC': 'R', 'CGA': 'R', 'CGG': 'R',\n",
    "    'AUU': 'I', 'AUC': 'I', 'AUA': 'I', 'AUG': 'M',\n",
    "    'ACU': 'T', 'ACC': 'T', 'ACA': 'T', 'ACG': 'T',\n",
    "    'AAU': 'N', 'AAC': 'N', 'AAA': 'K', 'AAG': 'K',\n",
    "    'AGU': 'S', 'AGC': 'S', 'AGA': 'R', 'AGG': 'R',\n",
    "    'GUU': 'V', 'GUC': 'V', 'GUA': 'V', 'GUG': 'V',\n",
    "    'GCU': 'A', 'GCC': 'A', 'GCA': 'A', 'GCG': 'A',\n",
    "    'GAU': 'D', 'GAC': 'D', 'GAA': 'E', 'GAG': 'E',\n",
    "    'GGU': 'G', 'GGC': 'G', 'GGA': 'G', 'GGG': 'G'\n",
    "}"
   ]
  },
  {
   "cell_type": "code",
   "execution_count": 75,
   "id": "3bb3184e-60c9-4ea1-a4cf-a4fbaf6406e2",
   "metadata": {},
   "outputs": [
    {
     "data": {
      "text/plain": [
       "'UACGAAACCUGUCUGACGAAUUGAGCGAACGCUGUUCUCGAGAGACUAUUGCAGAAACGCUACACCUAAGCGGGAAAUCAUCGACUUCUUCAUCUCCCCUAUGAUGCAGAGAUACGAGGAUUAGGAAUAACCUGCGCAAUAUAAGUUCUCUUAGUAAAUCUCAAUUAAAGAUAUAACCGACUUGUUAACAGUCUUCCCGCCCACGCAGUCCAACUUUAGAACCAUCUAAGAGCAGGACCAUCAUAAAACAGAAGAUCACUUGUCGGACGUUGUUGAUGUCGUCGAAAUGUUUGACGGGGAUAUGGAGUUGGACGAUUCCAAUUUUCUCUUGGCCUUGGACAACGAUUAUGACGUCAAUCAAGAUUCUCAAGUUUUUUCUUUGAUAAUUUAGGUGUUAAAUGAAAAAGUGAUAAACAACUUCCGGCAAGAUUGGUUUACCGUCGUCUUUGGACAUCUUUUCAUAAUUGUGUCAAUCCACGAAGAGUUGUAUUGGGAAACAAAAAUAUACCAGGCUGUCCAGAUCCAUUCUGAGUGAAUUACGUUCGUCAACCAUUACGGGAUGACGUUCGCUUCGGCUUACGUUCUCAGUACAUAUACUGAAGUCUUUCAAAACAUGUUCUAAAACACUCGAGUAAUGUUUUUCCUUUCCAUCUUCUCAAAUUCUUUUUAACGGCAAGAAAUCUGAACAAUAAUCAUCUACUAUAAGUAGAAAACCGUCCUUUUCUUCGUUCAGAGCAACUUAAGAAGAUAUGUAAAUUACGGAAUGAACUACUUAGAUUUGUUUAAUAAAAUUGCAGACUAGCUAUAGGAUUUCUUAAUUGUCUUGAACUAGGAGCUAACCAAAGAGCAAAAAGGACCCCCGAUAGUCAUCCACAACUUGGUGGACUAUAACUUUGAGCUUAGCUUUAAGACGAAUUUUUUCGACUUUUAUCACCGCAACUAAAUGGAUCUUUGACACGCAACAAAUAACGGGUUGUUCAGCAUCGCUUGCAUGCACUUGAACUCCCGCGUGACUUAUUUCAACAGCGUUAAAGUGCAAAAUUUCCACGAGGUUAACUGGACCUACAGCAUGCCCUUAGAAAUUUUCUACAAAAUCGCUAGGCACGAGCAUGUUAAUCACAUCUUUUAUAGGUCGCACAUCACUCACUUAUAAAGGCUUAAGGUAAUUUUCUCGACCAUCCAGGUUUCGCAUGGGCUUAAAUACGAGCUGGUGCAGUCAACCGCUACCCCGAACGGGCACUUAAUUGCCCCCUAUCAAAAGGACUUUAACCUUACCGAAAACCACCCGCACUAGUGUCAUGUCACUACGUACGAACACUUUUUCAGCAG'"
      ]
     },
     "execution_count": 75,
     "metadata": {},
     "output_type": "execute_result"
    }
   ],
   "source": [
    "secuencia_ARN"
   ]
  },
  {
   "cell_type": "code",
   "execution_count": 123,
   "id": "9687ad65-1567-4c0e-b8ca-3b283a22877e",
   "metadata": {},
   "outputs": [
    {
     "data": {
      "text/plain": [
       "'ATGCTTTGGACAGACTGCTTAACTCGCTTGCGACAAGAGCTCTCTGATAACGTCTTTGCGATGTGGATTCGCCCTTTAGTAGCTGAAGAAGTAGAGGGGATACTACGTCTCTATGCTCCTAATCCTTATTGGACGCGTTATATTCAAGAGAATCATTTAGAGTTAATTTCTATATTGGCTGAACAATTGTCAGAAGGGCGGGTGCGTCAGGTTGAAATCTTGGTAGATTCTCGTCCTGGTAGTATTTTGTCTTCTAGTGAACAGCCTGCAACAACTACAGCAGCTTTACAAACTGCCCCTATACCTCAACCTGCTAAGGTTAAAAGAGAACCGGAACCTGTTGCTAATACTGCAGTTAGTTCTAAGAGTTCAAAAAAGAAACTATTAAATCCACAATTTACTTTTTCACTATTTGTTGAAGGCCGTTCTAACCAAATGGCAGCAGAAACCTGTAGAAAAGTATTAACACAGTTAGGTGCTTCTCAACATAACCCTTTGTTTTTATATGGTCCGACAGGTCTAGGTAAGACTCACTTAATGCAAGCAGTTGGTAATGCCCTACTGCAAGCGAAGCCGAATGCAAGAGTCATGTATATGACTTCAGAAAGTTTTGTACAAGATTTTGTGAGCTCATTACAAAAAGGAAAGGTAGAAGAGTTTAAGAAAAATTGCCGTTCTTTAGACTTGTTATTAGTAGATGATATTCATCTTTTGGCAGGAAAAGAAGCAAGTCTCGTTGAATTCTTCTATACATTTAATGCCTTACTTGATGAATCTAAACAAATTATTTTAACGTCTGATCGATATCCTAAAGAATTAACAGAACTTGATCCTCGATTGGTTTCTCGTTTTTCCTGGGGGCTATCAGTAGGTGTTGAACCACCTGATATTGAAACTCGAATCGAAATTCTGCTTAAAAAAGCTGAAAATAGTGGCGTTGATTTACCTAGAAACTGTGCGTTGTTTATTGCCCAACAAGTCGTAGCGAACGTACGTGAACTTGAGGGCGCACTGAATAAAGTTGTCGCAATTTCACGTTTTAAAGGTGCTCCAATTGACCTGGATGTCGTACGGGAATCTTTAAAAGATGTTTTAGCGATCCGTGCTCGTACAATTAGTGTAGAAAATATCCAGCGTGTAGTGAGTGAATATTTCCGAATTCCATTAAAAGAGCTGGTAGGTCCAAAGCGTACCCGAATTTATGCTCGACCACGTCAGTTGGCGATGGGGCTTGCCCGTGAATTAACGGGGGATAGTTTTCCTGAAATTGGAATGGCTTTTGGTGGGCGTGATCACAGTACAGTGATGCATGCTTGTGAAAAAGTCGTC'"
      ]
     },
     "execution_count": 123,
     "metadata": {},
     "output_type": "execute_result"
    }
   ],
   "source": [
    "secuencia"
   ]
  },
  {
   "cell_type": "code",
   "execution_count": 170,
   "id": "949ad271-dfed-41fb-960d-e9f032a80096",
   "metadata": {},
   "outputs": [],
   "source": [
    "def traduccion_proteina(secuencia):\n",
    "    tripletes=[]\n",
    "    for i in range (0,len(secuencia),3):\n",
    "        trip=secuencia[i:i+3]\n",
    "        tripletes.append(trip)\n",
    "\n",
    "    protein=[]\n",
    "    for trip in tripletes:\n",
    "        if codones_proteinas[trip]:\n",
    "            protein.append(codones_proteinas[trip]) \n",
    "            proteina = ''.join(protein)\n",
    "\n",
    "    longitud_ADN=len(secuencia)\n",
    "\n",
    "    fenilalanina=[]\n",
    "    tirosina=[]\n",
    "    triptofano=[]\n",
    "    \n",
    "    for aminoacido in proteina:\n",
    "        if aminoacido == 'F':\n",
    "            fenilalanina.append(aminoacido)\n",
    "        if aminoacido == 'Y':\n",
    "            tirosina.append(aminoacido)\n",
    "        if aminoacido == 'W':\n",
    "            triptofano.append(aminoacido)\n",
    "\n",
    "    total_aromaticos=len(fenilalanina)+len(tirosina)+len(triptofano)\n",
    "    porcentaje_aromaticos= round((total_aromaticos/len(proteina))*100,2)\n",
    "    porcentaje_fenilalanina= round((len(fenilalanina)/len(proteina))*100,2)\n",
    "    porcentaje_tirosina= round((len(tirosina)/len(proteina))*100,2)\n",
    "    porcentaje_triptofano= round((len(triptofano)/len(proteina))*100,2)\n",
    "    \n",
    "    \n",
    "    print('Esta es la longitud de la proteina:', len(proteina))\n",
    "    print('Esta es la longitud del ADN:', longitud_ADN) \n",
    "    print('Este es el total de aminoacidos aromáticos:', total_aromaticos)\n",
    "    print('Este es el porcentaje de aminoacidos aromaticos:', porcentaje_aromaticos)\n",
    "    print('Este es el porcentaje de fenilalanina:', porcentaje_fenilalanina)\n",
    "    print('Este es el porcentaje de tirosina:', porcentaje_tirosina)\n",
    "    print('Este es el porcentaje de triptofano:', porcentaje_triptofano)\n",
    "    return proteina "
   ]
  },
  {
   "cell_type": "code",
   "execution_count": 172,
   "id": "06a846de-26dd-4f0d-a296-7c1986eff9f4",
   "metadata": {},
   "outputs": [
    {
     "name": "stdout",
     "output_type": "stream",
     "text": [
      "Esta es la longitud de la proteina: 443\n",
      "Esta es la longitud del ADN: 1329\n",
      "Este es el total de aminoacidos aromáticos: 38\n",
      "Este es el porcentaje de aminoacidos aromaticos: 8.58\n",
      "Este es el porcentaje de fenilalanina: 5.42\n",
      "Este es el porcentaje de tirosina: 2.71\n",
      "Este es el porcentaje de triptofano: 0.45\n"
     ]
    },
    {
     "data": {
      "text/plain": [
       "'YETCLTN-ANAVLERLLQKRYT-AGNHRLLHLPYDAEIRGLGITCAI-VLLVNLN-RYNRLVNSLPAHAVQL-NHLRAGPS-NRRSLVGRC-CRRNV-RGYGVGRFQFSLGLGQRL-RQSRFSSFFFDNLGVK-KSDKQLPARLVYRRLWTSFHNCVNPRRVVLGNKNIPGCPDPF-VNYVRQPLRDDVRFGLRSQYIY-SLSKHVLKHSSNVFPFHLLKFFLTARNLNNNHLL-VENRPFLRSEQLKKICKLRNELLRFV--NCRLAIGFLNCLELGANQRAKRTPDSHPQLGGL-L-A-L-DEFFRLLSPQLNGSLTRNK-RVVQHRLHALELPRDLFQQR-SAKFPRG-LDLQHALRNFLQNR-ARAC-SHLL-VAHHSLIKA-GNFLDHPGFAWA-IRAGAVNRYPERALNCPLSKGL-PYRKPPALVSCHYVRTLFQQ'"
      ]
     },
     "execution_count": 172,
     "metadata": {},
     "output_type": "execute_result"
    }
   ],
   "source": [
    "traduccion_proteina(secuencia_ARN)"
   ]
  },
  {
   "cell_type": "code",
   "execution_count": null,
   "id": "4e2e49ce-bdbf-49af-9292-1e1a8cebd79d",
   "metadata": {},
   "outputs": [],
   "source": []
  }
 ],
 "metadata": {
  "kernelspec": {
   "display_name": "Python 3 (ipykernel)",
   "language": "python",
   "name": "python3"
  },
  "language_info": {
   "codemirror_mode": {
    "name": "ipython",
    "version": 3
   },
   "file_extension": ".py",
   "mimetype": "text/x-python",
   "name": "python",
   "nbconvert_exporter": "python",
   "pygments_lexer": "ipython3",
   "version": "3.12.4"
  }
 },
 "nbformat": 4,
 "nbformat_minor": 5
}
