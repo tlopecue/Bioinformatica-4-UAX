{
 "cells": [
  {
   "cell_type": "markdown",
   "id": "c4db2a82",
   "metadata": {},
   "source": [
    "### ARCHIVOS"
   ]
  },
  {
   "cell_type": "markdown",
   "id": "a36f6c3d",
   "metadata": {},
   "source": [
    "Python emplea unos file objects para interactuar con los archivos de tu ordenador."
   ]
  },
  {
   "cell_type": "markdown",
   "id": "8852f200",
   "metadata": {},
   "source": [
    "Puede manejar cualquier tipo de archivo, para algunos es posible que necesites librerías adicionales."
   ]
  },
  {
   "cell_type": "markdown",
   "id": "6a138ee9",
   "metadata": {},
   "source": [
    "Podemos abrir archivos con **open()**, leerlos con **read() o readlines()**, cerrarlos con **close()** y escribir en ellos con **write()**. "
   ]
  },
  {
   "cell_type": "markdown",
   "id": "39e31c5a",
   "metadata": {},
   "source": [
    "Usando **open()** y w, w+, a+ nos permite sobreescribir o añadir información a la ya existente."
   ]
  },
  {
   "cell_type": "code",
   "execution_count": 3,
   "id": "40cb0623",
   "metadata": {},
   "outputs": [],
   "source": [
    "# Vamos a abrir el archivo test.txt.\n",
    "mi_archivo=open('test.txt')"
   ]
  },
  {
   "cell_type": "code",
   "execution_count": 5,
   "id": "32d4eef6",
   "metadata": {},
   "outputs": [
    {
     "data": {
      "text/plain": [
       "'Esta es una línea nueva\\nEsta línea va detrás de la anterior\\nY aquí ponemos otra'"
      ]
     },
     "execution_count": 5,
     "metadata": {},
     "output_type": "execute_result"
    }
   ],
   "source": [
    "# Leemos el archivo. \n",
    "mi_archivo.read()"
   ]
  },
  {
   "cell_type": "code",
   "execution_count": 7,
   "id": "444c3f14",
   "metadata": {
    "scrolled": true
   },
   "outputs": [
    {
     "data": {
      "text/plain": [
       "''"
      ]
     },
     "execution_count": 7,
     "metadata": {},
     "output_type": "execute_result"
    }
   ],
   "source": [
    "# Pero, qué pasa si lo leemos más de una vez? Que nos lleva el cursor al final\n",
    "mi_archivo.read()"
   ]
  },
  {
   "cell_type": "code",
   "execution_count": 11,
   "id": "f96508bf",
   "metadata": {},
   "outputs": [
    {
     "data": {
      "text/plain": [
       "['Esta es una línea nueva\\n',\n",
       " 'Esta línea va detrás de la anterior\\n',\n",
       " 'Y aquí ponemos otra']"
      ]
     },
     "execution_count": 11,
     "metadata": {},
     "output_type": "execute_result"
    }
   ],
   "source": [
    "# Podemos reseatear el cursor así\n",
    "mi_archivo.seek(0)\n",
    "mi_archivo.readlines ()"
   ]
  },
  {
   "cell_type": "code",
   "execution_count": 13,
   "id": "dbb682dd",
   "metadata": {},
   "outputs": [
    {
     "data": {
      "text/plain": [
       "''"
      ]
     },
     "execution_count": 13,
     "metadata": {},
     "output_type": "execute_result"
    }
   ],
   "source": [
    "mi_archivo.read()"
   ]
  },
  {
   "cell_type": "code",
   "execution_count": 15,
   "id": "32cbcc63",
   "metadata": {},
   "outputs": [
    {
     "data": {
      "text/plain": [
       "<_io.TextIOWrapper name='test.txt' mode='r' encoding='cp1252'>"
      ]
     },
     "execution_count": 15,
     "metadata": {},
     "output_type": "execute_result"
    }
   ],
   "source": [
    "mi_archivo"
   ]
  },
  {
   "cell_type": "code",
   "execution_count": 17,
   "id": "b54d71ab",
   "metadata": {},
   "outputs": [
    {
     "data": {
      "text/plain": [
       "['Esta es una línea nueva\\n',\n",
       " 'Esta línea va detrás de la anterior\\n',\n",
       " 'Y aquí ponemos otra']"
      ]
     },
     "execution_count": 17,
     "metadata": {},
     "output_type": "execute_result"
    }
   ],
   "source": [
    "# Si usamos la función readlines() nos devuelve una lista para cada línea del archivo\n",
    "mi_archivo.seek(0)\n",
    "mi_archivo.readlines()"
   ]
  },
  {
   "cell_type": "code",
   "execution_count": 19,
   "id": "f7c01a26",
   "metadata": {},
   "outputs": [],
   "source": [
    "# Podemos cerrar un archivo. Siempre es buena idea cerrarlos para evitar que consuman memoria.\n",
    "mi_archivo.close()"
   ]
  },
  {
   "cell_type": "code",
   "execution_count": 21,
   "id": "2a69927b",
   "metadata": {},
   "outputs": [],
   "source": [
    "# Podemos escribir un archivo usando open y w+ que se emplea para leer y escribir sobre el archivo.\n",
    "# Hay que tener en cuenta que si se usa w o w+ se elimina el contenido anterior del archivo!!!!\n",
    "mi_archivo=open('test.txt','w+')"
   ]
  },
  {
   "cell_type": "code",
   "execution_count": 23,
   "id": "f4188a5c",
   "metadata": {},
   "outputs": [
    {
     "data": {
      "text/plain": [
       "23"
      ]
     },
     "execution_count": 23,
     "metadata": {},
     "output_type": "execute_result"
    }
   ],
   "source": [
    "# Ahora escribimos en él\n",
    "mi_archivo.write('Esta es una linea nueva')"
   ]
  },
  {
   "cell_type": "code",
   "execution_count": 25,
   "id": "3a5fcb6e",
   "metadata": {},
   "outputs": [
    {
     "data": {
      "text/plain": [
       "'Esta es una linea nueva'"
      ]
     },
     "execution_count": 25,
     "metadata": {},
     "output_type": "execute_result"
    }
   ],
   "source": [
    "mi_archivo.seek(0)\n",
    "mi_archivo.read()"
   ]
  },
  {
   "cell_type": "code",
   "execution_count": 27,
   "id": "dd01072c",
   "metadata": {},
   "outputs": [],
   "source": [
    "mi_archivo.close()"
   ]
  },
  {
   "cell_type": "code",
   "execution_count": 29,
   "id": "fbd711fb",
   "metadata": {},
   "outputs": [
    {
     "data": {
      "text/plain": [
       "20"
      ]
     },
     "execution_count": 29,
     "metadata": {},
     "output_type": "execute_result"
    }
   ],
   "source": [
    "# Ahora queremos añadir información nueva\n",
    "mi_archivo = open('test.txt','a+')\n",
    "mi_archivo.write('\\nEsta línea va detrás de la anterior')\n",
    "mi_archivo.write('\\nY aquí ponemos otra')"
   ]
  },
  {
   "cell_type": "code",
   "execution_count": 31,
   "id": "68b548e9",
   "metadata": {},
   "outputs": [
    {
     "data": {
      "text/plain": [
       "'Esta es una linea nueva\\nEsta línea va detrás de la anterior\\nY aquí ponemos otra'"
      ]
     },
     "execution_count": 31,
     "metadata": {},
     "output_type": "execute_result"
    }
   ],
   "source": [
    "mi_archivo.seek(0)\n",
    "mi_archivo.read()"
   ]
  },
  {
   "cell_type": "code",
   "execution_count": 33,
   "id": "f8f175a1",
   "metadata": {},
   "outputs": [
    {
     "name": "stdout",
     "output_type": "stream",
     "text": [
      "Esta es una linea nueva\n",
      "Esta línea va detrás de la anterior\n",
      "Y aquí ponemos otra\n"
     ]
    }
   ],
   "source": [
    "mi_archivo.seek(0)\n",
    "print(mi_archivo.read())"
   ]
  },
  {
   "cell_type": "code",
   "execution_count": 35,
   "id": "9144d98d",
   "metadata": {},
   "outputs": [
    {
     "name": "stdout",
     "output_type": "stream",
     "text": [
      "Esta es una linea nueva\n",
      "\n",
      "Esta línea va detrás de la anterior\n",
      "\n",
      "Y aquí ponemos otra\n"
     ]
    }
   ],
   "source": [
    "# También podemos iterar sobre los archivos\n",
    "mi_archivo.seek(0)\n",
    "for line in mi_archivo:\n",
    "    print(line)"
   ]
  },
  {
   "cell_type": "code",
   "execution_count": 37,
   "id": "90990091",
   "metadata": {},
   "outputs": [],
   "source": [
    "mi_archivo.close()"
   ]
  },
  {
   "cell_type": "code",
   "execution_count": null,
   "id": "6a08b9ff-ef6c-47af-a0f0-258168ec0d64",
   "metadata": {},
   "outputs": [],
   "source": []
  }
 ],
 "metadata": {
  "kernelspec": {
   "display_name": "Python 3 (ipykernel)",
   "language": "python",
   "name": "python3"
  },
  "language_info": {
   "codemirror_mode": {
    "name": "ipython",
    "version": 3
   },
   "file_extension": ".py",
   "mimetype": "text/x-python",
   "name": "python",
   "nbconvert_exporter": "python",
   "pygments_lexer": "ipython3",
   "version": "3.12.4"
  }
 },
 "nbformat": 4,
 "nbformat_minor": 5
}
