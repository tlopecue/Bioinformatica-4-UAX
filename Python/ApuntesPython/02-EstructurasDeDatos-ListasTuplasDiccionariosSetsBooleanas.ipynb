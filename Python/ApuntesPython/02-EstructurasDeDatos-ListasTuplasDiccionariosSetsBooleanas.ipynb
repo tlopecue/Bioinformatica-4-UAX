{
 "cells": [
  {
   "cell_type": "markdown",
   "id": "1404f345",
   "metadata": {},
   "source": [
    "### LISTAS"
   ]
  },
  {
   "cell_type": "markdown",
   "id": "4e493caa",
   "metadata": {},
   "source": [
    "Las listas son como las strings, secuencias de caracteres PERO a diferencia de ellas, podemos cambiar sus elementos. **Son mutables**"
   ]
  },
  {
   "cell_type": "markdown",
   "id": "5e145c3f",
   "metadata": {},
   "source": [
    "**Van entre corchetes con los elementos separados por comas**"
   ]
  },
  {
   "cell_type": "markdown",
   "id": "7ab6deea",
   "metadata": {},
   "source": [
    "Pueden albergar distintas clases de elementos. Tienen útiles como **append(), pop(), sort(), reverse()**. "
   ]
  },
  {
   "cell_type": "markdown",
   "id": "6106f9f1",
   "metadata": {},
   "source": [
    "Podemos también hacer matrices con ellas uniéndoles entre sí."
   ]
  },
  {
   "cell_type": "markdown",
   "id": "5f8a5b63",
   "metadata": {},
   "source": [
    "También podemos hacer list_comprehensions para crear listas rápidamente (uso de loops)."
   ]
  },
  {
   "cell_type": "code",
   "execution_count": 3,
   "id": "5276d26b",
   "metadata": {},
   "outputs": [],
   "source": [
    "mi_lista = [1,2,3]"
   ]
  },
  {
   "cell_type": "code",
   "execution_count": 5,
   "id": "4f828bbc",
   "metadata": {},
   "outputs": [
    {
     "data": {
      "text/plain": [
       "[1, 2, 3]"
      ]
     },
     "execution_count": 5,
     "metadata": {},
     "output_type": "execute_result"
    }
   ],
   "source": [
    "mi_lista"
   ]
  },
  {
   "cell_type": "code",
   "execution_count": 7,
   "id": "cf316093",
   "metadata": {},
   "outputs": [],
   "source": [
    "# Podemos reasignar sus valores\n",
    "mi_lista = ['Una string',23,100.232,'o']"
   ]
  },
  {
   "cell_type": "code",
   "execution_count": 9,
   "id": "b4fa0a66",
   "metadata": {},
   "outputs": [
    {
     "data": {
      "text/plain": [
       "['Una string', 23, 100.232, 'o']"
      ]
     },
     "execution_count": 9,
     "metadata": {},
     "output_type": "execute_result"
    }
   ],
   "source": [
    "mi_lista"
   ]
  },
  {
   "cell_type": "code",
   "execution_count": 11,
   "id": "84e2e574",
   "metadata": {},
   "outputs": [
    {
     "data": {
      "text/plain": [
       "4"
      ]
     },
     "execution_count": 11,
     "metadata": {},
     "output_type": "execute_result"
    }
   ],
   "source": [
    "# Podemos medir su longitud\n",
    "len(mi_lista)"
   ]
  },
  {
   "cell_type": "code",
   "execution_count": 13,
   "id": "ec50645c",
   "metadata": {},
   "outputs": [
    {
     "data": {
      "text/plain": [
       "'Una string'"
      ]
     },
     "execution_count": 13,
     "metadata": {},
     "output_type": "execute_result"
    }
   ],
   "source": [
    "# Podemos acceder a partes de la lista\n",
    "mi_lista[0]"
   ]
  },
  {
   "cell_type": "code",
   "execution_count": 15,
   "id": "821f27bb",
   "metadata": {},
   "outputs": [
    {
     "data": {
      "text/plain": [
       "[23, 100.232, 'o']"
      ]
     },
     "execution_count": 15,
     "metadata": {},
     "output_type": "execute_result"
    }
   ],
   "source": [
    "mi_lista[1:]"
   ]
  },
  {
   "cell_type": "code",
   "execution_count": 17,
   "id": "bbb6c0d7",
   "metadata": {},
   "outputs": [
    {
     "data": {
      "text/plain": [
       "['Una string', 23, 100.232]"
      ]
     },
     "execution_count": 17,
     "metadata": {},
     "output_type": "execute_result"
    }
   ],
   "source": [
    "mi_lista[:3]"
   ]
  },
  {
   "cell_type": "code",
   "execution_count": 19,
   "id": "562b81e3-33aa-465a-bce7-a87b5e0a6cfd",
   "metadata": {},
   "outputs": [
    {
     "data": {
      "text/plain": [
       "['o']"
      ]
     },
     "execution_count": 19,
     "metadata": {},
     "output_type": "execute_result"
    }
   ],
   "source": [
    "mi_lista[-1:]"
   ]
  },
  {
   "cell_type": "code",
   "execution_count": 25,
   "id": "b8819c18-bd22-478f-9cf0-cbfb7656a6ef",
   "metadata": {},
   "outputs": [
    {
     "data": {
      "text/plain": [
       "['o', 100.232, 23, 'Una string']"
      ]
     },
     "execution_count": 25,
     "metadata": {},
     "output_type": "execute_result"
    }
   ],
   "source": [
    "mi_lista[::-1]"
   ]
  },
  {
   "cell_type": "code",
   "execution_count": 27,
   "id": "1349e092",
   "metadata": {},
   "outputs": [
    {
     "data": {
      "text/plain": [
       "['Una string', 23, 100.232, 'o', 'nuevo']"
      ]
     },
     "execution_count": 27,
     "metadata": {},
     "output_type": "execute_result"
    }
   ],
   "source": [
    "# Podemos añadir nuevos elementos o concatenar\n",
    "mi_lista + ['nuevo'] #Si queremos guardar el valor hay que definirlo como abajo"
   ]
  },
  {
   "cell_type": "code",
   "execution_count": 37,
   "id": "8bf7fa87",
   "metadata": {},
   "outputs": [
    {
     "data": {
      "text/plain": [
       "['Una string', 23, 100.232, 'o', 'nuevo elemento', 'otro']"
      ]
     },
     "execution_count": 37,
     "metadata": {},
     "output_type": "execute_result"
    }
   ],
   "source": [
    "mi_lista"
   ]
  },
  {
   "cell_type": "code",
   "execution_count": 29,
   "id": "e7a04266",
   "metadata": {},
   "outputs": [],
   "source": [
    "mi_lista = mi_lista + ['nuevo elemento']"
   ]
  },
  {
   "cell_type": "code",
   "execution_count": 31,
   "id": "c8609ebd",
   "metadata": {},
   "outputs": [
    {
     "data": {
      "text/plain": [
       "['Una string', 23, 100.232, 'o', 'nuevo elemento']"
      ]
     },
     "execution_count": 31,
     "metadata": {},
     "output_type": "execute_result"
    }
   ],
   "source": [
    "mi_lista"
   ]
  },
  {
   "cell_type": "code",
   "execution_count": 33,
   "id": "c7f57a83",
   "metadata": {},
   "outputs": [],
   "source": [
    "mi_lista.append('otro') #También añade nuevo elemento"
   ]
  },
  {
   "cell_type": "code",
   "execution_count": 35,
   "id": "9d03687d",
   "metadata": {},
   "outputs": [
    {
     "data": {
      "text/plain": [
       "['Una string', 23, 100.232, 'o', 'nuevo elemento', 'otro']"
      ]
     },
     "execution_count": 35,
     "metadata": {},
     "output_type": "execute_result"
    }
   ],
   "source": [
    "mi_lista"
   ]
  },
  {
   "cell_type": "code",
   "execution_count": 39,
   "id": "e943b2ba",
   "metadata": {
    "scrolled": true
   },
   "outputs": [
    {
     "data": {
      "text/plain": [
       "['Una string',\n",
       " 23,\n",
       " 100.232,\n",
       " 'o',\n",
       " 'nuevo elemento',\n",
       " 'otro',\n",
       " 'Una string',\n",
       " 23,\n",
       " 100.232,\n",
       " 'o',\n",
       " 'nuevo elemento',\n",
       " 'otro']"
      ]
     },
     "execution_count": 39,
     "metadata": {},
     "output_type": "execute_result"
    }
   ],
   "source": [
    "# Podemos aumentar su tamaño\n",
    "mi_lista*2"
   ]
  },
  {
   "cell_type": "code",
   "execution_count": 41,
   "id": "c2f381ab",
   "metadata": {},
   "outputs": [],
   "source": [
    "mi_lista_corta=mi_lista[:3]"
   ]
  },
  {
   "cell_type": "code",
   "execution_count": 43,
   "id": "7b15d79c",
   "metadata": {},
   "outputs": [
    {
     "data": {
      "text/plain": [
       "['Una string', 23, 100.232]"
      ]
     },
     "execution_count": 43,
     "metadata": {},
     "output_type": "execute_result"
    }
   ],
   "source": [
    "mi_lista_corta"
   ]
  },
  {
   "cell_type": "code",
   "execution_count": 47,
   "id": "98fa16d1",
   "metadata": {},
   "outputs": [
    {
     "data": {
      "text/plain": [
       "['Una string', 23, 100.232, 'o']"
      ]
     },
     "execution_count": 47,
     "metadata": {},
     "output_type": "execute_result"
    }
   ],
   "source": [
    "# Podemos quitar el último elemento (permanentemente)\n",
    "mi_lista.pop()\n",
    "mi_lista"
   ]
  },
  {
   "cell_type": "code",
   "execution_count": 49,
   "id": "5ddbbc44",
   "metadata": {},
   "outputs": [
    {
     "data": {
      "text/plain": [
       "['o', 100.232, 23, 'Una string']"
      ]
     },
     "execution_count": 49,
     "metadata": {},
     "output_type": "execute_result"
    }
   ],
   "source": [
    "# Podemos darle la vuelta a la lista con reverse(). De forma permanente\n",
    "mi_lista.reverse()\n",
    "mi_lista"
   ]
  },
  {
   "cell_type": "code",
   "execution_count": 51,
   "id": "6fc44671",
   "metadata": {},
   "outputs": [
    {
     "ename": "TypeError",
     "evalue": "'<' not supported between instances of 'str' and 'int'",
     "output_type": "error",
     "traceback": [
      "\u001b[1;31m---------------------------------------------------------------------------\u001b[0m",
      "\u001b[1;31mTypeError\u001b[0m                                 Traceback (most recent call last)",
      "Cell \u001b[1;32mIn[51], line 3\u001b[0m\n\u001b[0;32m      1\u001b[0m \u001b[38;5;66;03m# Podemos ordenarla una lista alfabéticamente o numéricamente\u001b[39;00m\n\u001b[0;32m      2\u001b[0m prueba \u001b[38;5;241m=\u001b[39m [\u001b[38;5;241m1\u001b[39m,\u001b[38;5;124m'\u001b[39m\u001b[38;5;124ma\u001b[39m\u001b[38;5;124m'\u001b[39m,\u001b[38;5;241m6\u001b[39m,\u001b[38;5;124m'\u001b[39m\u001b[38;5;124mb\u001b[39m\u001b[38;5;124m'\u001b[39m,\u001b[38;5;241m100\u001b[39m]\n\u001b[1;32m----> 3\u001b[0m prueba\u001b[38;5;241m.\u001b[39msort()\n\u001b[0;32m      4\u001b[0m prueba\n",
      "\u001b[1;31mTypeError\u001b[0m: '<' not supported between instances of 'str' and 'int'"
     ]
    }
   ],
   "source": [
    "# Podemos ordenarla una lista alfabéticamente o numéricamente #sort solo funciona en listas que contienen el mismo tipo de valores\n",
    "prueba = [1,'a',6,'b',100]\n",
    "prueba.sort()\n",
    "prueba"
   ]
  },
  {
   "cell_type": "code",
   "execution_count": 63,
   "id": "acdde2a2-c2b9-4d5e-b943-bfe543e02607",
   "metadata": {},
   "outputs": [],
   "source": [
    "mi_lista_2 = [1,5,7,2,9]"
   ]
  },
  {
   "cell_type": "code",
   "execution_count": 69,
   "id": "9cc35c88-7f59-46a9-9397-f09216b7157a",
   "metadata": {},
   "outputs": [
    {
     "name": "stdout",
     "output_type": "stream",
     "text": [
      "[1, 2, 5, 7, 9]\n"
     ]
    }
   ],
   "source": [
    "mi_lista_2.sort()\n",
    "print(mi_lista_2)"
   ]
  },
  {
   "cell_type": "code",
   "execution_count": 71,
   "id": "0d528c48",
   "metadata": {},
   "outputs": [
    {
     "data": {
      "text/plain": [
       "[[1, 2, 3], [4, 5, 6], [7, 8, 9]]"
      ]
     },
     "execution_count": 71,
     "metadata": {},
     "output_type": "execute_result"
    }
   ],
   "source": [
    "# Hacemos una matriz\n",
    "lst_1=[1,2,3]\n",
    "lst_2=[4,5,6]\n",
    "lst_3=[7,8,9]\n",
    "\n",
    "matrix = [lst_1,lst_2,lst_3]\n",
    "matrix"
   ]
  },
  {
   "cell_type": "code",
   "execution_count": 73,
   "id": "055338a0",
   "metadata": {},
   "outputs": [
    {
     "data": {
      "text/plain": [
       "[1, 2, 3]"
      ]
     },
     "execution_count": 73,
     "metadata": {},
     "output_type": "execute_result"
    }
   ],
   "source": [
    "matrix[0]"
   ]
  },
  {
   "cell_type": "code",
   "execution_count": 77,
   "id": "0fd5bc0e",
   "metadata": {},
   "outputs": [
    {
     "data": {
      "text/plain": [
       "8"
      ]
     },
     "execution_count": 77,
     "metadata": {},
     "output_type": "execute_result"
    }
   ],
   "source": [
    "matrix[2][1]"
   ]
  },
  {
   "cell_type": "code",
   "execution_count": 81,
   "id": "90f839bf",
   "metadata": {},
   "outputs": [
    {
     "data": {
      "text/plain": [
       "[2, 5, 8]"
      ]
     },
     "execution_count": 81,
     "metadata": {},
     "output_type": "execute_result"
    }
   ],
   "source": [
    "# List comprehensions. Aquí lo que estamos haciendo es sacar el primer elemento de matrix. Te da las filas\n",
    "first_col = [row[1] for row in matrix]\n",
    "first_col"
   ]
  },
  {
   "cell_type": "markdown",
   "id": "8d2ed501",
   "metadata": {},
   "source": [
    "### DICCIONARIOS"
   ]
  },
  {
   "cell_type": "markdown",
   "id": "424eddbc",
   "metadata": {},
   "source": [
    "Los diccionarios también se les llama **hash**. Son estructuras que nos permiten almacenar información mediante una **key** y un **valor**."
   ]
  },
  {
   "cell_type": "markdown",
   "id": "46a5a959",
   "metadata": {},
   "source": [
    "**El valor puede ser cualquier objeto de Python, incluso otro diccionario**"
   ]
  },
  {
   "cell_type": "markdown",
   "id": "aefad975",
   "metadata": {},
   "source": [
    "**Las keys tienen que tener un valor único**"
   ]
  },
  {
   "cell_type": "markdown",
   "id": "fcdc0697",
   "metadata": {},
   "source": [
    "Las funciones más empleadas son **keys() y items()**."
   ]
  },
  {
   "cell_type": "markdown",
   "id": "9e0023ea",
   "metadata": {},
   "source": [
    "**¡No se pueden ordenar diccionarios porque no son secuencias, sino más bien índices!!**"
   ]
  },
  {
   "cell_type": "code",
   "execution_count": 85,
   "id": "86d28803",
   "metadata": {},
   "outputs": [
    {
     "data": {
      "text/plain": [
       "{'key1': 'value1', 'key2': 'value2'}"
      ]
     },
     "execution_count": 85,
     "metadata": {},
     "output_type": "execute_result"
    }
   ],
   "source": [
    "mi_dict = {'key1':'value1','key2':'value2'} #Tenemos dos elementos. El identificador uno que le corresponde un valor y viceversa\n",
    "mi_dict"
   ]
  },
  {
   "cell_type": "code",
   "execution_count": 87,
   "id": "0a04d862",
   "metadata": {},
   "outputs": [
    {
     "data": {
      "text/plain": [
       "{'key1': 123, 'key2': [12, 23, 33], 'key3': ['item0', 'item1', 'item2']}"
      ]
     },
     "execution_count": 87,
     "metadata": {},
     "output_type": "execute_result"
    }
   ],
   "source": [
    "mi_dict = {'key1':123,'key2':[12,23,33],'key3':['item0','item1','item2']}\n",
    "mi_dict"
   ]
  },
  {
   "cell_type": "code",
   "execution_count": 89,
   "id": "50a5ea0c",
   "metadata": {},
   "outputs": [
    {
     "data": {
      "text/plain": [
       "['item0', 'item1', 'item2']"
      ]
     },
     "execution_count": 89,
     "metadata": {},
     "output_type": "execute_result"
    }
   ],
   "source": [
    "# Vamos a acceder a los elementos de un diccionario\n",
    "mi_dict['key3']"
   ]
  },
  {
   "cell_type": "code",
   "execution_count": 91,
   "id": "68a6cb3b",
   "metadata": {},
   "outputs": [
    {
     "data": {
      "text/plain": [
       "'item0'"
      ]
     },
     "execution_count": 91,
     "metadata": {},
     "output_type": "execute_result"
    }
   ],
   "source": [
    "mi_dict['key3'][0]"
   ]
  },
  {
   "cell_type": "code",
   "execution_count": 93,
   "id": "384b0572",
   "metadata": {},
   "outputs": [
    {
     "data": {
      "text/plain": [
       "'ITEM0'"
      ]
     },
     "execution_count": 93,
     "metadata": {},
     "output_type": "execute_result"
    }
   ],
   "source": [
    "# Podemos incluso llamar a funciones sobre esos valores\n",
    "mi_dict['key3'][0].upper()"
   ]
  },
  {
   "cell_type": "code",
   "execution_count": 95,
   "id": "0a655db1",
   "metadata": {},
   "outputs": [
    {
     "data": {
      "text/plain": [
       "{'key1': 123, 'key2': [12, 23, 33], 'key3': ['item0', 'item1', 'item2']}"
      ]
     },
     "execution_count": 95,
     "metadata": {},
     "output_type": "execute_result"
    }
   ],
   "source": [
    "mi_dict"
   ]
  },
  {
   "cell_type": "code",
   "execution_count": 97,
   "id": "def55b91",
   "metadata": {},
   "outputs": [
    {
     "data": {
      "text/plain": [
       "{'key1': 0, 'key2': [12, 23, 33], 'key3': ['item0', 'item1', 'item2']}"
      ]
     },
     "execution_count": 97,
     "metadata": {},
     "output_type": "execute_result"
    }
   ],
   "source": [
    "# Podemos cambiar los valores de las keys\n",
    "mi_dict['key1'] = mi_dict['key1'] - 123\n",
    "mi_dict"
   ]
  },
  {
   "cell_type": "code",
   "execution_count": 99,
   "id": "7e0b3214",
   "metadata": {
    "scrolled": true
   },
   "outputs": [
    {
     "data": {
      "text/plain": [
       "123"
      ]
     },
     "execution_count": 99,
     "metadata": {},
     "output_type": "execute_result"
    }
   ],
   "source": [
    "mi_dict['key1'] += 123\n",
    "mi_dict['key1']"
   ]
  },
  {
   "cell_type": "code",
   "execution_count": 107,
   "id": "ee141938-3dbb-4b25-ba97-5bbd9eb029d6",
   "metadata": {},
   "outputs": [
    {
     "data": {
      "text/plain": [
       "'hola'"
      ]
     },
     "execution_count": 107,
     "metadata": {},
     "output_type": "execute_result"
    }
   ],
   "source": [
    "mi_dict['key1'] = 'hola'\n",
    "mi_dict['key1']"
   ]
  },
  {
   "cell_type": "code",
   "execution_count": 109,
   "id": "e304182f-025c-4b92-b84a-ae35205cab91",
   "metadata": {},
   "outputs": [],
   "source": [
    "mi_dict['key1'] = 123"
   ]
  },
  {
   "cell_type": "code",
   "execution_count": 111,
   "id": "7727d9f4",
   "metadata": {},
   "outputs": [
    {
     "data": {
      "text/plain": [
       "{'animal': 'Perro', 'respuesta': 42}"
      ]
     },
     "execution_count": 111,
     "metadata": {},
     "output_type": "execute_result"
    }
   ],
   "source": [
    "# Podemos crear nuevas keys\n",
    "d = {} #Define que el diccionario está vacio\n",
    "d['animal'] = 'Perro'\n",
    "d['respuesta'] = 42\n",
    "d"
   ]
  },
  {
   "cell_type": "code",
   "execution_count": 113,
   "id": "ee0d09ca",
   "metadata": {},
   "outputs": [
    {
     "data": {
      "text/plain": [
       "'Perro'"
      ]
     },
     "execution_count": 113,
     "metadata": {},
     "output_type": "execute_result"
    }
   ],
   "source": [
    "d['animal']"
   ]
  },
  {
   "cell_type": "code",
   "execution_count": 115,
   "id": "0ac4a9b9",
   "metadata": {},
   "outputs": [
    {
     "data": {
      "text/plain": [
       "{'animal': 'Perro',\n",
       " 'respuesta': 42,\n",
       " 'nestedKey': {'key1': 123,\n",
       "  'key2': [12, 23, 33],\n",
       "  'key3': ['item0', 'item1', 'item2']}}"
      ]
     },
     "execution_count": 115,
     "metadata": {},
     "output_type": "execute_result"
    }
   ],
   "source": [
    "# Podemos meter un diccionario dentro de otro\n",
    "d['nestedKey']=mi_dict\n",
    "d"
   ]
  },
  {
   "cell_type": "code",
   "execution_count": 123,
   "id": "3695651e-f448-4b64-86a2-22374a7e0e1f",
   "metadata": {},
   "outputs": [
    {
     "data": {
      "text/plain": [
       "{'animal': 'Perro',\n",
       " 'respuesta': 42,\n",
       " 'nestedKey': {'key1': 123,\n",
       "  'key2': [12, 23, 33],\n",
       "  'key3': ['item0', 'item1', 'item2']},\n",
       " 'kiwis': 'fruta'}"
      ]
     },
     "execution_count": 123,
     "metadata": {},
     "output_type": "execute_result"
    }
   ],
   "source": [
    "d['kiwis']='fruta'\n",
    "d"
   ]
  },
  {
   "cell_type": "code",
   "execution_count": 133,
   "id": "04766f69-ce11-4456-b247-b34c0e274347",
   "metadata": {},
   "outputs": [
    {
     "data": {
      "text/plain": [
       "'item1'"
      ]
     },
     "execution_count": 133,
     "metadata": {},
     "output_type": "execute_result"
    }
   ],
   "source": [
    "d['nestedKey']['key3'][1]"
   ]
  },
  {
   "cell_type": "code",
   "execution_count": 143,
   "id": "d51e4497-b2b4-4dea-807a-71804e8c5b88",
   "metadata": {},
   "outputs": [],
   "source": [
    "w = {}\n",
    "w['camiseta']='verde'\n",
    "w['objetos']='jarrón'"
   ]
  },
  {
   "cell_type": "code",
   "execution_count": null,
   "id": "067c7521-4584-4624-b382-dbe7074ab44c",
   "metadata": {},
   "outputs": [],
   "source": [
    "w['diccionario2']"
   ]
  },
  {
   "cell_type": "code",
   "execution_count": 135,
   "id": "93957064",
   "metadata": {},
   "outputs": [
    {
     "data": {
      "text/plain": [
       "dict_keys(['animal', 'respuesta', 'nestedKey', 'kiwis'])"
      ]
     },
     "execution_count": 135,
     "metadata": {},
     "output_type": "execute_result"
    }
   ],
   "source": [
    "# Podemos devolver todas las keys\n",
    "d.keys()"
   ]
  },
  {
   "cell_type": "code",
   "execution_count": 137,
   "id": "5428c32f",
   "metadata": {},
   "outputs": [
    {
     "data": {
      "text/plain": [
       "dict_items([('animal', 'Perro'), ('respuesta', 42), ('nestedKey', {'key1': 123, 'key2': [12, 23, 33], 'key3': ['item0', 'item1', 'item2']}), ('kiwis', 'fruta')])"
      ]
     },
     "execution_count": 137,
     "metadata": {},
     "output_type": "execute_result"
    }
   ],
   "source": [
    "# Podemos devolver todos los valores (como tuplas, ¡ya lo veremos!)\n",
    "d.items()"
   ]
  },
  {
   "cell_type": "markdown",
   "id": "31eb8900",
   "metadata": {},
   "source": [
    "### TUPLAS"
   ]
  },
  {
   "cell_type": "markdown",
   "id": "9c3fb87a",
   "metadata": {},
   "source": [
    "Son como las listas pero **INMUTABLES**. En lugar de corchetes llevan paréntesis."
   ]
  },
  {
   "cell_type": "markdown",
   "id": "875b17ef",
   "metadata": {},
   "source": [
    "Podemos usar las funciones **index() y count()**."
   ]
  },
  {
   "cell_type": "markdown",
   "id": "561cb9c8",
   "metadata": {},
   "source": [
    "Se usan cuando queremos crear un objeto que NO pueda ser cambiado."
   ]
  },
  {
   "cell_type": "code",
   "execution_count": 2,
   "id": "61e43a7d",
   "metadata": {},
   "outputs": [
    {
     "data": {
      "text/plain": [
       "3"
      ]
     },
     "execution_count": 2,
     "metadata": {},
     "output_type": "execute_result"
    }
   ],
   "source": [
    "t = (1,2,3)\n",
    "len(t)"
   ]
  },
  {
   "cell_type": "code",
   "execution_count": 4,
   "id": "f4623896",
   "metadata": {},
   "outputs": [
    {
     "data": {
      "text/plain": [
       "tuple"
      ]
     },
     "execution_count": 4,
     "metadata": {},
     "output_type": "execute_result"
    }
   ],
   "source": [
    "type(t)"
   ]
  },
  {
   "cell_type": "code",
   "execution_count": 6,
   "id": "928ab1b3",
   "metadata": {},
   "outputs": [
    {
     "data": {
      "text/plain": [
       "('uno', 2)"
      ]
     },
     "execution_count": 6,
     "metadata": {},
     "output_type": "execute_result"
    }
   ],
   "source": [
    "# Las tuplas pueden tener elementos de distinto tipo\n",
    "t = ('uno',2)\n",
    "t"
   ]
  },
  {
   "cell_type": "code",
   "execution_count": 8,
   "id": "81f37776",
   "metadata": {},
   "outputs": [
    {
     "data": {
      "text/plain": [
       "'uno'"
      ]
     },
     "execution_count": 8,
     "metadata": {},
     "output_type": "execute_result"
    }
   ],
   "source": [
    "# Podemos acceder a sus elementos pero no cambiarlos\n",
    "t[0]"
   ]
  },
  {
   "cell_type": "code",
   "execution_count": 10,
   "id": "cc2f3e6e",
   "metadata": {},
   "outputs": [
    {
     "ename": "TypeError",
     "evalue": "'tuple' object does not support item assignment",
     "output_type": "error",
     "traceback": [
      "\u001b[1;31m---------------------------------------------------------------------------\u001b[0m",
      "\u001b[1;31mTypeError\u001b[0m                                 Traceback (most recent call last)",
      "Cell \u001b[1;32mIn[10], line 1\u001b[0m\n\u001b[1;32m----> 1\u001b[0m t[\u001b[38;5;241m0\u001b[39m]\u001b[38;5;241m=\u001b[39m\u001b[38;5;241m0\u001b[39m\n",
      "\u001b[1;31mTypeError\u001b[0m: 'tuple' object does not support item assignment"
     ]
    }
   ],
   "source": [
    "t[0]=0"
   ]
  },
  {
   "cell_type": "code",
   "execution_count": 12,
   "id": "aceaf44b",
   "metadata": {},
   "outputs": [
    {
     "data": {
      "text/plain": [
       "2"
      ]
     },
     "execution_count": 12,
     "metadata": {},
     "output_type": "execute_result"
    }
   ],
   "source": [
    "t[-1]"
   ]
  },
  {
   "cell_type": "code",
   "execution_count": 14,
   "id": "2a1a79f8",
   "metadata": {},
   "outputs": [
    {
     "data": {
      "text/plain": [
       "0"
      ]
     },
     "execution_count": 14,
     "metadata": {},
     "output_type": "execute_result"
    }
   ],
   "source": [
    "# Usamos index() para retornar el valor de un índice\n",
    "t.index('uno')"
   ]
  },
  {
   "cell_type": "code",
   "execution_count": 16,
   "id": "848bd0b6",
   "metadata": {},
   "outputs": [
    {
     "data": {
      "text/plain": [
       "1"
      ]
     },
     "execution_count": 16,
     "metadata": {},
     "output_type": "execute_result"
    }
   ],
   "source": [
    "# También podemos contar el número de veces que aparece un item en la tupla\n",
    "t.count('uno')"
   ]
  },
  {
   "cell_type": "code",
   "execution_count": 18,
   "id": "a1841190",
   "metadata": {},
   "outputs": [
    {
     "ename": "AttributeError",
     "evalue": "'tuple' object has no attribute 'append'",
     "output_type": "error",
     "traceback": [
      "\u001b[1;31m---------------------------------------------------------------------------\u001b[0m",
      "\u001b[1;31mAttributeError\u001b[0m                            Traceback (most recent call last)",
      "Cell \u001b[1;32mIn[18], line 2\u001b[0m\n\u001b[0;32m      1\u001b[0m \u001b[38;5;66;03m# Las tuplas tampoco pueden crecer\u001b[39;00m\n\u001b[1;32m----> 2\u001b[0m t\u001b[38;5;241m.\u001b[39mappend(\u001b[38;5;124m'\u001b[39m\u001b[38;5;124mtres\u001b[39m\u001b[38;5;124m'\u001b[39m)\n",
      "\u001b[1;31mAttributeError\u001b[0m: 'tuple' object has no attribute 'append'"
     ]
    }
   ],
   "source": [
    "# Las tuplas tampoco pueden crecer\n",
    "t.append('tres')"
   ]
  },
  {
   "cell_type": "markdown",
   "id": "ae64057a",
   "metadata": {},
   "source": [
    "### SETS"
   ]
  },
  {
   "cell_type": "markdown",
   "id": "6f5c60e6",
   "metadata": {},
   "source": [
    "Colección ordenada de elementos **ÚNICOS**. Los construimos con la función **set()**."
   ]
  },
  {
   "cell_type": "markdown",
   "id": "cfce1694",
   "metadata": {},
   "source": [
    "Podemos añadir elementos con la función **add()**."
   ]
  },
  {
   "cell_type": "markdown",
   "id": "c89c5539",
   "metadata": {},
   "source": [
    "Los usamos cuando queremos eliminar duplicados y tener solamente elementos únicos, como las keys de un diccionario."
   ]
  },
  {
   "cell_type": "code",
   "execution_count": 21,
   "id": "c61ed16c",
   "metadata": {},
   "outputs": [
    {
     "data": {
      "text/plain": [
       "set"
      ]
     },
     "execution_count": 21,
     "metadata": {},
     "output_type": "execute_result"
    }
   ],
   "source": [
    "x = set() #No nos deja meter elementos repetidos\n",
    "type(x)"
   ]
  },
  {
   "cell_type": "code",
   "execution_count": 23,
   "id": "9d0fa6cd",
   "metadata": {},
   "outputs": [
    {
     "data": {
      "text/plain": [
       "{1}"
      ]
     },
     "execution_count": 23,
     "metadata": {},
     "output_type": "execute_result"
    }
   ],
   "source": [
    "# Añadimos elementos con .add(). ¡Fíjate en los corchetes!!!! Como las keys de los diccionarios\n",
    "x.add(1)\n",
    "x"
   ]
  },
  {
   "cell_type": "code",
   "execution_count": 25,
   "id": "2e8c5ea5",
   "metadata": {},
   "outputs": [
    {
     "data": {
      "text/plain": [
       "{1, 2}"
      ]
     },
     "execution_count": 25,
     "metadata": {},
     "output_type": "execute_result"
    }
   ],
   "source": [
    "x.add(2)\n",
    "x"
   ]
  },
  {
   "cell_type": "code",
   "execution_count": 27,
   "id": "1f41ae77",
   "metadata": {},
   "outputs": [
    {
     "data": {
      "text/plain": [
       "{1, 2}"
      ]
     },
     "execution_count": 27,
     "metadata": {},
     "output_type": "execute_result"
    }
   ],
   "source": [
    "# No nos deja añadir duplicados\n",
    "x.add(1)\n",
    "x"
   ]
  },
  {
   "cell_type": "code",
   "execution_count": 29,
   "id": "f64ab7d4",
   "metadata": {},
   "outputs": [
    {
     "data": {
      "text/plain": [
       "{1, 2, 3, 4, 5, 6}"
      ]
     },
     "execution_count": 29,
     "metadata": {},
     "output_type": "execute_result"
    }
   ],
   "source": [
    "# Fíjate que nos elimina los duplicados!\n",
    "list1 = [1,1,2,2,3,4,5,6,1,1]\n",
    "set(list1)"
   ]
  },
  {
   "cell_type": "markdown",
   "id": "7a976d68",
   "metadata": {},
   "source": [
    "### BOOLEANS"
   ]
  },
  {
   "cell_type": "markdown",
   "id": "41482559",
   "metadata": {},
   "source": [
    "Elementos de verdadero o falso. TRUE, FALSE, NONE, AND, OR. >= <= == != < >"
   ]
  },
  {
   "cell_type": "code",
   "execution_count": 31,
   "id": "2a1a0475",
   "metadata": {},
   "outputs": [
    {
     "data": {
      "text/plain": [
       "bool"
      ]
     },
     "execution_count": 31,
     "metadata": {},
     "output_type": "execute_result"
    }
   ],
   "source": [
    "a = True\n",
    "type(a)"
   ]
  },
  {
   "cell_type": "code",
   "execution_count": 33,
   "id": "dc0f90b3",
   "metadata": {},
   "outputs": [
    {
     "data": {
      "text/plain": [
       "True"
      ]
     },
     "execution_count": 33,
     "metadata": {},
     "output_type": "execute_result"
    }
   ],
   "source": [
    "# Aquí la salida sería el booleano\n",
    "1<2"
   ]
  },
  {
   "cell_type": "code",
   "execution_count": 35,
   "id": "745e0c24",
   "metadata": {},
   "outputs": [
    {
     "data": {
      "text/plain": [
       "NoneType"
      ]
     },
     "execution_count": 35,
     "metadata": {},
     "output_type": "execute_result"
    }
   ],
   "source": [
    "# None nos sirve para no assignar un tipo de objeto\n",
    "b = None\n",
    "type(b)"
   ]
  },
  {
   "cell_type": "code",
   "execution_count": 37,
   "id": "05df477a",
   "metadata": {},
   "outputs": [
    {
     "data": {
      "text/plain": [
       "True"
      ]
     },
     "execution_count": 37,
     "metadata": {},
     "output_type": "execute_result"
    }
   ],
   "source": [
    "# Comparaciones igualdad\n",
    "2==2"
   ]
  },
  {
   "cell_type": "code",
   "execution_count": 39,
   "id": "5a7aa696",
   "metadata": {},
   "outputs": [
    {
     "data": {
      "text/plain": [
       "False"
      ]
     },
     "execution_count": 39,
     "metadata": {},
     "output_type": "execute_result"
    }
   ],
   "source": [
    "1==0"
   ]
  },
  {
   "cell_type": "code",
   "execution_count": 41,
   "id": "7cc86b98",
   "metadata": {},
   "outputs": [
    {
     "data": {
      "text/plain": [
       "True"
      ]
     },
     "execution_count": 41,
     "metadata": {},
     "output_type": "execute_result"
    }
   ],
   "source": [
    "# No igualdad\n",
    "2 != 1"
   ]
  },
  {
   "cell_type": "code",
   "execution_count": 43,
   "id": "86dc2765",
   "metadata": {},
   "outputs": [
    {
     "data": {
      "text/plain": [
       "True"
      ]
     },
     "execution_count": 43,
     "metadata": {},
     "output_type": "execute_result"
    }
   ],
   "source": [
    "# Mayor o menor que\n",
    "2<4"
   ]
  },
  {
   "cell_type": "code",
   "execution_count": 49,
   "id": "9539d9f4",
   "metadata": {},
   "outputs": [
    {
     "data": {
      "text/plain": [
       "False"
      ]
     },
     "execution_count": 49,
     "metadata": {},
     "output_type": "execute_result"
    }
   ],
   "source": [
    "# Mayor o menor o igual que\n",
    "2 < 2"
   ]
  },
  {
   "cell_type": "code",
   "execution_count": 45,
   "id": "bd32fbb2",
   "metadata": {},
   "outputs": [
    {
     "data": {
      "text/plain": [
       "True"
      ]
     },
     "execution_count": 45,
     "metadata": {},
     "output_type": "execute_result"
    }
   ],
   "source": [
    "# También podemos encadenar operadores de comparación\n",
    "1 < 2 < 3"
   ]
  },
  {
   "cell_type": "code",
   "execution_count": 51,
   "id": "5d1e88e2",
   "metadata": {},
   "outputs": [
    {
     "data": {
      "text/plain": [
       "False"
      ]
     },
     "execution_count": 51,
     "metadata": {},
     "output_type": "execute_result"
    }
   ],
   "source": [
    "# O podemos usar AND \n",
    "1>2 and 2<3"
   ]
  },
  {
   "cell_type": "code",
   "execution_count": 53,
   "id": "babd1b8f",
   "metadata": {},
   "outputs": [
    {
     "data": {
      "text/plain": [
       "True"
      ]
     },
     "execution_count": 53,
     "metadata": {},
     "output_type": "execute_result"
    }
   ],
   "source": [
    "# También podemos usar OR\n",
    "1 == 2 or 2 <3"
   ]
  },
  {
   "cell_type": "code",
   "execution_count": null,
   "id": "89a4a633-cf52-4d4f-8fa4-6bb39bdd3cc7",
   "metadata": {},
   "outputs": [],
   "source": []
  }
 ],
 "metadata": {
  "kernelspec": {
   "display_name": "Python 3 (ipykernel)",
   "language": "python",
   "name": "python3"
  },
  "language_info": {
   "codemirror_mode": {
    "name": "ipython",
    "version": 3
   },
   "file_extension": ".py",
   "mimetype": "text/x-python",
   "name": "python",
   "nbconvert_exporter": "python",
   "pygments_lexer": "ipython3",
   "version": "3.12.4"
  }
 },
 "nbformat": 4,
 "nbformat_minor": 5
}
