{
 "cells": [
  {
   "cell_type": "markdown",
   "metadata": {},
   "source": [
    "# EXPRESIONES REGULARES"
   ]
  },
  {
   "attachments": {},
   "cell_type": "markdown",
   "metadata": {},
   "source": [
    "El módulo re contiene los métodos necesarios para analizar y buscar expresiones regulares en Python.\n",
    "\n",
    "**import re**\n",
    "\n",
    "**re.search(pattern,string)**\n",
    "\n",
    "La función usa dos argumentos, el patrón y la cadena dónde hay que buscarlo\n",
    "\n",
    "\n",
    "Para indicar a Python que ignore los caracteres especiales como *\\t* o *\\n* se puede usar *r* fuera de las comillas: **print(r”\\t\\n”)**"
   ]
  },
  {
   "attachments": {},
   "cell_type": "markdown",
   "metadata": {},
   "source": [
    "El resultado que devuelve **re.search()** es booleano, true/false"
   ]
  },
  {
   "cell_type": "code",
   "execution_count": 1,
   "metadata": {},
   "outputs": [],
   "source": [
    "import re"
   ]
  },
  {
   "cell_type": "code",
   "execution_count": null,
   "metadata": {},
   "outputs": [],
   "source": [
    "# re.search(pattern,string)\n",
    "# r se usa para que Python ignore caracteres especiales"
   ]
  },
  {
   "cell_type": "code",
   "execution_count": 3,
   "metadata": {},
   "outputs": [
    {
     "name": "stdout",
     "output_type": "stream",
     "text": [
      "restriction enzyme site found!\n"
     ]
    }
   ],
   "source": [
    "dna = \"ATCGCGAATTGAFCAC\"\n",
    "if re.search(r\"GAF\", dna):\n",
    "    print(\"restriction enzyme site found!\")\n",
    "else:\n",
    "    print(\"Not site found!\")"
   ]
  },
  {
   "cell_type": "code",
   "execution_count": 5,
   "metadata": {},
   "outputs": [
    {
     "name": "stdout",
     "output_type": "stream",
     "text": [
      "restriction enzyme site found!\n"
     ]
    }
   ],
   "source": [
    "# Alternaciones\n",
    "dna = \"ATCGCGAATTCAC\"\n",
    "if re.search(r\"ATT\", dna) or re.search(r\"CGAA\", dna):\n",
    "    print(\"restriction enzyme site found!\")"
   ]
  },
  {
   "cell_type": "code",
   "execution_count": 7,
   "metadata": {},
   "outputs": [
    {
     "name": "stdout",
     "output_type": "stream",
     "text": [
      "restriction enzyme site found!\n"
     ]
    }
   ],
   "source": [
    "dna = \"ATCGCGAATTCAC\"\n",
    "if re.search(r\"GC(G|C)AATT\", dna): #puede haber una g o una c\n",
    "    print(\"restriction enzyme site found!\")"
   ]
  },
  {
   "cell_type": "code",
   "execution_count": 9,
   "metadata": {},
   "outputs": [
    {
     "name": "stdout",
     "output_type": "stream",
     "text": [
      "restriction enzyme site found!\n"
     ]
    }
   ],
   "source": [
    "# Grupos de caracteres\n",
    "dna = \"ATCGCGGCAATTCAC\"\n",
    "if re.search(r\"GC(A|T|G|C)GC\", dna):\n",
    "    print(\"restriction enzyme site found!\")"
   ]
  },
  {
   "cell_type": "code",
   "execution_count": 13,
   "metadata": {},
   "outputs": [
    {
     "name": "stdout",
     "output_type": "stream",
     "text": [
      "restriction enzyme site found!\n"
     ]
    }
   ],
   "source": [
    "dna = \"ATCGCGGCAATTCAC\"\n",
    "if re.search(r\"GC[ATGC]GC\", dna):\n",
    "    print(\"restriction enzyme site found!\")\t"
   ]
  },
  {
   "cell_type": "code",
   "execution_count": 11,
   "metadata": {},
   "outputs": [
    {
     "name": "stdout",
     "output_type": "stream",
     "text": [
      "restriction enzyme site found!\n"
     ]
    }
   ],
   "source": [
    "# Negaciones\n",
    "dna = \"ATCGCGAATTCAC\"\n",
    "if re.search(r\"GC[^N]\", dna): #^N busca cualquier cosa menos la N\n",
    "    print(\"restriction enzyme site found!\")"
   ]
  },
  {
   "cell_type": "code",
   "execution_count": 15,
   "metadata": {},
   "outputs": [
    {
     "name": "stdout",
     "output_type": "stream",
     "text": [
      "GACGTAC\n"
     ]
    }
   ],
   "source": [
    "# Extración de parte del patrón en una variable\n",
    "dna = \"ATGACGTACGTACGACTG\"\n",
    "# guarda los patrones en la variable m\n",
    "m = re.search(r\"GA[ATGC]{3}AC\",dna) #3 entre llaves implica que la condición tiene que repetirse 3 veces\n",
    "m_pattern = m.group()\n",
    "print(m_pattern)"
   ]
  },
  {
   "cell_type": "code",
   "execution_count": 17,
   "metadata": {},
   "outputs": [
    {
     "data": {
      "text/plain": [
       "<re.Match object; span=(2, 9), match='GACGTAC'>"
      ]
     },
     "execution_count": 17,
     "metadata": {},
     "output_type": "execute_result"
    }
   ],
   "source": [
    "m = re.search(r\"GA[ATGC]{3}AC\",dna)\n",
    "m\n",
    "#m_pattern = m.group()\n",
    "#print(m_pattern)"
   ]
  },
  {
   "cell_type": "code",
   "execution_count": 19,
   "metadata": {},
   "outputs": [
    {
     "name": "stdout",
     "output_type": "stream",
     "text": [
      "entire match: GACGTACGTAC\n",
      "first bit: CGT\n",
      "second bit: GT\n"
     ]
    }
   ],
   "source": [
    "# Extrae un más de un bit del patrón\n",
    "dna = \"ATGACGTACGTACGACTG\"\n",
    "m = re.search(r\"GA([ATGC]{3})AC([ATGC]{2})AC\", dna)\n",
    "print(\"entire match: \" + m.group())\n",
    "print(\"first bit: \" + m.group(1))\n",
    "print(\"second bit: \" + m.group(2))"
   ]
  },
  {
   "cell_type": "code",
   "execution_count": 21,
   "metadata": {},
   "outputs": [
    {
     "name": "stdout",
     "output_type": "stream",
     "text": [
      "input string: ATGACGTACGTACGACTG\n",
      "entire match: GACGTACGTAC\n"
     ]
    }
   ],
   "source": [
    "# Algunos métodos\n",
    "dna = \"ATGACGTACGTACGACTG\"\n",
    "m = re.search(r\"GA([ATGC]{3})AC([ATGC]{2})AC\", dna)\n",
    "print(\"input string: \" + dna)\n",
    "print(\"entire match: \" + m.group())"
   ]
  },
  {
   "cell_type": "code",
   "execution_count": 23,
   "metadata": {},
   "outputs": [
    {
     "name": "stdout",
     "output_type": "stream",
     "text": [
      "start: 2\n"
     ]
    }
   ],
   "source": [
    "# Start()\n",
    "print(\"start: \" + str(m.start()))"
   ]
  },
  {
   "cell_type": "code",
   "execution_count": 25,
   "metadata": {},
   "outputs": [
    {
     "name": "stdout",
     "output_type": "stream",
     "text": [
      "end: 13\n"
     ]
    }
   ],
   "source": [
    "# End()\n",
    "print(\"end: \" + str(m.end()))"
   ]
  },
  {
   "cell_type": "code",
   "execution_count": 27,
   "metadata": {},
   "outputs": [
    {
     "name": "stdout",
     "output_type": "stream",
     "text": [
      "['A', 'TNG', 'ATRG', 'TA', 'GTYA', 'GATS', 'GAWT', 'G']\n"
     ]
    }
   ],
   "source": [
    "# Split()\n",
    "dna = \"ACTNGCATRGCTACGTYACGATSCGAWTCG\"\n",
    "runs = re.split(r\"C\", dna)\n",
    "print(runs)\t"
   ]
  },
  {
   "cell_type": "code",
   "execution_count": 29,
   "metadata": {},
   "outputs": [
    {
     "name": "stdout",
     "output_type": "stream",
     "text": [
      "input string: ATGACGTACGTACGACTG\n",
      "entire match: GACGTACGTAC\n",
      "first bit: CGT\n",
      "second bit: GT\n"
     ]
    }
   ],
   "source": [
    "# Extraer  usando group()\n",
    "dna = \"ATGACGTACGTACGACTG\"\n",
    "m = re.search(r\"GA([ATGC]{3})AC([ATGC]{2})AC\", dna)\n",
    "print(\"input string: \" + dna)\n",
    "print(\"entire match: \" + m.group())\n",
    "print(\"first bit: \" + m.group(1))\n",
    "print(\"second bit: \" + m.group(2))"
   ]
  },
  {
   "cell_type": "code",
   "execution_count": 31,
   "metadata": {},
   "outputs": [
    {
     "name": "stdout",
     "output_type": "stream",
     "text": [
      "N found at position 5\n",
      "R found at position 15\n",
      "Y found at position 25\n"
     ]
    }
   ],
   "source": [
    "# Finditer() detecta las bases erróneas \n",
    "dna = \"CGCTCNTAGATGCGCRATGACTGCAYTGC\" \n",
    "\n",
    "matches = re.finditer(r\"[^ATGC]\", dna) \n",
    "for m in matches: \n",
    "    base = m.group() \n",
    "    pos  = m.start() \n",
    "    print(base + \" found at position \" + str(pos))"
   ]
  },
  {
   "cell_type": "code",
   "execution_count": 33,
   "metadata": {},
   "outputs": [
    {
     "name": "stdout",
     "output_type": "stream",
     "text": [
      "La base N está en la posición 5\n",
      "La base R está en la posición 15\n",
      "La base Y está en la posición 25\n"
     ]
    }
   ],
   "source": [
    "dna = \"CGCTCNTAGATGCGCRATGACTGCAYTGC\" \n",
    "\n",
    "matches = re.finditer(r\"[^ATGC]\", dna) \n",
    "\n",
    "for i in matches:\n",
    "    match = i.group()\n",
    "    pos = i.start()\n",
    "    print(f\"La base {match} está en la posición {pos}\")"
   ]
  },
  {
   "cell_type": "code",
   "execution_count": 35,
   "metadata": {},
   "outputs": [
    {
     "name": "stdout",
     "output_type": "stream",
     "text": [
      "['ATTATAT', 'AAATTATA']\n"
     ]
    }
   ],
   "source": [
    "# Findall()\n",
    "dna = \"CTGCATTATATCGTACGAAATTATACGCGCG\" \n",
    "result = re.findall(r\"[AT]{6,}\", dna) #la coma indica que esté repetido 6 veces o más\n",
    "print(result)"
   ]
  },
  {
   "cell_type": "code",
   "execution_count": null,
   "metadata": {},
   "outputs": [],
   "source": []
  }
 ],
 "metadata": {
  "kernelspec": {
   "display_name": "Python 3 (ipykernel)",
   "language": "python",
   "name": "python3"
  },
  "language_info": {
   "codemirror_mode": {
    "name": "ipython",
    "version": 3
   },
   "file_extension": ".py",
   "mimetype": "text/x-python",
   "name": "python",
   "nbconvert_exporter": "python",
   "pygments_lexer": "ipython3",
   "version": "3.12.4"
  }
 },
 "nbformat": 4,
 "nbformat_minor": 4
}
