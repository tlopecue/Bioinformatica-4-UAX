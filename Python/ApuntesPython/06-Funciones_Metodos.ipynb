{
 "cells": [
  {
   "cell_type": "markdown",
   "id": "5f1f2528",
   "metadata": {},
   "source": [
    "### METODOS. Algunos ejemplos"
   ]
  },
  {
   "attachments": {},
   "cell_type": "markdown",
   "id": "3fdf12c7",
   "metadata": {},
   "source": [
    "Los métodos son funciones construidas en Python. ¡Ya hemos visto algunos en clase!\n",
    "\n",
    "Los métodos realizan acciones sobre un objeto y pueden tomar argumentos, como una función.\n",
    "\n",
    "Algunos ejemplos de métodos para las listas serían: **append()**, **count()**, **extend()**, **insert()**, **pop()**, **remove()**, **reverse()** o **sort()**."
   ]
  },
  {
   "cell_type": "code",
   "execution_count": 4,
   "id": "19e9e8d2",
   "metadata": {},
   "outputs": [],
   "source": [
    "lista = [1,2,3,4,5]"
   ]
  },
  {
   "cell_type": "code",
   "execution_count": 6,
   "id": "ab96c675",
   "metadata": {},
   "outputs": [
    {
     "data": {
      "text/plain": [
       "[1, 2, 3, 4, 5, 6]"
      ]
     },
     "execution_count": 6,
     "metadata": {},
     "output_type": "execute_result"
    }
   ],
   "source": [
    "lista.append(6)\n",
    "lista"
   ]
  },
  {
   "cell_type": "code",
   "execution_count": 8,
   "id": "54f0488c",
   "metadata": {},
   "outputs": [
    {
     "data": {
      "text/plain": [
       "1"
      ]
     },
     "execution_count": 8,
     "metadata": {},
     "output_type": "execute_result"
    }
   ],
   "source": [
    "lista.count(2)"
   ]
  },
  {
   "cell_type": "code",
   "execution_count": 10,
   "id": "ef6ec0a3",
   "metadata": {},
   "outputs": [
    {
     "name": "stdout",
     "output_type": "stream",
     "text": [
      "Help on built-in function count:\n",
      "\n",
      "count(value, /) method of builtins.list instance\n",
      "    Return number of occurrences of value.\n",
      "\n"
     ]
    }
   ],
   "source": [
    "help(lista.count)"
   ]
  },
  {
   "cell_type": "markdown",
   "id": "9af39265",
   "metadata": {},
   "source": [
    "### FUNCIONES"
   ]
  },
  {
   "attachments": {},
   "cell_type": "markdown",
   "id": "347a1b63",
   "metadata": {},
   "source": [
    "Una función nos permite guardar bloques de código y ejecutarlos numerosas veces llamándolos por su nombre. De esta forma, no necesitamos escribir todo el código cada vez que queramos ejecutarlo.\n",
    "\n",
    "Podemos especificar unos parámetros que nos sirvan como input para las funciones. También podemos especificar los valores de salida que queramos.\n",
    "\n",
    "Las funciones se denominan con **def nombre_función(arg1,arg2):**\n"
   ]
  },
  {
   "cell_type": "code",
   "execution_count": 14,
   "id": "0ea4ff95",
   "metadata": {},
   "outputs": [],
   "source": [
    "# Hacemos nuestra primera función\n",
    "def di_hola():\n",
    "    print('hola')\n"
   ]
  },
  {
   "cell_type": "code",
   "execution_count": 16,
   "id": "f8e3acff",
   "metadata": {},
   "outputs": [
    {
     "name": "stdout",
     "output_type": "stream",
     "text": [
      "hola\n"
     ]
    }
   ],
   "source": [
    "# Ahora llamamos a nuestra función\n",
    "di_hola()"
   ]
  },
  {
   "cell_type": "code",
   "execution_count": 18,
   "id": "b5276f17",
   "metadata": {},
   "outputs": [
    {
     "data": {
      "text/plain": [
       "<function __main__.di_hola()>"
      ]
     },
     "execution_count": 18,
     "metadata": {},
     "output_type": "execute_result"
    }
   ],
   "source": [
    "# Si no ponemos los paréntesis, vemos que nos dice que es una función\n",
    "di_hola"
   ]
  },
  {
   "cell_type": "code",
   "execution_count": 20,
   "id": "d4366bc9",
   "metadata": {
    "scrolled": true
   },
   "outputs": [
    {
     "name": "stdout",
     "output_type": "stream",
     "text": [
      "Hola Jose\n"
     ]
    }
   ],
   "source": [
    "# Podemos usar los argumentos\n",
    "def saludos(nombre):\n",
    "        print(f'Hola {nombre}')\n",
    "saludos('Jose')"
   ]
  },
  {
   "cell_type": "code",
   "execution_count": 22,
   "id": "e90d4e5f",
   "metadata": {},
   "outputs": [],
   "source": [
    "# Podemos mostrar el output de una función con print() o con return. Return nos permite guardar el resultado en una variable\n",
    "# Así ese resultado lo podemos usar para lo que queramos. \n",
    "# Con print no guardamos el resultado en una variable, solo lo mostramos.\n",
    "def suma_numeros(n1,n2):\n",
    "    suma=n1+n2\n",
    "    return suma"
   ]
  },
  {
   "cell_type": "code",
   "execution_count": 24,
   "id": "e146826d",
   "metadata": {},
   "outputs": [
    {
     "data": {
      "text/plain": [
       "9"
      ]
     },
     "execution_count": 24,
     "metadata": {},
     "output_type": "execute_result"
    }
   ],
   "source": [
    "valor=suma_numeros(4,5)\n",
    "valor"
   ]
  },
  {
   "cell_type": "code",
   "execution_count": 26,
   "id": "cfe7cc0f",
   "metadata": {},
   "outputs": [
    {
     "data": {
      "text/plain": [
       "9"
      ]
     },
     "execution_count": 26,
     "metadata": {},
     "output_type": "execute_result"
    }
   ],
   "source": [
    "# También podemos hacer esto\n",
    "resultado = suma_numeros(4,5)\n",
    "resultado"
   ]
  },
  {
   "cell_type": "code",
   "execution_count": null,
   "id": "ebf1a4d4",
   "metadata": {},
   "outputs": [],
   "source": [
    "# ¿Y si le metemos strings a suma_numeros?\n",
    "suma_numeros('uno','dos')"
   ]
  },
  {
   "cell_type": "code",
   "execution_count": null,
   "id": "745b0d95",
   "metadata": {},
   "outputs": [],
   "source": [
    "suma_numeros('uno',4)"
   ]
  },
  {
   "cell_type": "code",
   "execution_count": null,
   "id": "f1ff6e83",
   "metadata": {},
   "outputs": [],
   "source": [
    "# Vamos a hacer una función que chequea si un número de una lista es par\n",
    "# Para ello tenemos en cuenta que el módulo de un número par dividido entre 2 es igual a 0.\n",
    "def es_par(lista_numeros):\n",
    "    for numero in lista_numeros:\n",
    "            if numero % 2 == 0:\n",
    "                # si esta condición se cumple con return nos salimos de la lista\n",
    "                return True\n",
    "            else:\n",
    "                pass"
   ]
  },
  {
   "cell_type": "code",
   "execution_count": null,
   "id": "977bf174",
   "metadata": {},
   "outputs": [],
   "source": [
    "es_par([1,2,3])"
   ]
  },
  {
   "cell_type": "code",
   "execution_count": null,
   "id": "08813e52",
   "metadata": {},
   "outputs": [],
   "source": [
    "# Sin embargo, si son todos impares no devuelve nada\n",
    "es_par([1,3])"
   ]
  },
  {
   "cell_type": "code",
   "execution_count": null,
   "id": "42ef0372",
   "metadata": {},
   "outputs": [],
   "source": [
    "# Para corregirlo, podemos pensar que si añadirmos un return False, no? ¿Pero qué pasa si lo añadimos?\n",
    "def es_par(lista_numeros):\n",
    "    for numero in lista_numeros:\n",
    "            if numero % 2 == 0:\n",
    "                # si esta condición se cumple con return nos salimos de la lista\n",
    "                return True\n",
    "            else:\n",
    "                return False"
   ]
  },
  {
   "cell_type": "code",
   "execution_count": null,
   "id": "cf8999f8",
   "metadata": {},
   "outputs": [],
   "source": [
    "# Como el primero es impar, sale del bucle y ya no mira nada más\n",
    "es_par([1,2,3])"
   ]
  },
  {
   "cell_type": "code",
   "execution_count": null,
   "id": "9d6b233d",
   "metadata": {},
   "outputs": [],
   "source": [
    "# Esta sería una solución correcta\n",
    "def es_par(lista_numeros):\n",
    "    for numero in lista_numeros:\n",
    "            if numero % 2 == 0:\n",
    "                # si esta condición se cumple con return nos salimos de la lista\n",
    "                return True\n",
    "            else:\n",
    "                pass\n",
    "    # Cuando acaba de comprobar TODA la lista ahí sale del bloque\n",
    "    return False"
   ]
  },
  {
   "cell_type": "code",
   "execution_count": null,
   "id": "606cef62",
   "metadata": {},
   "outputs": [],
   "source": [
    "es_par([1,2,3])"
   ]
  },
  {
   "cell_type": "code",
   "execution_count": null,
   "id": "cdca8ff7",
   "metadata": {},
   "outputs": [],
   "source": [
    "es_par([1,3,7])"
   ]
  },
  {
   "cell_type": "code",
   "execution_count": null,
   "id": "4a457f82",
   "metadata": {},
   "outputs": [],
   "source": [
    "# Ahora vamos a por un ejemplo un poco más complicado. Queremos que nos devuelva TODOS los numeros pares en un lista. \n",
    "# Si no hay números pares, nos va a devolver la lista vacía\n",
    "def es_par(lista_numeros):\n",
    "    # Creamos una lista vacía\n",
    "    lista_pares = []\n",
    "    # Parseamos cada elemento de nuestro input:\n",
    "    for numero in lista_numeros:\n",
    "        if numero % 2 == 0:\n",
    "            # Si esto es verdad, añadimos nuestro elemento a la lista\n",
    "            lista_pares.append(numero)\n",
    "        else:\n",
    "            pass\n",
    "    return lista_pares"
   ]
  },
  {
   "cell_type": "code",
   "execution_count": null,
   "id": "640e5c75",
   "metadata": {},
   "outputs": [],
   "source": [
    "es_par([1,2,3,4,5,6])"
   ]
  },
  {
   "cell_type": "code",
   "execution_count": null,
   "id": "18484a02",
   "metadata": {},
   "outputs": [],
   "source": [
    "es_par([1,3,5,7,9])"
   ]
  },
  {
   "cell_type": "code",
   "execution_count": null,
   "id": "3ae5f1fb",
   "metadata": {
    "scrolled": true
   },
   "outputs": [],
   "source": [
    "# Vamos a crear ahora un pequeño juego. El jugador debe adivinar dónde está la letra \"O\"\n",
    "# Empezamos creando una lista con tres elementos dónde la \"O\" se pone de forma aleatoria\n",
    "from random import shuffle\n",
    "mi_lista = [' ','O',' ']\n",
    "def desordenar_lista(lista):\n",
    "    shuffle(lista)\n",
    "    return lista\n",
    "desordenar_lista(mi_lista)\n",
    "mi_lista"
   ]
  },
  {
   "cell_type": "code",
   "execution_count": null,
   "id": "a11e5406",
   "metadata": {},
   "outputs": [],
   "source": [
    "# Ahora el jugador tiene que adivinar dónde está. Para ello hacemos una función\n",
    "def adivinacion():\n",
    "    intento = ''\n",
    "    while intento not in ['0','1','2']:\n",
    "        intento = input(\"Esocoje un número: 0, 1, 2: \")\n",
    "    return int(intento)"
   ]
  },
  {
   "cell_type": "code",
   "execution_count": null,
   "id": "a8c6b138",
   "metadata": {},
   "outputs": [],
   "source": [
    "adivinacion()"
   ]
  },
  {
   "cell_type": "code",
   "execution_count": null,
   "id": "01ac8460",
   "metadata": {},
   "outputs": [],
   "source": [
    "# Ahora comprobamos el intento\n",
    "def comprobacion(lista,intento):\n",
    "    if lista[intento] == 'O':\n",
    "        print('¡Has acertado!')\n",
    "    else:\n",
    "        print('¡Has fallado! Suerte para la próxima')\n",
    "        print(lista)"
   ]
  },
  {
   "cell_type": "code",
   "execution_count": null,
   "id": "e3079352",
   "metadata": {
    "scrolled": true
   },
   "outputs": [],
   "source": [
    "# Ahora vamos a juntarlo todo\n",
    "mi_lista = [' ','O',' ']\n",
    "lista_desordenada=desordenar_lista(mi_lista)\n",
    "intento = adivinacion()\n",
    "comprobacion(lista_desordenada,intento)\n"
   ]
  },
  {
   "cell_type": "markdown",
   "id": "92e81fa5",
   "metadata": {},
   "source": [
    "### Ejercicios de Funciones"
   ]
  },
  {
   "cell_type": "markdown",
   "id": "1d4f18ca",
   "metadata": {},
   "source": [
    "#### 1.- El menor de dos pares. Escribe una función que devuelva el menor de dos números, SOLAMENTE si los dos números son pares. En caso de que uno de los dos, o los dos, sean impares, devuelve el número más alto"
   ]
  },
  {
   "cell_type": "code",
   "execution_count": null,
   "id": "a5c5e086",
   "metadata": {},
   "outputs": [],
   "source": [
    "def el_par_menor(n1,n2):\n",
    "    if n1%2 == 0 and n2%2 == 0:\n",
    "        return min(n1,n2)\n",
    "    else:\n",
    "        return max(n1,n2)"
   ]
  },
  {
   "cell_type": "code",
   "execution_count": null,
   "id": "ae147774",
   "metadata": {},
   "outputs": [],
   "source": [
    "el_par_menor(4,5)"
   ]
  },
  {
   "cell_type": "code",
   "execution_count": null,
   "id": "767cd496",
   "metadata": {},
   "outputs": [],
   "source": [
    "el_par_menor(8,10)"
   ]
  },
  {
   "cell_type": "markdown",
   "id": "253087f6",
   "metadata": {},
   "source": [
    "#### 2.- Escribe una función que tome como argumento una string de dos palabras y devuelva True si ambas empiezan por la misma letra"
   ]
  },
  {
   "cell_type": "code",
   "execution_count": null,
   "id": "bcc71873",
   "metadata": {},
   "outputs": [],
   "source": [
    "def dos_palabras(text):\n",
    "    lista_palabras = text.split()\n",
    "    if len(lista_palabras)==2:\n",
    "        if lista_palabras[0][0] == lista_palabras[1][0]:\n",
    "            return True\n",
    "        else:\n",
    "            return False\n",
    "    else:\n",
    "        print('¡Tu string no tiene dos palabras!')\n",
    "        return False\n",
    "        "
   ]
  },
  {
   "cell_type": "code",
   "execution_count": null,
   "id": "879e2144",
   "metadata": {},
   "outputs": [],
   "source": [
    "dos_palabras('Loca Llama')"
   ]
  },
  {
   "cell_type": "code",
   "execution_count": null,
   "id": "8af0e0cb",
   "metadata": {
    "scrolled": true
   },
   "outputs": [],
   "source": [
    "dos_palabras('Llama')"
   ]
  },
  {
   "cell_type": "code",
   "execution_count": null,
   "id": "c201d160",
   "metadata": {},
   "outputs": [],
   "source": [
    "dos_palabras('Volver Tiempo')"
   ]
  },
  {
   "cell_type": "markdown",
   "id": "7db0e184",
   "metadata": {},
   "source": [
    "#### 3.- Escribe una función que tome dos números enteros y que devuelva True si la suma de los dos es 20, o si uno de los dos es 20. Que devuelva Falso si no."
   ]
  },
  {
   "cell_type": "code",
   "execution_count": 34,
   "id": "564598ef-d1b0-4f8c-a745-c320ab405276",
   "metadata": {},
   "outputs": [],
   "source": [
    "def hacen_veinte(num1, num2):\n",
    "    if (num1+num2) == 20 or num1 ==20 or num2 == 20:\n",
    "        return True\n",
    "    else: \n",
    "        return False"
   ]
  },
  {
   "cell_type": "code",
   "execution_count": 38,
   "id": "03e6eee9-3c33-4012-a7c7-9a7cce2c0fc3",
   "metadata": {},
   "outputs": [
    {
     "data": {
      "text/plain": [
       "True"
      ]
     },
     "execution_count": 38,
     "metadata": {},
     "output_type": "execute_result"
    }
   ],
   "source": [
    "num1= 10\n",
    "num2= 10\n",
    "hacen_veinte(num1, num2)"
   ]
  },
  {
   "cell_type": "code",
   "execution_count": null,
   "id": "f1ae516e",
   "metadata": {},
   "outputs": [],
   "source": [
    "def hacen_veinte(n1,n2):\n",
    "    if (n1+n2)==20 or n1 == 20 or n2==20:\n",
    "        return True\n",
    "    else:\n",
    "        return False\n",
    "hacen_veinte(20,10)"
   ]
  },
  {
   "cell_type": "code",
   "execution_count": null,
   "id": "32c8679e",
   "metadata": {},
   "outputs": [],
   "source": [
    "hacen_veinte(12,8)"
   ]
  },
  {
   "cell_type": "code",
   "execution_count": null,
   "id": "77a4a46c",
   "metadata": {
    "scrolled": true
   },
   "outputs": [],
   "source": [
    "hacen_veinte(2,3)"
   ]
  },
  {
   "cell_type": "markdown",
   "id": "406eb793",
   "metadata": {},
   "source": [
    "#### 4.- Escribe una función que devuelva en mayúsculas la primera letra y la quinta letra de una palabra. Pista: usa capitalize()"
   ]
  },
  {
   "cell_type": "code",
   "execution_count": 52,
   "id": "138428a4-8ffc-4769-a932-188eafe13793",
   "metadata": {},
   "outputs": [],
   "source": [
    "palabra = 'Carromato'\n",
    "\n",
    "def mayusculas(palabra):\n",
    "     palabra.lower\n",
    "    if len(palabra) > 4:\n",
    "        return palabra[:4].capitalize() + palabra[4:].capitalize()\n",
    "    \n",
    "        #return palabra[0].capitalize() + palabra[5].capitalize()"
   ]
  },
  {
   "cell_type": "code",
   "execution_count": 62,
   "id": "22be9306-fe7c-4ae3-b153-c23e7976e652",
   "metadata": {},
   "outputs": [
    {
     "ename": "IndentationError",
     "evalue": "unindent does not match any outer indentation level (<string>, line 5)",
     "output_type": "error",
     "traceback": [
      "\u001b[1;36m  File \u001b[1;32m<string>:5\u001b[1;36m\u001b[0m\n\u001b[1;33m    if len(palabra) > 4:\u001b[0m\n\u001b[1;37m                        ^\u001b[0m\n\u001b[1;31mIndentationError\u001b[0m\u001b[1;31m:\u001b[0m unindent does not match any outer indentation level\n"
     ]
    }
   ],
   "source": [
    "palabra = 'Carromato'\n",
    "\n",
    "def mayusculas(palabra):\n",
    "     palabra.lower\n",
    "    if len(palabra) > 4:\n",
    "        return palabra[:3].capitalize()+ palabra[3:5].capitalize() + palabra[5:].capitalize()"
   ]
  },
  {
   "cell_type": "code",
   "execution_count": 64,
   "id": "d5830093-9464-4abb-a6a4-70d90155b573",
   "metadata": {
    "scrolled": true
   },
   "outputs": [
    {
     "data": {
      "text/plain": [
       "'CarrOmato'"
      ]
     },
     "execution_count": 64,
     "metadata": {},
     "output_type": "execute_result"
    }
   ],
   "source": [
    "mayusculas(palabra)"
   ]
  },
  {
   "cell_type": "code",
   "execution_count": 56,
   "id": "2db8b200-2202-44ad-b068-9a5a6ec4ba11",
   "metadata": {},
   "outputs": [
    {
     "data": {
      "text/plain": [
       "'DinoSaurio'"
      ]
     },
     "execution_count": 56,
     "metadata": {},
     "output_type": "execute_result"
    }
   ],
   "source": [
    "\n",
    "mayusculas('dinosaurio')"
   ]
  },
  {
   "cell_type": "code",
   "execution_count": null,
   "id": "c0e9c11e",
   "metadata": {},
   "outputs": [],
   "source": [
    "def algunas_mayusculas(nombre):\n",
    "    if len(nombre) > 4:\n",
    "        return nombre[:4].capitalize() + nombre[4:].capitalize()\n",
    "    else:\n",
    "        return 'El nombre es muy corto'"
   ]
  },
  {
   "cell_type": "code",
   "execution_count": 48,
   "id": "a373cf89",
   "metadata": {},
   "outputs": [
    {
     "ename": "NameError",
     "evalue": "name 'algunas_mayusculas' is not defined",
     "output_type": "error",
     "traceback": [
      "\u001b[1;31m---------------------------------------------------------------------------\u001b[0m",
      "\u001b[1;31mNameError\u001b[0m                                 Traceback (most recent call last)",
      "Cell \u001b[1;32mIn[48], line 1\u001b[0m\n\u001b[1;32m----> 1\u001b[0m algunas_mayusculas(\u001b[38;5;124m'\u001b[39m\u001b[38;5;124mdinosaurio\u001b[39m\u001b[38;5;124m'\u001b[39m)\n",
      "\u001b[1;31mNameError\u001b[0m: name 'algunas_mayusculas' is not defined"
     ]
    }
   ],
   "source": [
    "algunas_mayusculas('dinosaurio')"
   ]
  },
  {
   "cell_type": "markdown",
   "id": "9f8b992e",
   "metadata": {},
   "source": [
    "#### 5.- Escribe una función que devuelva una frase invertida."
   ]
  },
  {
   "cell_type": "code",
   "execution_count": null,
   "id": "f02378b5",
   "metadata": {},
   "outputs": [],
   "source": [
    "def maestro_yoda(frase):\n",
    "    return ' '.join(frase.split()[::-1])"
   ]
  },
  {
   "cell_type": "code",
   "execution_count": 72,
   "id": "64bdd569-c32a-4da1-847e-4df9646e9498",
   "metadata": {},
   "outputs": [],
   "source": [
    "frase = 'Mi carro me lo robaron'"
   ]
  },
  {
   "cell_type": "code",
   "execution_count": 86,
   "id": "a5494a71-f61f-431b-b49c-7626d0959969",
   "metadata": {
    "scrolled": true
   },
   "outputs": [
    {
     "data": {
      "text/plain": [
       "['Mi', 'carro', 'me', 'lo', 'robaron']"
      ]
     },
     "execution_count": 86,
     "metadata": {},
     "output_type": "execute_result"
    }
   ],
   "source": [
    "frase_lista = frase.split ()\n",
    "frase_lista"
   ]
  },
  {
   "cell_type": "code",
   "execution_count": 80,
   "id": "c644652a-61ae-4708-8a9e-76bf70a4fddd",
   "metadata": {
    "scrolled": true
   },
   "outputs": [
    {
     "data": {
      "text/plain": [
       "['robaron', 'lo', 'me', 'carro', 'Mi']"
      ]
     },
     "execution_count": 80,
     "metadata": {},
     "output_type": "execute_result"
    }
   ],
   "source": [
    "frase_lista[::-1]"
   ]
  },
  {
   "cell_type": "code",
   "execution_count": 88,
   "id": "26296054-fdd1-4732-a92d-74a830537ab6",
   "metadata": {},
   "outputs": [
    {
     "ename": "TypeError",
     "evalue": "'list' object is not callable",
     "output_type": "error",
     "traceback": [
      "\u001b[1;31m---------------------------------------------------------------------------\u001b[0m",
      "\u001b[1;31mTypeError\u001b[0m                                 Traceback (most recent call last)",
      "Cell \u001b[1;32mIn[88], line 2\u001b[0m\n\u001b[0;32m      1\u001b[0m frase_lista\u001b[38;5;241m=\u001b[39m frase\u001b[38;5;241m.\u001b[39msplit()\n\u001b[1;32m----> 2\u001b[0m mi_frase_yoda \u001b[38;5;241m=\u001b[39m \u001b[38;5;124m'\u001b[39m\u001b[38;5;124m \u001b[39m\u001b[38;5;124m'\u001b[39m\u001b[38;5;241m.\u001b[39mjoin(frase_lista()[::\u001b[38;5;241m-\u001b[39m\u001b[38;5;241m1\u001b[39m])\n\u001b[0;32m      3\u001b[0m mi_frase_yoda\n",
      "\u001b[1;31mTypeError\u001b[0m: 'list' object is not callable"
     ]
    }
   ],
   "source": [
    "frase_lista= frase.split()\n",
    "mi_frase_yoda = ' '.join(frase_lista()[::-1])\n",
    "mi_frase_yoda"
   ]
  },
  {
   "cell_type": "code",
   "execution_count": null,
   "id": "25d88ba3",
   "metadata": {},
   "outputs": [],
   "source": [
    "#frase='Aquí estoy'\n",
    "#sep=frase.split()\n",
    "#' '.join(sep)\n",
    "#frase[::-1]\n",
    "maestro_yoda('Estamos listos ya')"
   ]
  },
  {
   "cell_type": "markdown",
   "id": "784b3ec2",
   "metadata": {},
   "source": [
    "#### 6.- Dada una lista de enteros, devuelve True si contiene un 3 al lado de otro 3"
   ]
  },
  {
   "cell_type": "code",
   "execution_count": 90,
   "id": "2edaca3b",
   "metadata": {},
   "outputs": [],
   "source": [
    "def hay_33(lista):\n",
    "    for i in range(0,len(lista)-1):\n",
    "        if lista[i] == 3 and lista[i+1]==3:\n",
    "            return True\n",
    "    return False"
   ]
  },
  {
   "cell_type": "code",
   "execution_count": 92,
   "id": "e8151768",
   "metadata": {},
   "outputs": [
    {
     "data": {
      "text/plain": [
       "True"
      ]
     },
     "execution_count": 92,
     "metadata": {},
     "output_type": "execute_result"
    }
   ],
   "source": [
    "hay_33([1,3,3])"
   ]
  },
  {
   "cell_type": "code",
   "execution_count": 94,
   "id": "00fd0187",
   "metadata": {},
   "outputs": [
    {
     "data": {
      "text/plain": [
       "False"
      ]
     },
     "execution_count": 94,
     "metadata": {},
     "output_type": "execute_result"
    }
   ],
   "source": [
    "hay_33([1,3,1,3])"
   ]
  },
  {
   "cell_type": "markdown",
   "id": "2f3d3dea",
   "metadata": {},
   "source": [
    "#### 7.- Escribe una función que busque numeros primos. "
   ]
  },
  {
   "cell_type": "code",
   "execution_count": 53,
   "id": "2bc497dc-3400-4cbf-b77a-e8373d7562b9",
   "metadata": {},
   "outputs": [],
   "source": [
    "num= 13"
   ]
  },
  {
   "cell_type": "code",
   "execution_count": 55,
   "id": "ede19464-90ba-4a44-8b5a-4f9992eed37a",
   "metadata": {},
   "outputs": [],
   "source": [
    "def es_primo(num):\n",
    "    primo= True\n",
    "    for i in range(2,n):\n",
    "        if num%i == 0:\n",
    "            print('Este número no es primo')\n",
    "            primo= False\n",
    "            break\n",
    "        else:\n",
    "            continue\n",
    "    return primo"
   ]
  },
  {
   "cell_type": "code",
   "execution_count": 31,
   "id": "2472ecd6",
   "metadata": {},
   "outputs": [],
   "source": [
    "def es_primo(n):\n",
    "    for i in range(2,n):\n",
    "        if n%i==0:\n",
    "            print(n,'No es primo')\n",
    "            break\n",
    "        else:\n",
    "            continue\n",
    "    print(n,'Es primo')"
   ]
  },
  {
   "cell_type": "code",
   "execution_count": 59,
   "id": "a0df1b16",
   "metadata": {},
   "outputs": [
    {
     "ename": "NameError",
     "evalue": "name 'n' is not defined",
     "output_type": "error",
     "traceback": [
      "\u001b[1;31m---------------------------------------------------------------------------\u001b[0m",
      "\u001b[1;31mNameError\u001b[0m                                 Traceback (most recent call last)",
      "Cell \u001b[1;32mIn[59], line 1\u001b[0m\n\u001b[1;32m----> 1\u001b[0m es_primo(\u001b[38;5;241m13\u001b[39m)\n",
      "Cell \u001b[1;32mIn[55], line 3\u001b[0m, in \u001b[0;36mes_primo\u001b[1;34m(num)\u001b[0m\n\u001b[0;32m      1\u001b[0m \u001b[38;5;28;01mdef\u001b[39;00m \u001b[38;5;21mes_primo\u001b[39m(num):\n\u001b[0;32m      2\u001b[0m     primo\u001b[38;5;241m=\u001b[39m \u001b[38;5;28;01mTrue\u001b[39;00m\n\u001b[1;32m----> 3\u001b[0m     \u001b[38;5;28;01mfor\u001b[39;00m i \u001b[38;5;129;01min\u001b[39;00m \u001b[38;5;28mrange\u001b[39m(\u001b[38;5;241m2\u001b[39m,n):\n\u001b[0;32m      4\u001b[0m         \u001b[38;5;28;01mif\u001b[39;00m num\u001b[38;5;241m%\u001b[39mi \u001b[38;5;241m==\u001b[39m \u001b[38;5;241m0\u001b[39m:\n\u001b[0;32m      5\u001b[0m             \u001b[38;5;28mprint\u001b[39m(\u001b[38;5;124m'\u001b[39m\u001b[38;5;124mEste número no es primo\u001b[39m\u001b[38;5;124m'\u001b[39m)\n",
      "\u001b[1;31mNameError\u001b[0m: name 'n' is not defined"
     ]
    }
   ],
   "source": [
    "es_primo(13)"
   ]
  },
  {
   "cell_type": "code",
   "execution_count": 57,
   "id": "55032e96",
   "metadata": {},
   "outputs": [
    {
     "ename": "NameError",
     "evalue": "name 'n' is not defined",
     "output_type": "error",
     "traceback": [
      "\u001b[1;31m---------------------------------------------------------------------------\u001b[0m",
      "\u001b[1;31mNameError\u001b[0m                                 Traceback (most recent call last)",
      "Cell \u001b[1;32mIn[57], line 1\u001b[0m\n\u001b[1;32m----> 1\u001b[0m es_primo(\u001b[38;5;241m8\u001b[39m)\n",
      "Cell \u001b[1;32mIn[55], line 3\u001b[0m, in \u001b[0;36mes_primo\u001b[1;34m(num)\u001b[0m\n\u001b[0;32m      1\u001b[0m \u001b[38;5;28;01mdef\u001b[39;00m \u001b[38;5;21mes_primo\u001b[39m(num):\n\u001b[0;32m      2\u001b[0m     primo\u001b[38;5;241m=\u001b[39m \u001b[38;5;28;01mTrue\u001b[39;00m\n\u001b[1;32m----> 3\u001b[0m     \u001b[38;5;28;01mfor\u001b[39;00m i \u001b[38;5;129;01min\u001b[39;00m \u001b[38;5;28mrange\u001b[39m(\u001b[38;5;241m2\u001b[39m,n):\n\u001b[0;32m      4\u001b[0m         \u001b[38;5;28;01mif\u001b[39;00m num\u001b[38;5;241m%\u001b[39mi \u001b[38;5;241m==\u001b[39m \u001b[38;5;241m0\u001b[39m:\n\u001b[0;32m      5\u001b[0m             \u001b[38;5;28mprint\u001b[39m(\u001b[38;5;124m'\u001b[39m\u001b[38;5;124mEste número no es primo\u001b[39m\u001b[38;5;124m'\u001b[39m)\n",
      "\u001b[1;31mNameError\u001b[0m: name 'n' is not defined"
     ]
    }
   ],
   "source": [
    "es_primo(8)"
   ]
  },
  {
   "cell_type": "code",
   "execution_count": 39,
   "id": "9c89c849-cc8c-4cfd-a474-83a5a4f7376b",
   "metadata": {},
   "outputs": [
    {
     "name": "stdout",
     "output_type": "stream",
     "text": [
      "20 No es primo\n",
      "20 Es primo\n"
     ]
    }
   ],
   "source": [
    "es_primo(20)"
   ]
  },
  {
   "cell_type": "markdown",
   "id": "66eec5ea",
   "metadata": {},
   "source": [
    "#### 8.- Juego de espías. Escribe una función que encuentre la secuencia 007 en una lista"
   ]
  },
  {
   "cell_type": "code",
   "execution_count": 65,
   "id": "f2986135-9174-4328-a878-a510d2b77203",
   "metadata": {},
   "outputs": [],
   "source": [
    "lista=[1,2,4,0,0,7,5]"
   ]
  },
  {
   "cell_type": "code",
   "execution_count": 67,
   "id": "e2697ec5-64f6-4953-9977-8b0ec247b0ec",
   "metadata": {},
   "outputs": [],
   "source": [
    "def es_espia(lista):\n",
    "    espia=False\n",
    "    for i in range(0,len(lista)-2):\n",
    "        if lista [i]==0 and lista[i+1]==0 and lista[i+2]==7:\n",
    "            espia=True\n",
    "    return espia"
   ]
  },
  {
   "cell_type": "code",
   "execution_count": 69,
   "id": "b076ad96-a842-47c6-9ac1-d467e11ff722",
   "metadata": {},
   "outputs": [
    {
     "data": {
      "text/plain": [
       "True"
      ]
     },
     "execution_count": 69,
     "metadata": {},
     "output_type": "execute_result"
    }
   ],
   "source": [
    "es_espia(lista)"
   ]
  },
  {
   "cell_type": "code",
   "execution_count": 71,
   "id": "85879853",
   "metadata": {},
   "outputs": [],
   "source": [
    "def juego_espias(lista):\n",
    "    code=[0,0,7,'x']\n",
    "    for i in lista:\n",
    "        if i == code[0]:\n",
    "            code.remove(i)\n",
    "            #code.pop(0)\n",
    "    return len(code)==1"
   ]
  },
  {
   "cell_type": "code",
   "execution_count": 73,
   "id": "843478af",
   "metadata": {},
   "outputs": [
    {
     "data": {
      "text/plain": [
       "True"
      ]
     },
     "execution_count": 73,
     "metadata": {},
     "output_type": "execute_result"
    }
   ],
   "source": [
    "juego_espias([1,2,4,0,0,7,5])"
   ]
  },
  {
   "cell_type": "code",
   "execution_count": 75,
   "id": "a5a9c0f4",
   "metadata": {},
   "outputs": [
    {
     "data": {
      "text/plain": [
       "False"
      ]
     },
     "execution_count": 75,
     "metadata": {},
     "output_type": "execute_result"
    }
   ],
   "source": [
    "juego_espias([1,2,4,0,7,5,6])"
   ]
  },
  {
   "cell_type": "markdown",
   "id": "4e8f6489",
   "metadata": {},
   "source": [
    "#### 9.- Juego de BLACKJACK. Dados tres numeros enteros entre el 1 y el 11, si su suma es menor o igual que 21, devuelve su suma. Si su suma es mayor que 21 y hay un 11, resta 10 al total de la suma. Finalmente, si con el ajuste es mayor que 21, se devuelve BUST.\n",
    "##### 5,6,7 =18\n",
    "##### 9,9,9 = BUST\n",
    "##### 9,9,11 = 19"
   ]
  },
  {
   "cell_type": "code",
   "execution_count": 81,
   "id": "e7a4605f-921e-4db0-871e-0a827a180421",
   "metadata": {},
   "outputs": [
    {
     "ename": "SyntaxError",
     "evalue": "'return' outside function (3715700295.py, line 11)",
     "output_type": "error",
     "traceback": [
      "\u001b[1;36m  Cell \u001b[1;32mIn[81], line 11\u001b[1;36m\u001b[0m\n\u001b[1;33m    return suma\u001b[0m\n\u001b[1;37m    ^\u001b[0m\n\u001b[1;31mSyntaxError\u001b[0m\u001b[1;31m:\u001b[0m 'return' outside function\n"
     ]
    }
   ],
   "source": [
    "a=8\n",
    "b=7\n",
    "c=6\n",
    "\n",
    "\n",
    "if a>11 or b>11 or c>11 or a==0 or b==0 or c==0 and type(a)!=int and type(b)!=int and type(c)!=int:\n",
    "    print('ERROR: Fuera de rango')\n",
    "else: \n",
    "    suma=a+b+c\n",
    "    if suma <= 21:\n",
    "        return suma\n",
    "    elif suma > 21:\n",
    "        if a==11 or b==11 or c==11:\n",
    "            suma -= 10\n",
    "            if suma > 21:\n",
    "                print('BRUST')"
   ]
  },
  {
   "cell_type": "code",
   "execution_count": null,
   "id": "110b4581",
   "metadata": {},
   "outputs": [],
   "source": [
    "def blackjack(a,b,c):\n",
    "    # Primero comprobamos que ninguno de los numeros sea mayor que 11 o 0\n",
    "    if a>11 or b>11 or c>11 or a==0 or b==0 or c==0:\n",
    "        return 'Números fuera de rango'\n",
    "    else:\n",
    "        # Ahora calculamos la suma. Hay que poner doble paréntesis para que sum() pille más de dos argumentos\n",
    "        suma=sum((a,b,c))\n",
    "        if suma <= 21:\n",
    "            return suma\n",
    "        elif suma <= 31 and 11 in (a,b,c):\n",
    "            return suma - 10\n",
    "        else:\n",
    "            return 'BUST'"
   ]
  },
  {
   "cell_type": "code",
   "execution_count": null,
   "id": "82803b4d",
   "metadata": {},
   "outputs": [],
   "source": [
    "blackjack(9,9,9)"
   ]
  },
  {
   "cell_type": "code",
   "execution_count": null,
   "id": "ff6acf0b",
   "metadata": {},
   "outputs": [],
   "source": [
    "blackjack(5,6,7)"
   ]
  },
  {
   "cell_type": "code",
   "execution_count": null,
   "id": "47311839",
   "metadata": {},
   "outputs": [],
   "source": [
    "blackjack(9,9,11)"
   ]
  },
  {
   "cell_type": "code",
   "execution_count": null,
   "id": "d779baf7",
   "metadata": {},
   "outputs": [],
   "source": [
    "blackjack(0,2,3)"
   ]
  },
  {
   "cell_type": "code",
   "execution_count": null,
   "id": "5355d4d0",
   "metadata": {},
   "outputs": [],
   "source": [
    "blackjack(2,5,34)"
   ]
  }
 ],
 "metadata": {
  "kernelspec": {
   "display_name": "Python 3 (ipykernel)",
   "language": "python",
   "name": "python3"
  },
  "language_info": {
   "codemirror_mode": {
    "name": "ipython",
    "version": 3
   },
   "file_extension": ".py",
   "mimetype": "text/x-python",
   "name": "python",
   "nbconvert_exporter": "python",
   "pygments_lexer": "ipython3",
   "version": "3.12.4"
  }
 },
 "nbformat": 4,
 "nbformat_minor": 5
}
