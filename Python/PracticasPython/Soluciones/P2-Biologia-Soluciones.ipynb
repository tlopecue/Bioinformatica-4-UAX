{
 "cells": [
  {
   "cell_type": "markdown",
   "id": "985e6f9b",
   "metadata": {},
   "source": [
    "# PRACTICA 2\n",
    "\n",
    "### ¡Con todo lo aprendido con Python, vamos a resolver unos ejercicios de Bioinformática!\n",
    "\n",
    "#### 1.- Concatena las cadenas ATGCC y TCCG (1 pto)"
   ]
  },
  {
   "cell_type": "code",
   "execution_count": 6,
   "id": "c06c7b6f",
   "metadata": {},
   "outputs": [],
   "source": [
    "cadena1 = \"ATGCC\"\n",
    "cadena2 = \"TCCG\""
   ]
  },
  {
   "cell_type": "code",
   "execution_count": 7,
   "id": "b845927c",
   "metadata": {},
   "outputs": [
    {
     "data": {
      "text/plain": [
       "'ATGCCTCCG'"
      ]
     },
     "execution_count": 7,
     "metadata": {},
     "output_type": "execute_result"
    }
   ],
   "source": [
    "concatenada=cadena1 + cadena2\n",
    "concatenada"
   ]
  },
  {
   "cell_type": "code",
   "execution_count": 8,
   "id": "658fbd09",
   "metadata": {},
   "outputs": [
    {
     "data": {
      "text/plain": [
       "'ATGCCTCCG'"
      ]
     },
     "execution_count": 8,
     "metadata": {},
     "output_type": "execute_result"
    }
   ],
   "source": [
    "cadena1 += cadena2\n",
    "cadena1"
   ]
  },
  {
   "cell_type": "markdown",
   "id": "1f4b7708",
   "metadata": {},
   "source": [
    "#### 2.- ¿Cuál es la longitud de ATGCGAGT? (0.5 pt)"
   ]
  },
  {
   "cell_type": "code",
   "execution_count": 9,
   "id": "8f78cad8",
   "metadata": {},
   "outputs": [],
   "source": [
    "dna=\"ATGCGAGT\""
   ]
  },
  {
   "cell_type": "code",
   "execution_count": 10,
   "id": "ecce1da6",
   "metadata": {},
   "outputs": [
    {
     "name": "stdout",
     "output_type": "stream",
     "text": [
      "La longitud de la cadena es 8\n"
     ]
    }
   ],
   "source": [
    "print(f'La longitud de la cadena es {len(dna)}')"
   ]
  },
  {
   "cell_type": "markdown",
   "id": "6361c287",
   "metadata": {},
   "source": [
    "#### 3.- Con la cadena mgXDyTw, ponla en mayúsculas, luego en minúsculas. Extrae su longitud y divide la cadena por la letra \"g\" (1 pto)"
   ]
  },
  {
   "cell_type": "code",
   "execution_count": 12,
   "id": "b69beca1",
   "metadata": {},
   "outputs": [],
   "source": [
    "cadena=\"mgXDyTw\""
   ]
  },
  {
   "cell_type": "code",
   "execution_count": 18,
   "id": "51591dca",
   "metadata": {},
   "outputs": [
    {
     "data": {
      "text/plain": [
       "'MGXDYTW'"
      ]
     },
     "execution_count": 18,
     "metadata": {},
     "output_type": "execute_result"
    }
   ],
   "source": [
    "cadena = cadena.upper()\n",
    "cadena"
   ]
  },
  {
   "cell_type": "code",
   "execution_count": 19,
   "id": "e091d4ec",
   "metadata": {},
   "outputs": [
    {
     "data": {
      "text/plain": [
       "'mgxdytw'"
      ]
     },
     "execution_count": 19,
     "metadata": {},
     "output_type": "execute_result"
    }
   ],
   "source": [
    "cadena=cadena.lower()\n",
    "cadena"
   ]
  },
  {
   "cell_type": "code",
   "execution_count": 21,
   "id": "944078c8",
   "metadata": {},
   "outputs": [
    {
     "data": {
      "text/plain": [
       "7"
      ]
     },
     "execution_count": 21,
     "metadata": {},
     "output_type": "execute_result"
    }
   ],
   "source": [
    "len(cadena)"
   ]
  },
  {
   "cell_type": "code",
   "execution_count": 22,
   "id": "b9d2588c",
   "metadata": {},
   "outputs": [
    {
     "data": {
      "text/plain": [
       "['m', 'xdytw']"
      ]
     },
     "execution_count": 22,
     "metadata": {},
     "output_type": "execute_result"
    }
   ],
   "source": [
    "cadena.split('g')"
   ]
  },
  {
   "cell_type": "markdown",
   "id": "91c2ca9d",
   "metadata": {},
   "source": [
    "#### 4.- Con la secuencia de aminoácidos vlspadktnv, reemplaza la valina con la tirosina. Pista: usa replace() (1.5 pto)"
   ]
  },
  {
   "cell_type": "code",
   "execution_count": 24,
   "id": "a049ecdd",
   "metadata": {},
   "outputs": [],
   "source": [
    "aa = \"vlspadktnv\""
   ]
  },
  {
   "cell_type": "code",
   "execution_count": 25,
   "id": "0c464cc2",
   "metadata": {},
   "outputs": [
    {
     "data": {
      "text/plain": [
       "'ylspadktny'"
      ]
     },
     "execution_count": 25,
     "metadata": {},
     "output_type": "execute_result"
    }
   ],
   "source": [
    "reemplazada = aa.replace(\"v\",\"y\")\n",
    "reemplazada"
   ]
  },
  {
   "cell_type": "markdown",
   "id": "97f9ecd6",
   "metadata": {},
   "source": [
    "#### 5.- Cuenta las valinas de la secuencia original anterior. (1 pto)"
   ]
  },
  {
   "cell_type": "code",
   "execution_count": 26,
   "id": "b4b5600f",
   "metadata": {},
   "outputs": [
    {
     "name": "stdout",
     "output_type": "stream",
     "text": [
      "Valinas: 2\n"
     ]
    }
   ],
   "source": [
    "valinas = aa.count(\"v\")\n",
    "print(f'Valinas: {valinas}')"
   ]
  },
  {
   "cell_type": "markdown",
   "id": "6aac8e24",
   "metadata": {},
   "source": [
    "#### 6.- Con el diccionario siguiente imprime el valor de BisI y saca el valor de EcoRI con pop(). ¿Qué pasa con el diccionario? (2 pto)"
   ]
  },
  {
   "cell_type": "code",
   "execution_count": 27,
   "id": "c0c811d7",
   "metadata": {},
   "outputs": [],
   "source": [
    "enzR = {\n",
    "    'EcoRI':r'GAATTC',\n",
    "    'AvaII':r'GG(A|T)CC',\n",
    "    'BisI':r'GC[ATGC]GC'\n",
    "}"
   ]
  },
  {
   "cell_type": "code",
   "execution_count": null,
   "id": "bd786b19",
   "metadata": {},
   "outputs": [],
   "source": [
    "print('BisI')"
   ]
  },
  {
   "cell_type": "code",
   "execution_count": 28,
   "id": "5dacb009",
   "metadata": {},
   "outputs": [
    {
     "data": {
      "text/plain": [
       "'GC[ATGC]GC'"
      ]
     },
     "execution_count": 28,
     "metadata": {},
     "output_type": "execute_result"
    }
   ],
   "source": [
    "enzR['BisI']"
   ]
  },
  {
   "cell_type": "code",
   "execution_count": 29,
   "id": "b5a1a499",
   "metadata": {},
   "outputs": [
    {
     "data": {
      "text/plain": [
       "'GAATTC'"
      ]
     },
     "execution_count": 29,
     "metadata": {},
     "output_type": "execute_result"
    }
   ],
   "source": [
    "enzR.pop('EcoRI')"
   ]
  },
  {
   "cell_type": "code",
   "execution_count": 30,
   "id": "2b95e4dd",
   "metadata": {},
   "outputs": [
    {
     "data": {
      "text/plain": [
       "{'AvaII': 'GG(A|T)CC', 'BisI': 'GC[ATGC]GC'}"
      ]
     },
     "execution_count": 30,
     "metadata": {},
     "output_type": "execute_result"
    }
   ],
   "source": [
    "enzR"
   ]
  },
  {
   "cell_type": "markdown",
   "id": "4646bddd",
   "metadata": {},
   "source": [
    "#### 7.- Con la secuencia y la lista siguiente, escribe un algoritmo que cuente el número de veces que aparece un elemento de la lista en la secuencia. Pista: hacer un diccionario para almacenar los resultados puede ser buena idea (3 pto)"
   ]
  },
  {
   "cell_type": "code",
   "execution_count": 41,
   "id": "0a701a5e",
   "metadata": {},
   "outputs": [],
   "source": [
    "dna = \"AATGATGAACGAC\" \n",
    "dinucleotides = ['AA','AT','AG','AC', \n",
    "                 'TA','TT','TG','TC', \n",
    "                 'GA','GT','GG','GC', \n",
    "                 'CA','CT','CG','CT'] "
   ]
  },
  {
   "cell_type": "code",
   "execution_count": 33,
   "id": "e028dbc8",
   "metadata": {},
   "outputs": [
    {
     "name": "stdout",
     "output_type": "stream",
     "text": [
      "{'AA': 2, 'AT': 2, 'AG': 0, 'AC': 2, 'TA': 0, 'TT': 0, 'TG': 2, 'TC': 0, 'GA': 3, 'GT': 0, 'GG': 0, 'GC': 0, 'CA': 0, 'CT': 0, 'CG': 1}\n"
     ]
    }
   ],
   "source": [
    "dict_dnt = {}\n",
    "for dnt in dinucleotides:\n",
    "    conteo = dna.count(dnt)\n",
    "    dict_dnt[dnt]=conteo\n",
    "print(dict_dnt)"
   ]
  },
  {
   "cell_type": "markdown",
   "id": "a44b5e4c",
   "metadata": {},
   "source": [
    "##### ¿Cuántos counts tiene TC?"
   ]
  },
  {
   "cell_type": "code",
   "execution_count": 34,
   "id": "3003eef4",
   "metadata": {},
   "outputs": [
    {
     "data": {
      "text/plain": [
       "0"
      ]
     },
     "execution_count": 34,
     "metadata": {},
     "output_type": "execute_result"
    }
   ],
   "source": [
    "dict_dnt['TC']"
   ]
  },
  {
   "cell_type": "code",
   "execution_count": 36,
   "id": "9c780627",
   "metadata": {},
   "outputs": [
    {
     "data": {
      "text/plain": [
       "0"
      ]
     },
     "execution_count": 36,
     "metadata": {},
     "output_type": "execute_result"
    }
   ],
   "source": [
    "# Alternativa\n",
    "dict_dnt.get('TC')"
   ]
  },
  {
   "cell_type": "code",
   "execution_count": 37,
   "id": "f26eaff9",
   "metadata": {},
   "outputs": [
    {
     "name": "stdout",
     "output_type": "stream",
     "text": [
      "0\n"
     ]
    }
   ],
   "source": [
    "# Alternativa\n",
    "for i,count in dict_dnt.items():\n",
    "    if i=='TC':\n",
    "        print(count)"
   ]
  },
  {
   "cell_type": "markdown",
   "id": "70245f18",
   "metadata": {},
   "source": [
    "##### ¿Puedes imprimir los dinuleótidos que tengan counts igual a 2?"
   ]
  },
  {
   "cell_type": "code",
   "execution_count": 38,
   "id": "b83480e8",
   "metadata": {
    "scrolled": true
   },
   "outputs": [
    {
     "name": "stdout",
     "output_type": "stream",
     "text": [
      "AA tiene el valor 2\n",
      "AC tiene el valor 2\n",
      "AT tiene el valor 2\n",
      "TG tiene el valor 2\n"
     ]
    }
   ],
   "source": [
    "# Primera forma (sorted es opcional)\n",
    "for key in sorted(dict_dnt.keys()):\n",
    "    valor=dict_dnt[key]\n",
    "    if valor == 2:\n",
    "        print(f'{key} tiene el valor {valor}')"
   ]
  },
  {
   "cell_type": "code",
   "execution_count": 39,
   "id": "a00e31f3",
   "metadata": {},
   "outputs": [
    {
     "name": "stdout",
     "output_type": "stream",
     "text": [
      "AA\n",
      "AC\n",
      "AT\n",
      "TG\n"
     ]
    }
   ],
   "source": [
    "# Otra forma (sorted es opcional)\n",
    "for i,count in sorted(dict_dnt.items()):\n",
    "    if count == 2:\n",
    "        print(i)"
   ]
  },
  {
   "cell_type": "code",
   "execution_count": 52,
   "id": "b57d1a65",
   "metadata": {},
   "outputs": [
    {
     "name": "stdout",
     "output_type": "stream",
     "text": [
      "{'AA': 0, 'AT': 0, 'AG': 0, 'AC': 0, 'TA': 0, 'TT': 0, 'TG': 0, 'TC': 0, 'GA': 0, 'GT': 0, 'GG': 0, 'GC': 0, 'CA': 0, 'CT': 0, 'CG': 0}\n",
      "{'AA': 1, 'AT': 1, 'AG': 0, 'AC': 1, 'TA': 0, 'TT': 0, 'TG': 1, 'TC': 0, 'GA': 2, 'GT': 0, 'GG': 0, 'GC': 0, 'CA': 0, 'CT': 0, 'CG': 0}\n",
      "GA\n"
     ]
    }
   ],
   "source": [
    "# Otra solución (más real y adecuada a los resultados)\n",
    "\n",
    "# Dividimos la cadena dna de dos en dos\n",
    "dna_dividida_dnt = [dna[i:i+2] for i in range(0,len(dna),2)]\n",
    "# Si hay un número par de elementos, la dejamos tal cual, si no, eliminamos el último\n",
    "if len(dna_dividida_dnt) % 2 == 0:\n",
    "    pass\n",
    "else:\n",
    "    dna_dividida_dnt.pop()\n",
    "dna_dividida_dnt\n",
    "\n",
    "# Creamos un diccionario, con los valores a cero\n",
    "dict_nuevo={}\n",
    "for dnt in dinucleotides:\n",
    "    dict_nuevo[dnt]=0\n",
    "print(dict_nuevo)\n",
    "\n",
    "# Pasamos nuestra lista por el diccionario\n",
    "for i in dna_dividida_dnt:\n",
    "    dict_nuevo[i] += 1\n",
    "print(dict_nuevo)\n",
    "    \n",
    "dict_nuevo['TC']\n",
    "\n",
    "for key,valor in dict_nuevo.items():\n",
    "    if valor == 2:\n",
    "        print(key)"
   ]
  },
  {
   "cell_type": "code",
   "execution_count": 1,
   "id": "01333d2b",
   "metadata": {},
   "outputs": [],
   "source": [
    "# Alternativa de una compañera de clase\n",
    "dna = \"AATGATGAACGAC\" \n",
    "dinucleotides = ['AA','AT','AG','AC', \n",
    "                 'TA','TT','TG','TC', \n",
    "                 'GA','GT','GG','GC', \n",
    "                 'CA','CT','CG','CT'] "
   ]
  },
  {
   "cell_type": "code",
   "execution_count": 2,
   "id": "ba0cb8f3",
   "metadata": {},
   "outputs": [
    {
     "name": "stdout",
     "output_type": "stream",
     "text": [
      "{'dna': 'AATGATGAACGAC', 'didinucleotides': ['AA', 'AT', 'AG', 'AC', 'TA', 'TT', 'TG', 'TC', 'GA', 'GT', 'GG', 'GC', 'CA', 'CT', 'CG', 'CT']}\n"
     ]
    }
   ],
   "source": [
    "nucleotide_counts = {'dna':'AATGATGAACGAC' ,'didinucleotides':['AA','AT','AG','AC', \n",
    "                 'TA','TT','TG','TC', \n",
    "                 'GA','GT','GG','GC', \n",
    "                 'CA','CT','CG','CT'] }\n",
    "print(nucleotide_counts)"
   ]
  },
  {
   "cell_type": "code",
   "execution_count": 3,
   "id": "00f0ae8f",
   "metadata": {},
   "outputs": [],
   "source": [
    "for dinucleotide in dinucleotides:\n",
    "    nucleotide_counts[dinucleotide] = 0"
   ]
  },
  {
   "cell_type": "code",
   "execution_count": 4,
   "id": "c939b3ca",
   "metadata": {},
   "outputs": [],
   "source": [
    "for i in range(len(dna) - 1):  \n",
    "    dinucleotide = dna[i:i+2]\n",
    "    if dinucleotide in nucleotide_counts:\n",
    "        nucleotide_counts[dinucleotide] += 1"
   ]
  },
  {
   "cell_type": "code",
   "execution_count": 5,
   "id": "0ff9b5b7",
   "metadata": {},
   "outputs": [
    {
     "name": "stdout",
     "output_type": "stream",
     "text": [
      "{'dna': 'AATGATGAACGAC', 'didinucleotides': ['AA', 'AT', 'AG', 'AC', 'TA', 'TT', 'TG', 'TC', 'GA', 'GT', 'GG', 'GC', 'CA', 'CT', 'CG', 'CT'], 'AA': 2, 'AT': 2, 'AG': 0, 'AC': 2, 'TA': 0, 'TT': 0, 'TG': 2, 'TC': 0, 'GA': 3, 'GT': 0, 'GG': 0, 'GC': 0, 'CA': 0, 'CT': 0, 'CG': 1}\n"
     ]
    }
   ],
   "source": [
    "print(nucleotide_counts)"
   ]
  },
  {
   "cell_type": "code",
   "execution_count": 6,
   "id": "b199282a",
   "metadata": {},
   "outputs": [
    {
     "name": "stdout",
     "output_type": "stream",
     "text": [
      "'TC'0\n"
     ]
    }
   ],
   "source": [
    "tc_count = nucleotide_counts['TC']\n",
    "print(f\"'TC'{tc_count}\")"
   ]
  },
  {
   "cell_type": "code",
   "execution_count": 7,
   "id": "bedfcbbe",
   "metadata": {},
   "outputs": [
    {
     "name": "stdout",
     "output_type": "stream",
     "text": [
      "Dinucleótidos counts igual a 2:\n",
      "AA\n",
      "AT\n",
      "AC\n",
      "TG\n"
     ]
    }
   ],
   "source": [
    "print(\"Dinucleótidos counts igual a 2:\")\n",
    "for dinucleotide, count in nucleotide_counts.items():\n",
    "    if count == 2:\n",
    "        print(dinucleotide)"
   ]
  }
 ],
 "metadata": {
  "kernelspec": {
   "display_name": "Python 3 (ipykernel)",
   "language": "python",
   "name": "python3"
  },
  "language_info": {
   "codemirror_mode": {
    "name": "ipython",
    "version": 3
   },
   "file_extension": ".py",
   "mimetype": "text/x-python",
   "name": "python",
   "nbconvert_exporter": "python",
   "pygments_lexer": "ipython3",
   "version": "3.11.4"
  }
 },
 "nbformat": 4,
 "nbformat_minor": 5
}
