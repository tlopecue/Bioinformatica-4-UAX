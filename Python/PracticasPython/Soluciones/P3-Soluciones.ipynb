{
 "cells": [
  {
   "cell_type": "markdown",
   "id": "e87fdfc4",
   "metadata": {},
   "source": [
    "# PRACTICA\n",
    "\n",
    "## JUEGO DE ADIVINANZAS\n",
    "\n",
    "#### Escribe un programa que coja un número entero del 1 al 100, y los jugadores tienen que tratar de adivinar el número.\n",
    "\n",
    "#### Las reglas son las siguientes:\n",
    "\n",
    "1. Si un jugador escoje un número menor que 1 o mayor que 100, el programa dice \"FUERA DE LÍMITES\"\n",
    "2. En el primer turno del jugador, si está en un rango de 10 del número dice \"¡CALIENTE!\". Si está fuera de ese rango dice \"¡FRIO!\"\n",
    "3. En todas las rondas siguientes, si el jugador se acerca más que la vez anterior, dice \"¡MAS CALIENTE!\". Si está más lejos que la anterior vez dice \"¡MAS FRIO!\"\n",
    "4. Cuando el jugador acierte el número, les dirá que han acertado y cuántos intentos les ha llevado\n",
    "\n",
    "\n",
    "\n"
   ]
  },
  {
   "cell_type": "markdown",
   "id": "1ea418c3",
   "metadata": {},
   "source": [
    "##### PISTAS\n",
    "1. Trata obtener un número aleatorio entre el 1 y el 100\n",
    "2. Haz una introducción de tu juego y explica las reglas\n",
    "3. Crea una lista que almacene los intentos. \n",
    "4. Haz un bucle que evalúe un número. Prueba que funcione primero. While podría ir bien\n",
    "5. Modifica ese bucle para que compare nuestro número con el intento. Si se acierta usa break, si no puedes usar continue y tienes que seguir preguntando al jugador por nuevos intentos"
   ]
  },
  {
   "cell_type": "code",
   "execution_count": null,
   "id": "12962a66",
   "metadata": {},
   "outputs": [],
   "source": [
    "def guess_a_number_game():\n",
    "    import random\n",
    "    num=random.randint(1,100)\n",
    "\n",
    "    print(\"WELCOME TO GUESS ME!\")\n",
    "    print(\"I'm thinking of a number between 1 and 100\")\n",
    "    print(\"If your guess is more than 10 away from my number, I'll tell you you're COLD\")\n",
    "    print(\"If your guess is within 10 of my number, I'll tell you you're WARM\")\n",
    "    print(\"If your guess is farther than your most recent guess, I'll say you're getting COLDER\")\n",
    "    print(\"If your guess is closer than your most recent guess, I'll say you're getting WARMER\")\n",
    "    print(\"LET'S PLAY!\")\n",
    "    \n",
    "    guesses = [0]\n",
    "    \n",
    "    while True:\n",
    "\n",
    "        guess = input(\"I'm thinking of a number between 1 and 100.\\n  What is your guess? \")\n",
    "        \n",
    "        # check for number introduced is a digit, else try again\n",
    "        if guess.isdigit():\n",
    "            if int(guess) < 1 or int(guess) > 100:\n",
    "                print('OUT OF BOUNDS! Please try again: ')\n",
    "                continue\n",
    "        else:\n",
    "            print('Number introduced is not valid! You submitted either a float number or a letter. Please try again:')\n",
    "            continue\n",
    "    \n",
    "        # here we compare the player's guess to our number\n",
    "        if int(guess) == num:\n",
    "            print(f'CONGRATULATIONS, YOU GUESSED IT IN ONLY {len(guesses)} GUESSES!!')\n",
    "            break\n",
    "        \n",
    "        # if guess is incorrect, add guess to the list\n",
    "        guesses.append(int(guess))\n",
    "    \n",
    "        # when testing the first guess, guesses[-2]==0, which evaluates to False\n",
    "        # and brings us down to the second section\n",
    "    \n",
    "        if guesses[-2]:  \n",
    "            if abs(num-int(guess)) < abs(num-guesses[-2]):\n",
    "                print('WARMER!')\n",
    "            else:\n",
    "                print('COLDER!')\n",
    "   \n",
    "        else:\n",
    "            if abs(num-int(guess)) <= 10:\n",
    "                print('WARM!')\n",
    "            else:\n",
    "                print('COLD!')"
   ]
  },
  {
   "cell_type": "code",
   "execution_count": null,
   "id": "66f26afc",
   "metadata": {},
   "outputs": [],
   "source": [
    "guess_a_number_game()"
   ]
  }
 ],
 "metadata": {
  "kernelspec": {
   "display_name": "Python 3 (ipykernel)",
   "language": "python",
   "name": "python3"
  },
  "language_info": {
   "codemirror_mode": {
    "name": "ipython",
    "version": 3
   },
   "file_extension": ".py",
   "mimetype": "text/x-python",
   "name": "python",
   "nbconvert_exporter": "python",
   "pygments_lexer": "ipython3",
   "version": "3.11.4"
  }
 },
 "nbformat": 4,
 "nbformat_minor": 5
}
