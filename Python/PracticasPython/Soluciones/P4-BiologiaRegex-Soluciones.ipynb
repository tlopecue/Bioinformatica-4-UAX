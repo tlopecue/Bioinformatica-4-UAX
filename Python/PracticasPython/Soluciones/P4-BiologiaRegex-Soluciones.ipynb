{
 "cells": [
  {
   "cell_type": "markdown",
   "id": "985e6f9b",
   "metadata": {},
   "source": [
    "# PRACTICA 4\n",
    "\n",
    "### Resuelve los siguientes ejercicios"
   ]
  },
  {
   "cell_type": "markdown",
   "id": "28748e51",
   "metadata": {},
   "source": [
    "##### 1.- Abre el fichero dna.txt, guarda una lista del contenido del archivo. Devuelve su longitud y su primer caracter"
   ]
  },
  {
   "cell_type": "code",
   "execution_count": 1,
   "id": "0f4a7d5c",
   "metadata": {},
   "outputs": [
    {
     "data": {
      "text/plain": [
       "['ATCGATCGATCGATCGACTGACTAGTCATAGCTATGCATGTAGCTACTCGATCGATCGATCGATCGATCGATCGATCGATCGATCATGCTATCATCGATCGATATCGATGCATCGACTACTAT']"
      ]
     },
     "execution_count": 1,
     "metadata": {},
     "output_type": "execute_result"
    }
   ],
   "source": [
    "file=open(\"dna.txt\")\n",
    "all_lines = file.readlines()\n",
    "file.close()\n",
    "all_lines"
   ]
  },
  {
   "cell_type": "code",
   "execution_count": 2,
   "id": "854fa569",
   "metadata": {},
   "outputs": [
    {
     "data": {
      "text/plain": [
       "123"
      ]
     },
     "execution_count": 2,
     "metadata": {},
     "output_type": "execute_result"
    }
   ],
   "source": [
    "len(all_lines[0])"
   ]
  },
  {
   "cell_type": "code",
   "execution_count": 3,
   "id": "9e1a893d",
   "metadata": {},
   "outputs": [
    {
     "data": {
      "text/plain": [
       "'ATCGATCGATCGATCGACTGACTAGTCATAGCTATGCATGTAGCTACTCGATCGATCGATCGATCGATCGATCGATCGATCGATCATGCTATCATCGATCGATATCGATGCATCGACTACTAT'"
      ]
     },
     "execution_count": 3,
     "metadata": {},
     "output_type": "execute_result"
    }
   ],
   "source": [
    "cadena_dna=all_lines[0]\n",
    "cadena_dna"
   ]
  },
  {
   "cell_type": "code",
   "execution_count": 4,
   "id": "fc906f6b",
   "metadata": {},
   "outputs": [
    {
     "data": {
      "text/plain": [
       "'A'"
      ]
     },
     "execution_count": 4,
     "metadata": {},
     "output_type": "execute_result"
    }
   ],
   "source": [
    "cadena_dna[0]"
   ]
  },
  {
   "cell_type": "code",
   "execution_count": 5,
   "id": "2daa5d76",
   "metadata": {},
   "outputs": [
    {
     "data": {
      "text/plain": [
       "'A'"
      ]
     },
     "execution_count": 5,
     "metadata": {},
     "output_type": "execute_result"
    }
   ],
   "source": [
    "all_lines[0][0]"
   ]
  },
  {
   "cell_type": "code",
   "execution_count": 6,
   "id": "a0887d23",
   "metadata": {},
   "outputs": [
    {
     "name": "stdout",
     "output_type": "stream",
     "text": [
      "El primer caracter es A\n",
      "Hay 1 líneas\n",
      "La línea tiene 123 caracteres\n"
     ]
    }
   ],
   "source": [
    "file=open(\"dna.txt\")\n",
    "all_lines=file.readlines()\n",
    "file.close()\n",
    "\n",
    "for i in all_lines:\n",
    "    print(f'El primer caracter es {i[0]}')\n",
    "print(f'Hay {len(all_lines)} líneas')\n",
    "\n",
    "for i in all_lines:\n",
    "    print(f'La línea tiene {len(i)} caracteres')"
   ]
  },
  {
   "cell_type": "markdown",
   "id": "9b87396a",
   "metadata": {},
   "source": [
    "##### 2.- Crea dos archivos. Uno almacena los accession que empiezen por 'a' y el otro el resto"
   ]
  },
  {
   "cell_type": "code",
   "execution_count": 9,
   "id": "73957856",
   "metadata": {},
   "outputs": [],
   "source": [
    "accs = ['ab56', 'bh84', 'hv76', 'ay93', 'ap97', 'bd72']"
   ]
  },
  {
   "cell_type": "code",
   "execution_count": 10,
   "id": "cf145519",
   "metadata": {},
   "outputs": [],
   "source": [
    "file1=open(\"acc_a.txt\",\"w\")\n",
    "file2=open(\"acc_resto.txt\",\"w\")"
   ]
  },
  {
   "cell_type": "code",
   "execution_count": 11,
   "id": "70e4c1c1",
   "metadata": {},
   "outputs": [],
   "source": [
    "for accession in accs:\n",
    "    if accession.startswith('a'):\n",
    "        file1.write(accession + \"\\n\")\n",
    "    else:\n",
    "        file2.write(accession + \"\\n\")"
   ]
  },
  {
   "cell_type": "markdown",
   "id": "9cbb4adf",
   "metadata": {},
   "source": [
    "##### 3.- Imprime solamente los accessions de la lista anterior que empiecen por 'a' y no acaben con '6'. Pista: usa endswith() y startswidth()"
   ]
  },
  {
   "cell_type": "code",
   "execution_count": 12,
   "id": "2465a22c",
   "metadata": {},
   "outputs": [
    {
     "name": "stdout",
     "output_type": "stream",
     "text": [
      "ay93\n",
      "ap97\n"
     ]
    }
   ],
   "source": [
    "for acc in accs:\n",
    "    if acc.startswith('a') and not acc.endswith('6'):\n",
    "        print(acc)"
   ]
  },
  {
   "cell_type": "markdown",
   "id": "42c397b0",
   "metadata": {},
   "source": [
    "##### 4.- Escribe una función que cuente el porcentaje de A de una secuencia"
   ]
  },
  {
   "cell_type": "code",
   "execution_count": 14,
   "id": "06f579c2",
   "metadata": {},
   "outputs": [],
   "source": [
    "dna = \"AATGATGAACGAC\" \n",
    "def get_a_percentaje(secuencia):\n",
    "    num_a=secuencia.count(\"A\")\n",
    "    longitud=len(secuencia)\n",
    "    porcentaje_a=(num_a/longitud)*100\n",
    "    return round(porcentaje_a,1)"
   ]
  },
  {
   "cell_type": "code",
   "execution_count": 15,
   "id": "2eb877a3",
   "metadata": {},
   "outputs": [
    {
     "data": {
      "text/plain": [
       "46.2"
      ]
     },
     "execution_count": 15,
     "metadata": {},
     "output_type": "execute_result"
    }
   ],
   "source": [
    "get_a_percentaje(dna)"
   ]
  },
  {
   "cell_type": "code",
   "execution_count": 16,
   "id": "fa886e78",
   "metadata": {},
   "outputs": [],
   "source": [
    "assert get_at_percentaje(\"ATGC\") == 25.0"
   ]
  },
  {
   "cell_type": "markdown",
   "id": "054b8f51",
   "metadata": {},
   "source": [
    "##### ¿Puedes hacer que devuelva dos decimales? ¿Y que lidie con mayúsculas y minúsculas?"
   ]
  },
  {
   "cell_type": "code",
   "execution_count": 21,
   "id": "8f81e89e",
   "metadata": {},
   "outputs": [
    {
     "name": "stdout",
     "output_type": "stream",
     "text": [
      "0.25\n",
      "0.29\n",
      "0.3\n"
     ]
    }
   ],
   "source": [
    "def get_a_content(dna): \n",
    "    length = len(dna) \n",
    "    a_count = dna.upper().count('A')\n",
    "    a_content = a_count / length \n",
    "    return round(a_content, 2)\n",
    "my_a_content = get_a_content(\"ATGCGCGATCGATCGAATCG\")\n",
    "print(str(my_a_content))\n",
    "print(get_a_content(\"ATGCATGCAACTGTAGC\"))\n",
    "print(get_a_content(\"aactgtagctagctagcagcgta\"))"
   ]
  },
  {
   "cell_type": "markdown",
   "id": "36a03b5f",
   "metadata": {},
   "source": [
    "##### ¿Y que devuelva el número de decimales que yo quiero?"
   ]
  },
  {
   "cell_type": "code",
   "execution_count": 18,
   "id": "8e895533",
   "metadata": {},
   "outputs": [
    {
     "name": "stdout",
     "output_type": "stream",
     "text": [
      "0.3\n",
      "0.29\n",
      "0.294\n"
     ]
    }
   ],
   "source": [
    "def get_a_content(dna, sig_figs):\n",
    "    length = len(dna) \n",
    "    a_count = dna.upper().count('A') \n",
    "    a_content = a_count / length \n",
    "    return round(a_content, sig_figs)\n",
    "\n",
    "test_dna = \"ATGCATGCAACTGTAGC\"\n",
    "print(get_a_content(test_dna, sig_figs=1))\n",
    "print(get_a_content(test_dna, 2))\n",
    "print(get_a_content(test_dna, 3))"
   ]
  },
  {
   "cell_type": "markdown",
   "id": "2c811d84",
   "metadata": {},
   "source": [
    "##### ¿Sabes poner un valor por defecto en un argumento?"
   ]
  },
  {
   "cell_type": "code",
   "execution_count": 24,
   "id": "e29ec064",
   "metadata": {},
   "outputs": [
    {
     "name": "stdout",
     "output_type": "stream",
     "text": [
      "0.18\n",
      "0.182\n",
      "0.1818\n"
     ]
    }
   ],
   "source": [
    "def get_a_content(dna, sig_figs=2):\n",
    "    length = len(dna) \n",
    "    a_count = dna.upper().count('A') \n",
    "    a_content = a_count/ length \n",
    "    return round(a_content, sig_figs)\n",
    "print(get_a_content(\"ATCGTGACTCG\"))\n",
    "print(get_a_content(\"ATCGTGACTCG\", 3))\n",
    "print(get_a_content(\"ATCGTGACTCG\", sig_figs=4))"
   ]
  },
  {
   "cell_type": "markdown",
   "id": "ab2c106c",
   "metadata": {},
   "source": [
    "##### ¿Qué pasa si no ponemos un argumento? ¿Sabrías hacer una función encapsulada?"
   ]
  },
  {
   "cell_type": "code",
   "execution_count": 23,
   "id": "2ff9001a",
   "metadata": {},
   "outputs": [
    {
     "name": "stdout",
     "output_type": "stream",
     "text": [
      "0.25\n"
     ]
    }
   ],
   "source": [
    "# Fíjate que esto no es tan buena idea porque tendríamos que trabajar siempre con una variable llamada dna\n",
    "def get_a_content(): \n",
    "    length = len(dna) \n",
    "    a_count = dna.upper().count('A') \n",
    "    a_content = a_count / length \n",
    "    return round(a_content, 2) \n",
    "\n",
    "dna = \"ACTGATCGATCG\"\n",
    "print(get_a_content())"
   ]
  },
  {
   "cell_type": "markdown",
   "id": "83af4b0f",
   "metadata": {},
   "source": [
    "##### Testea tu función original con assert"
   ]
  },
  {
   "cell_type": "code",
   "execution_count": 22,
   "id": "4709dfd0",
   "metadata": {},
   "outputs": [],
   "source": [
    "assert get_a_content(\"ATGC\") == 0.25"
   ]
  },
  {
   "cell_type": "markdown",
   "id": "991abaa2",
   "metadata": {},
   "source": [
    "#### 5.- De la lista de accessions que se proporciona obtén lo siguiente:\n",
    "1. Los que tengan el número 5\n",
    "2. Los que tengan la letra 'd' o la 'e'\n",
    "3. Los que tengan las letras 'd' y 'e' en ese orden\n",
    "4. Los que tengan las letras 'd' y 'e' en ese orden con una letra cualquiera en medio\n",
    "5. Los que tengan ambas letras 'd' y 'e' en cualquier orden\n",
    "6. Los que empiezan por 'x' o por 'y'\n",
    "7. Los que empiezan por 'x' o 'y' y terminan por 'e'\n",
    "8. Los que tienen tres o más dígitos seguidos\n",
    "9. Los que terminan con 'd' seguidos de 'a' o 'r' o 'p'"
   ]
  },
  {
   "cell_type": "code",
   "execution_count": 26,
   "id": "6388ac75",
   "metadata": {},
   "outputs": [],
   "source": [
    "import re"
   ]
  },
  {
   "cell_type": "code",
   "execution_count": 27,
   "id": "d00d3ce7",
   "metadata": {},
   "outputs": [],
   "source": [
    "accs = ['xkn59438', 'yhdck2', 'eihd39d9', 'chdsye847', 'hedle3455', 'xjhd53e', '45da', 'de37dp']"
   ]
  },
  {
   "cell_type": "code",
   "execution_count": 28,
   "id": "bb87128a",
   "metadata": {},
   "outputs": [
    {
     "name": "stdout",
     "output_type": "stream",
     "text": [
      "\txkn59438\n",
      "\thedle3455\n",
      "\txjhd53e\n",
      "\t45da\n"
     ]
    }
   ],
   "source": [
    "#1\n",
    "for elemento in accs:\n",
    "    if re.search(r\"5\",elemento):\n",
    "        print(\"\\t\" + elemento)"
   ]
  },
  {
   "cell_type": "code",
   "execution_count": 29,
   "id": "c1a64e64",
   "metadata": {},
   "outputs": [
    {
     "name": "stdout",
     "output_type": "stream",
     "text": [
      "contains d or e:\n",
      "\tyhdck2\n",
      "\teihd39d9\n",
      "\tchdsye847\n",
      "\thedle3455\n",
      "\txjhd53e\n",
      "\t45da\n",
      "\tde37dp\n"
     ]
    }
   ],
   "source": [
    "#2\n",
    "print(\"contains d or e:\")\n",
    "for acc in accs: \n",
    "    if re.search(r\"d\", acc) or re.search(r\"e\",acc):\n",
    "        print(\"\\t\" + acc) "
   ]
  },
  {
   "cell_type": "code",
   "execution_count": 30,
   "id": "c1a53c74",
   "metadata": {},
   "outputs": [
    {
     "name": "stdout",
     "output_type": "stream",
     "text": [
      "contains d or e:\n",
      "\tyhdck2\n",
      "\teihd39d9\n",
      "\tchdsye847\n",
      "\thedle3455\n",
      "\txjhd53e\n",
      "\t45da\n",
      "\tde37dp\n"
     ]
    }
   ],
   "source": [
    "print(\"contains d or e:\")\n",
    "for acc in accs: \n",
    "    if re.search(r\"(d|e)\", acc): \n",
    "        print(\"\\t\" + acc) "
   ]
  },
  {
   "cell_type": "code",
   "execution_count": 31,
   "id": "4c186bd1",
   "metadata": {},
   "outputs": [
    {
     "name": "stdout",
     "output_type": "stream",
     "text": [
      "contains d and e in that order:\n",
      "\tchdsye847\n",
      "\thedle3455\n",
      "\txjhd53e\n",
      "\tde37dp\n"
     ]
    }
   ],
   "source": [
    "#3\n",
    "print(\"contains d and e in that order:\")\n",
    "for acc in accs: \n",
    "    if re.search(r\"d.*e\", acc): \n",
    "        print(\"\\t\" + acc)"
   ]
  },
  {
   "cell_type": "code",
   "execution_count": 32,
   "id": "e8f0303c",
   "metadata": {},
   "outputs": [
    {
     "name": "stdout",
     "output_type": "stream",
     "text": [
      "contains d and e separated by a single letter:\n",
      "\thedle3455\n"
     ]
    }
   ],
   "source": [
    "#4\n",
    "print(\"contains d and e separated by a single letter:\")\n",
    "for acc in accs: \n",
    "    if re.search(r\"(d[a-z]e)\", acc): \n",
    "        print(\"\\t\" + acc) "
   ]
  },
  {
   "cell_type": "code",
   "execution_count": 33,
   "id": "91ec7ca9",
   "metadata": {},
   "outputs": [
    {
     "name": "stdout",
     "output_type": "stream",
     "text": [
      "contains d and e in any order:\n",
      "\teihd39d9\n",
      "\tchdsye847\n",
      "\thedle3455\n",
      "\txjhd53e\n",
      "\tde37dp\n"
     ]
    }
   ],
   "source": [
    "#5\n",
    "print(\"contains d and e in any order:\")\n",
    "for acc in accs: \n",
    "    if re.search(r\"d.*e\", acc) or re.search(r\"e.*d\", acc): \n",
    "        print(\"\\t\" + acc) "
   ]
  },
  {
   "cell_type": "code",
   "execution_count": 34,
   "id": "3407aff9",
   "metadata": {},
   "outputs": [
    {
     "name": "stdout",
     "output_type": "stream",
     "text": [
      "starts with either x or y:\n",
      "\txkn59438\n",
      "\tyhdck2\n",
      "\txjhd53e\n"
     ]
    }
   ],
   "source": [
    "#6\n",
    "print(\"starts with either x or y:\")\n",
    "for acc in accs: \n",
    "    if re.search(r\"^(x|y)\", acc): \n",
    "        print(\"\\t\" + acc) \n"
   ]
  },
  {
   "cell_type": "code",
   "execution_count": 35,
   "id": "97ffe744",
   "metadata": {},
   "outputs": [
    {
     "name": "stdout",
     "output_type": "stream",
     "text": [
      "starts with either x or y and ends with e:\n",
      "\txjhd53e\n"
     ]
    }
   ],
   "source": [
    "#7\n",
    "print(\"starts with either x or y and ends with e:\")\n",
    "for acc in accs: \n",
    "    if re.search(r\"^(x|y).*e$\", acc): \n",
    "        print(\"\\t\" + acc) "
   ]
  },
  {
   "cell_type": "code",
   "execution_count": 36,
   "id": "f2240a74",
   "metadata": {},
   "outputs": [
    {
     "name": "stdout",
     "output_type": "stream",
     "text": [
      "contains three or more numbers in a row:\n",
      "\txkn59438\n",
      "\tchdsye847\n",
      "\thedle3455\n"
     ]
    }
   ],
   "source": [
    "#8\n",
    "print(\"contains three or more numbers in a row:\")\n",
    "for acc in accs: \n",
    "    if re.search(r\"\\d{3,}\", acc): \n",
    "        print(\"\\t\" + acc) "
   ]
  },
  {
   "cell_type": "code",
   "execution_count": 37,
   "id": "2a21a134",
   "metadata": {},
   "outputs": [
    {
     "name": "stdout",
     "output_type": "stream",
     "text": [
      "ends with d followed by either a, r or p:\n",
      "\t45da\n",
      "\tde37dp\n"
     ]
    }
   ],
   "source": [
    "#9\n",
    "print(\"ends with d followed by either a, r or p:\")\n",
    "for acc in accs: \n",
    "    if re.search(r\"d[arp]$\", acc): \n",
    "        print(\"\\t\" + acc) "
   ]
  }
 ],
 "metadata": {
  "kernelspec": {
   "display_name": "Python 3 (ipykernel)",
   "language": "python",
   "name": "python3"
  },
  "language_info": {
   "codemirror_mode": {
    "name": "ipython",
    "version": 3
   },
   "file_extension": ".py",
   "mimetype": "text/x-python",
   "name": "python",
   "nbconvert_exporter": "python",
   "pygments_lexer": "ipython3",
   "version": "3.11.4"
  }
 },
 "nbformat": 4,
 "nbformat_minor": 5
}
