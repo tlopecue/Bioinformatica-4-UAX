{
 "cells": [
  {
   "cell_type": "markdown",
   "id": "e87fdfc4",
   "metadata": {},
   "source": [
    "# PRACTICA JUEGO CONDICIONALES BUCLES\n",
    "\n",
    "\n",
    "## JUEGO DE ADIVINANZAS\n",
    "\n",
    "#### Escribe un programa que coja un número entero del 1 al 100, y los jugadores tienen que tratar de adivinar el número.\n",
    "\n",
    "#### Las reglas son las siguientes:\n",
    "\n",
    "1. Si un jugador escoje un número menor que 1 o mayor que 100, el programa dice \"FUERA DE LÍMITES\"\n",
    "2. En el primer turno del jugador, si está en un rango de 10 del número dice \"¡CALIENTE!\". Si está fuera de ese rango dice \"¡FRIO!\"\n",
    "3. En todas las rondas siguientes, si el jugador se acerca más que la vez anterior, dice \"¡MAS CALIENTE!\". Si está más lejos que la anterior vez dice \"¡MAS FRIO!\"\n",
    "4. Cuando el jugador acierte el número, les dirá que han acertado y cuántos intentos les ha llevado\n",
    "\n",
    "\n",
    "\n"
   ]
  },
  {
   "cell_type": "markdown",
   "id": "1ea418c3",
   "metadata": {},
   "source": [
    "##### PISTAS\n",
    "1. Trata obtener un número aleatorio entre el 1 y el 100\n",
    "2. Haz una introducción de tu juego y explica las reglas\n",
    "3. Crea una lista que almacene los intentos. \n",
    "4. Haz un bucle que evalúe un número. Prueba que funcione primero. While podría ir bien\n",
    "5. Modifica ese bucle para que compare nuestro número con el intento. Si se acierta usa break, si no puedes usar continue y tienes que seguir preguntando al jugador por nuevos intentos"
   ]
  },
  {
   "cell_type": "code",
   "execution_count": 1,
   "id": "9d8095d9",
   "metadata": {},
   "outputs": [],
   "source": [
    "def juego():\n",
    "    from random import randint\n",
    "    numero_secreto=randint(1,100)\n",
    "    print(numero_secreto)\n",
    "    lista_intentos= []\n",
    "    \n",
    "    print ('Este es el juego de las adivinanzas')    \n",
    "    print ('Intenta adivinar el número que estoy pensando')\n",
    "    print ('El número se encuentra entre el 1 y el 100')\n",
    "\n",
    "    while True:\n",
    "        intento= int(input('Dime un número del 1 al 100: '))\n",
    "        lista_intentos.append(intento)\n",
    "        if intento <1 or intento >100:\n",
    "            print('Fuera de rango')\n",
    "        elif intento == numero_secreto:\n",
    "            print('Correcto, acertaste')\n",
    "            print('Numero de intentos')\n",
    "            print (len(lista_intentos))\n",
    "            break\n",
    "        else:\n",
    "            if len(lista_intentos)==1:\n",
    "                intento_primero=abs(intento - numero_secreto)\n",
    "                if abs(intento - numero_secreto) <=10:\n",
    "                    print('Caliente')\n",
    "                    continue\n",
    "                else:\n",
    "                    print('Frio')\n",
    "                    continue\n",
    "            elif len(lista_intentos)>1:\n",
    "                intento_segundo=abs(intento-numero_secreto)\n",
    "                if intento_primero>intento_segundo:\n",
    "                    print('Muy caliente')\n",
    "                    intento_primero=intento_segundo\n",
    "                    continue\n",
    "                else:\n",
    "                    print ('Muy frio')\n",
    "                    intento_primero=intento_segundo\n",
    "            "
   ]
  }
 ],
 "metadata": {
  "kernelspec": {
   "display_name": "Python 3 (ipykernel)",
   "language": "python",
   "name": "python3"
  },
  "language_info": {
   "codemirror_mode": {
    "name": "ipython",
    "version": 3
   },
   "file_extension": ".py",
   "mimetype": "text/x-python",
   "name": "python",
   "nbconvert_exporter": "python",
   "pygments_lexer": "ipython3",
   "version": "3.12.4"
  }
 },
 "nbformat": 4,
 "nbformat_minor": 5
}
