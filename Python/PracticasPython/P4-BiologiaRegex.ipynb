{
 "cells": [
  {
   "cell_type": "markdown",
   "id": "985e6f9b",
   "metadata": {},
   "source": [
    "# PRACTICA 4\n",
    "\n",
    "### Resuelve los siguientes ejercicios\n",
    "\n",
    "Alejandro Navarro Mora, Teresa López Cuesta"
   ]
  },
  {
   "cell_type": "markdown",
   "id": "28748e51",
   "metadata": {},
   "source": [
    "##### 1.- Abre el fichero dna.txt, guarda una lista del contenido del archivo. Devuelve su longitud y su primer caracter"
   ]
  },
  {
   "cell_type": "code",
   "execution_count": 68,
   "id": "88679bbc",
   "metadata": {},
   "outputs": [
    {
     "data": {
      "text/plain": [
       "['ATCGATCGATCGATCGACTGACTAGTCATAGCTATGCATGTAGCTACTCGATCGATCGATCGATCGATCGATCGATCGATCGATCATGCTATCATCGATCGATATCGATGCATCGACTACTAT']"
      ]
     },
     "execution_count": 68,
     "metadata": {},
     "output_type": "execute_result"
    }
   ],
   "source": [
    "dna_hum=open('dna.txt')\n",
    "dna_lista=dna_hum.readlines()\n",
    "dna_lista"
   ]
  },
  {
   "cell_type": "code",
   "execution_count": 70,
   "id": "1cba0ae7-80e5-4955-ae6d-d2d2b491e5a5",
   "metadata": {},
   "outputs": [
    {
     "data": {
      "text/plain": [
       "123"
      ]
     },
     "execution_count": 70,
     "metadata": {},
     "output_type": "execute_result"
    }
   ],
   "source": [
    "dna_lista[0]\n",
    "len(dna_lista[0])"
   ]
  },
  {
   "cell_type": "code",
   "execution_count": 62,
   "id": "ba999469-79b1-4a94-94f8-1fe1fcc9b190",
   "metadata": {},
   "outputs": [
    {
     "data": {
      "text/plain": [
       "'A'"
      ]
     },
     "execution_count": 62,
     "metadata": {},
     "output_type": "execute_result"
    }
   ],
   "source": [
    "dna_lista[0]\n",
    "primer_caracter=dna_lista[0][0]\n",
    "primer_caracter"
   ]
  },
  {
   "cell_type": "markdown",
   "id": "9b87396a",
   "metadata": {},
   "source": [
    "##### 2.- Crea dos archivos. Uno almacena los accession que empiezen por 'a' y el otro el resto"
   ]
  },
  {
   "cell_type": "code",
   "execution_count": 42,
   "id": "73957856",
   "metadata": {},
   "outputs": [],
   "source": [
    "accs = ['ab56', 'bh84', 'hv76', 'ay93', 'ap97', 'bd72']"
   ]
  },
  {
   "cell_type": "code",
   "execution_count": 11,
   "id": "f0d5bca6-c1e2-4772-ba3d-414a8f8e718a",
   "metadata": {},
   "outputs": [],
   "source": [
    "archivo_a=open('archivo_uno.txt', 'w')\n",
    "archivo_resto=open('archivo_dos.txt', 'w')\n",
    "\n",
    "for accesion in accs:\n",
    "    if accesion.startswith('a'):\n",
    "        archivo_a.write(accesion + '\\n')\n",
    "    else:\n",
    "        archivo_resto.write(accesion + '\\n')"
   ]
  },
  {
   "cell_type": "markdown",
   "id": "9cbb4adf",
   "metadata": {},
   "source": [
    "##### 3.- Imprime solamente los accessions de la lista anterior que empiecen por 'a' y no acaben con '6'. Pista: usa endswith() y startswidth()"
   ]
  },
  {
   "cell_type": "code",
   "execution_count": null,
   "id": "4937d95f-aa72-4013-8f00-bd8f3a04bf70",
   "metadata": {},
   "outputs": [],
   "source": [
    "accs = ['ab56', 'bh84', 'hv76', 'ay93', 'ap97', 'bd72']"
   ]
  },
  {
   "cell_type": "code",
   "execution_count": 63,
   "id": "b32ca419",
   "metadata": {},
   "outputs": [
    {
     "name": "stdout",
     "output_type": "stream",
     "text": [
      "ay93\n",
      "ap97\n"
     ]
    }
   ],
   "source": [
    "for accesion in accs:\n",
    "    if accesion.startswith('a') and not accesion.endswith('6'):\n",
    "        print(accesion)"
   ]
  },
  {
   "cell_type": "markdown",
   "id": "42c397b0",
   "metadata": {},
   "source": [
    "##### 4.- Escribe una función que cuente el porcentaje de A de una secuencia"
   ]
  },
  {
   "cell_type": "code",
   "execution_count": 90,
   "id": "9d752419-2358-4137-8e31-7ac40f9d6d6d",
   "metadata": {},
   "outputs": [
    {
     "data": {
      "text/plain": [
       "26.82926829268293"
      ]
     },
     "execution_count": 90,
     "metadata": {},
     "output_type": "execute_result"
    }
   ],
   "source": [
    "dna_conteo=dna_lista[0]\n",
    "porcentaje_secuencia=dna_conteo.count('A')/len(dna_conteo)*100\n",
    "porcentaje_secuencia"
   ]
  },
  {
   "cell_type": "markdown",
   "id": "c31e4528-7f15-44da-9cea-3110da746721",
   "metadata": {},
   "source": [
    "##### ¿Puedes hacer que devuelva dos decimales? ¿Y que lidie con mayúsculas y minúsculas?"
   ]
  },
  {
   "cell_type": "code",
   "execution_count": 93,
   "id": "612f99df-ddb9-471d-b955-02af00a4898c",
   "metadata": {},
   "outputs": [],
   "source": [
    "def calculo_a(secuencia):\n",
    "    secuencia.upper()\n",
    "    conteo_a=secuencia.count('A')\n",
    "    longitud=len(secuencia)\n",
    "    porcentaje=(conteo_a/longitud)*100\n",
    "    return round(porcentaje,2)"
   ]
  },
  {
   "cell_type": "code",
   "execution_count": 97,
   "id": "856fb77d-dd5a-4df6-a960-07b9a4a9d3ce",
   "metadata": {},
   "outputs": [
    {
     "data": {
      "text/plain": [
       "26.83"
      ]
     },
     "execution_count": 97,
     "metadata": {},
     "output_type": "execute_result"
    }
   ],
   "source": [
    "calculo_a(dna_conteo)"
   ]
  },
  {
   "cell_type": "markdown",
   "id": "36a03b5f",
   "metadata": {},
   "source": [
    "##### ¿Y que devuelva el número de decimales que yo quiero?"
   ]
  },
  {
   "cell_type": "code",
   "execution_count": 113,
   "id": "1ac51951",
   "metadata": {},
   "outputs": [],
   "source": [
    "def calculo_def(secuencia):\n",
    "    secuencia.upper()\n",
    "    conteo_a=secuencia.count('A')\n",
    "    longitud=len(secuencia)\n",
    "    porcentaje=(conteo_a/longitud)*100\n",
    "    return round(porcentaje,9)"
   ]
  },
  {
   "cell_type": "code",
   "execution_count": 115,
   "id": "bc2efbfd-7d0e-40b9-9f68-e2ae89cb29e4",
   "metadata": {},
   "outputs": [
    {
     "data": {
      "text/plain": [
       "26.829268293"
      ]
     },
     "execution_count": 115,
     "metadata": {},
     "output_type": "execute_result"
    }
   ],
   "source": [
    "calculo_def(dna_conteo)"
   ]
  },
  {
   "cell_type": "markdown",
   "id": "2c811d84",
   "metadata": {},
   "source": [
    "##### ¿Sabes poner un valor por defecto en un argumento?"
   ]
  },
  {
   "cell_type": "code",
   "execution_count": 117,
   "id": "60981086",
   "metadata": {},
   "outputs": [],
   "source": [
    "def calculo_def(secuencia,decimal=2):\n",
    "    secuencia.upper()\n",
    "    conteo_a=secuencia.count('A')\n",
    "    longitud=len(secuencia)\n",
    "    porcentaje=(conteo_a/longitud)*100\n",
    "    return round(porcentaje,decimal)"
   ]
  },
  {
   "cell_type": "code",
   "execution_count": 123,
   "id": "155da695-3cff-462c-8b3b-205c02773ee4",
   "metadata": {},
   "outputs": [
    {
     "data": {
      "text/plain": [
       "26.83"
      ]
     },
     "execution_count": 123,
     "metadata": {},
     "output_type": "execute_result"
    }
   ],
   "source": [
    "calculo_def(dna_conteo)"
   ]
  },
  {
   "cell_type": "markdown",
   "id": "ab2c106c",
   "metadata": {},
   "source": [
    "##### ¿Qué pasa si no ponemos un argumento? ¿Sabrías hacer una función encapsulada?"
   ]
  },
  {
   "cell_type": "code",
   "execution_count": 168,
   "id": "b155dc1e",
   "metadata": {},
   "outputs": [],
   "source": [
    "secuencia=dna_lista[0]\n",
    "\n",
    "def calculo_def():\n",
    "    secuencia.upper()\n",
    "    conteo_a=secuencia.count('A')\n",
    "    longitud=len(secuencia)\n",
    "    porcentaje=(conteo_a/longitud)*100\n",
    "    return round(porcentaje)"
   ]
  },
  {
   "cell_type": "code",
   "execution_count": 170,
   "id": "360b3557-5cbb-4d06-9c51-4800efcf1bc9",
   "metadata": {},
   "outputs": [
    {
     "data": {
      "text/plain": [
       "27"
      ]
     },
     "execution_count": 170,
     "metadata": {},
     "output_type": "execute_result"
    }
   ],
   "source": [
    "calculo_def()"
   ]
  },
  {
   "cell_type": "markdown",
   "id": "83af4b0f",
   "metadata": {},
   "source": [
    "##### Testea tu función original con assert"
   ]
  },
  {
   "cell_type": "code",
   "execution_count": 178,
   "id": "1fda9bc0",
   "metadata": {},
   "outputs": [],
   "source": [
    "def calculo_def(secuencia,decimal=2):\n",
    "    secuencia.upper()\n",
    "    conteo_a=secuencia.count('A')\n",
    "    longitud=len(secuencia)\n",
    "    porcentaje=(conteo_a/longitud)*100\n",
    "    return round(porcentaje,decimal)"
   ]
  },
  {
   "cell_type": "code",
   "execution_count": 180,
   "id": "69534fba",
   "metadata": {},
   "outputs": [
    {
     "data": {
      "text/plain": [
       "26.83"
      ]
     },
     "execution_count": 180,
     "metadata": {},
     "output_type": "execute_result"
    }
   ],
   "source": [
    "calculo_def(dna_conteo)"
   ]
  },
  {
   "cell_type": "code",
   "execution_count": 199,
   "id": "2bf31b44",
   "metadata": {},
   "outputs": [],
   "source": [
    "assert calculo_def(secuencia)==26.83\n",
    "assert calculo_def('AAAG') == 75.00"
   ]
  },
  {
   "cell_type": "markdown",
   "id": "991abaa2",
   "metadata": {},
   "source": [
    "#### 5.- De la lista de accessions que se proporciona obtén lo siguiente:\n",
    "1. Los que tengan el número 5\n",
    "2. Los que tengan la letra 'd' o la 'e'\n",
    "3. Los que tengan las letras 'd' y 'e' en ese orden\n",
    "4. Los que tengan las letras 'd' y 'e' en ese orden con una letra cualquiera en medio\n",
    "5. Los que tengan ambas letras 'd' y 'e' en cualquier orden\n",
    "6. Los que empiezan por 'x' o por 'y'\n",
    "7. Los que empiezan por 'x' o 'y' y terminan por 'e'\n",
    "8. Los que tienen tres o más dígitos seguidos\n",
    "9. Los que terminan con 'd' seguidos de 'a' o 'r' o 'p'"
   ]
  },
  {
   "cell_type": "code",
   "execution_count": 296,
   "id": "6388ac75",
   "metadata": {},
   "outputs": [],
   "source": [
    "import re"
   ]
  },
  {
   "cell_type": "code",
   "execution_count": 321,
   "id": "d00d3ce7",
   "metadata": {},
   "outputs": [],
   "source": [
    "accs = ['xkn59438', 'yhdck2', 'eihd39d9', 'chdsye847', 'hedle3455', 'xjhd53e', '45da', 'de37dp']"
   ]
  },
  {
   "cell_type": "code",
   "execution_count": 251,
   "id": "f3a02688-4274-45f1-8518-ba186de3e367",
   "metadata": {},
   "outputs": [
    {
     "name": "stdout",
     "output_type": "stream",
     "text": [
      "xkn59438\n",
      "hedle3455\n",
      "xjhd53e\n",
      "45da\n"
     ]
    }
   ],
   "source": [
    "for accesion in accs:\n",
    "    if re.search(r'5',accesion):\n",
    "        print(accesion)"
   ]
  },
  {
   "cell_type": "code",
   "execution_count": 254,
   "id": "f54af865-839b-47a5-8a13-39c0dd6f5fd1",
   "metadata": {},
   "outputs": [
    {
     "name": "stdout",
     "output_type": "stream",
     "text": [
      "yhdck2\n",
      "eihd39d9\n",
      "chdsye847\n",
      "hedle3455\n",
      "xjhd53e\n",
      "45da\n",
      "de37dp\n"
     ]
    }
   ],
   "source": [
    "for accesion in accs:\n",
    "    if re.search(r'd|e',accesion):\n",
    "        print(accesion)"
   ]
  },
  {
   "cell_type": "code",
   "execution_count": 260,
   "id": "4ab1dbd4-69fa-4db1-85a5-82b03271df45",
   "metadata": {},
   "outputs": [
    {
     "name": "stdout",
     "output_type": "stream",
     "text": [
      "de37dp\n"
     ]
    }
   ],
   "source": [
    "for accesion in accs:\n",
    "    if re.search(r'de',accesion):\n",
    "        print(accesion)"
   ]
  },
  {
   "cell_type": "code",
   "execution_count": 267,
   "id": "37b47d4d-cb57-4a44-b014-1bfbd5566598",
   "metadata": {},
   "outputs": [
    {
     "name": "stdout",
     "output_type": "stream",
     "text": [
      "hedle3455\n"
     ]
    }
   ],
   "source": [
    "for accesion in accs:\n",
    "    if re.search(r'd[^de]e',accesion):\n",
    "        print(accesion)"
   ]
  },
  {
   "cell_type": "code",
   "execution_count": 274,
   "id": "02dce517-22f2-4eae-84ea-8881f79bd31f",
   "metadata": {},
   "outputs": [
    {
     "name": "stdout",
     "output_type": "stream",
     "text": [
      "yhdck2\n",
      "eihd39d9\n",
      "chdsye847\n",
      "hedle3455\n",
      "xjhd53e\n",
      "45da\n",
      "de37dp\n"
     ]
    }
   ],
   "source": [
    "for accesion in accs:\n",
    "    if re.search(r'[de]',accesion):\n",
    "        print(accesion)"
   ]
  },
  {
   "cell_type": "code",
   "execution_count": 335,
   "id": "c778a0f2-3982-43f5-b3a7-3b68810f3dc0",
   "metadata": {},
   "outputs": [],
   "source": [
    "for accesion in accs:\n",
    "    if accesion.startswith('(x|y)'):\n",
    "        print(accesion)"
   ]
  },
  {
   "cell_type": "code",
   "execution_count": 339,
   "id": "1ef479e3-8313-451e-abb7-cbe764c3b702",
   "metadata": {},
   "outputs": [
    {
     "name": "stdout",
     "output_type": "stream",
     "text": [
      "xkn59438\n",
      "yhdck2\n",
      "xjhd53e\n"
     ]
    }
   ],
   "source": [
    "for ac in accs:\n",
    "    if re.search(r'^(x|y)',ac):\n",
    "        print(ac)"
   ]
  },
  {
   "cell_type": "code",
   "execution_count": 341,
   "id": "a1105432-61fa-4781-baba-b8aa8e808f1a",
   "metadata": {},
   "outputs": [
    {
     "name": "stdout",
     "output_type": "stream",
     "text": [
      "xjhd53e\n"
     ]
    }
   ],
   "source": [
    "for ac in accs:\n",
    "    if re.search(r'^(x|y)',ac) and ac.endswith('e'):\n",
    "        print(ac)"
   ]
  },
  {
   "cell_type": "code",
   "execution_count": 349,
   "id": "87b2ad59-801e-49d2-b055-ddfecbdd1bf2",
   "metadata": {},
   "outputs": [
    {
     "name": "stdout",
     "output_type": "stream",
     "text": [
      "xkn59438\n",
      "chdsye847\n",
      "hedle3455\n"
     ]
    }
   ],
   "source": [
    "for accesion in accs:\n",
    "    if re.search(r'\\d{3,}',accesion):\n",
    "        print(accesion)"
   ]
  },
  {
   "cell_type": "code",
   "execution_count": 380,
   "id": "8e2f7289-e994-48b4-9994-0181b7afaa74",
   "metadata": {},
   "outputs": [
    {
     "name": "stdout",
     "output_type": "stream",
     "text": [
      "45da\n",
      "de37dp\n"
     ]
    }
   ],
   "source": [
    "for ac in accs:\n",
    "    if re.search('d[arp]$',ac):\n",
    "        print(ac)"
   ]
  },
  {
   "cell_type": "code",
   "execution_count": null,
   "id": "bebb1ad4-f6b1-4c7e-90fe-61cae5b7d37d",
   "metadata": {},
   "outputs": [],
   "source": []
  }
 ],
 "metadata": {
  "kernelspec": {
   "display_name": "Python 3 (ipykernel)",
   "language": "python",
   "name": "python3"
  },
  "language_info": {
   "codemirror_mode": {
    "name": "ipython",
    "version": 3
   },
   "file_extension": ".py",
   "mimetype": "text/x-python",
   "name": "python",
   "nbconvert_exporter": "python",
   "pygments_lexer": "ipython3",
   "version": "3.12.4"
  }
 },
 "nbformat": 4,
 "nbformat_minor": 5
}
